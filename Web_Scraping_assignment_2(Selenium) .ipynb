{
 "cells": [
  {
   "cell_type": "code",
   "execution_count": 106,
   "id": "f224a555",
   "metadata": {},
   "outputs": [
    {
     "name": "stdout",
     "output_type": "stream",
     "text": [
      "Requirement already satisfied: selenium in c:\\programdata\\anaconda3\\lib\\site-packages (3.141.0)\n",
      "Requirement already satisfied: urllib3 in c:\\programdata\\anaconda3\\lib\\site-packages (from selenium) (1.26.4)\n"
     ]
    }
   ],
   "source": [
    "#installing the selenium\n",
    "!pip install selenium"
   ]
  },
  {
   "cell_type": "code",
   "execution_count": 1,
   "id": "78d276b3",
   "metadata": {},
   "outputs": [],
   "source": [
    "#importing all the required libraries\n",
    "import selenium\n",
    "import pandas as pd\n",
    "from selenium import webdriver\n",
    "import time\n",
    "from selenium.common.exceptions import NoSuchElementException   "
   ]
  },
  {
   "cell_type": "markdown",
   "id": "64776e41",
   "metadata": {},
   "source": [
    "# Q1: Write a python program to scrape data for “Data Analyst” Job position in “Bangalore” location. You have to scrape the job-title, job-location, company_name, experience_required. You have to scrape first 10 jobs data. This task will be done in following steps:"
   ]
  },
  {
   "cell_type": "markdown",
   "id": "b12f6a57",
   "metadata": {},
   "source": [
    "1.First get the webpage https://www.naukri.com/\n",
    "\n",
    "2.Enter “Data Analyst” in “Skill,Designations,Companies” field and enter “Bangalore” in “enter the location” field.\n",
    "\n",
    "3.Then click the search button.\n",
    "\n",
    "4.Then scrape the data for the first 10 jobs results you get.\n",
    "\n",
    "5.Finally create a dataframe of the scraped data."
   ]
  },
  {
   "cell_type": "code",
   "execution_count": 107,
   "id": "df83cdc8",
   "metadata": {},
   "outputs": [],
   "source": [
    "driver=webdriver.Chrome(r\"C:\\Users\\Win 10\\Downloads\\chromedriver_win32\\chromedriver\")"
   ]
  },
  {
   "cell_type": "code",
   "execution_count": 108,
   "id": "2c69d7ea",
   "metadata": {},
   "outputs": [],
   "source": [
    "driver=webdriver.Chrome(\"chromedriver\")"
   ]
  },
  {
   "cell_type": "code",
   "execution_count": 4,
   "id": "0dd246cc",
   "metadata": {},
   "outputs": [],
   "source": [
    "#passing the url\n",
    "url='https://www.naukri.com/'\n",
    "driver.get(url)"
   ]
  },
  {
   "cell_type": "code",
   "execution_count": 6,
   "id": "b0a2f31f",
   "metadata": {},
   "outputs": [
    {
     "data": {
      "text/plain": [
       "<selenium.webdriver.remote.webelement.WebElement (session=\"0a476ca7763f2f368979c83bf6b712a0\", element=\"949d14fc-7a50-4e7b-a3a6-a18585158bd6\")>"
      ]
     },
     "execution_count": 6,
     "metadata": {},
     "output_type": "execute_result"
    }
   ],
   "source": [
    "search_job=driver.find_element_by_xpath('//input[@class=\"sugInp\"]') #fetching search job field using xpath\n",
    "search_job"
   ]
  },
  {
   "cell_type": "code",
   "execution_count": 7,
   "id": "a955934f",
   "metadata": {},
   "outputs": [],
   "source": [
    "search_job.send_keys(\"Data Analyst\") #sending the input"
   ]
  },
  {
   "cell_type": "code",
   "execution_count": 8,
   "id": "6f271e9b",
   "metadata": {},
   "outputs": [],
   "source": [
    "search_loc=driver.find_element_by_id(\"qsb-location-sugg\")  \n",
    "search_loc.send_keys(\"Bangalore\")  #sending the input for location"
   ]
  },
  {
   "cell_type": "code",
   "execution_count": 10,
   "id": "cbec44e8",
   "metadata": {},
   "outputs": [],
   "source": [
    "search_btn=driver.find_element_by_class_name('btn') #fetching search tag using class name\n",
    "search_btn.click()        #submitting"
   ]
  },
  {
   "cell_type": "code",
   "execution_count": 12,
   "id": "a63d3f66",
   "metadata": {},
   "outputs": [
    {
     "data": {
      "text/plain": [
       "[<selenium.webdriver.remote.webelement.WebElement (session=\"0a476ca7763f2f368979c83bf6b712a0\", element=\"dbe1220e-130f-4159-b7c3-fdc235022b14\")>,\n",
       " <selenium.webdriver.remote.webelement.WebElement (session=\"0a476ca7763f2f368979c83bf6b712a0\", element=\"719d7c82-7552-4c0f-bc45-6ee24dfc67c6\")>,\n",
       " <selenium.webdriver.remote.webelement.WebElement (session=\"0a476ca7763f2f368979c83bf6b712a0\", element=\"773425e7-671d-4dee-87a0-6a43d8c3fe6f\")>,\n",
       " <selenium.webdriver.remote.webelement.WebElement (session=\"0a476ca7763f2f368979c83bf6b712a0\", element=\"d7dd4bd8-d16a-4ac8-b53d-819417456f9a\")>,\n",
       " <selenium.webdriver.remote.webelement.WebElement (session=\"0a476ca7763f2f368979c83bf6b712a0\", element=\"08d9108b-ef2c-4991-beb5-30cebff63136\")>,\n",
       " <selenium.webdriver.remote.webelement.WebElement (session=\"0a476ca7763f2f368979c83bf6b712a0\", element=\"24900601-fb3f-41d8-a5d9-4238b3e573ad\")>,\n",
       " <selenium.webdriver.remote.webelement.WebElement (session=\"0a476ca7763f2f368979c83bf6b712a0\", element=\"1c012854-1cd3-4169-ac0f-a274e37ef8cb\")>,\n",
       " <selenium.webdriver.remote.webelement.WebElement (session=\"0a476ca7763f2f368979c83bf6b712a0\", element=\"ba157b13-a237-4e5b-b5dc-e2e458f3f749\")>,\n",
       " <selenium.webdriver.remote.webelement.WebElement (session=\"0a476ca7763f2f368979c83bf6b712a0\", element=\"30c6bfad-dc92-4099-b35d-01186e5adc9f\")>,\n",
       " <selenium.webdriver.remote.webelement.WebElement (session=\"0a476ca7763f2f368979c83bf6b712a0\", element=\"6cfd8dee-35e4-4475-9c72-a590d62e4ab9\")>,\n",
       " <selenium.webdriver.remote.webelement.WebElement (session=\"0a476ca7763f2f368979c83bf6b712a0\", element=\"aada3679-0006-4015-acc6-824455ecb1c5\")>,\n",
       " <selenium.webdriver.remote.webelement.WebElement (session=\"0a476ca7763f2f368979c83bf6b712a0\", element=\"7b1ae2d5-445b-4bd3-82d9-91cc8ea08e2e\")>,\n",
       " <selenium.webdriver.remote.webelement.WebElement (session=\"0a476ca7763f2f368979c83bf6b712a0\", element=\"8a3a5194-a34f-4d45-aa7d-6cf746ee20aa\")>,\n",
       " <selenium.webdriver.remote.webelement.WebElement (session=\"0a476ca7763f2f368979c83bf6b712a0\", element=\"776eaff5-aeae-4caa-990d-eeaa06e5c572\")>,\n",
       " <selenium.webdriver.remote.webelement.WebElement (session=\"0a476ca7763f2f368979c83bf6b712a0\", element=\"9de0d9d5-ae15-4e86-ba6f-39972a9132b4\")>,\n",
       " <selenium.webdriver.remote.webelement.WebElement (session=\"0a476ca7763f2f368979c83bf6b712a0\", element=\"6da81bb1-24da-4a3d-907d-e4fa8f596031\")>,\n",
       " <selenium.webdriver.remote.webelement.WebElement (session=\"0a476ca7763f2f368979c83bf6b712a0\", element=\"02eba889-6a8f-4f40-b6c6-6acc6af281c6\")>,\n",
       " <selenium.webdriver.remote.webelement.WebElement (session=\"0a476ca7763f2f368979c83bf6b712a0\", element=\"9769e324-0ef7-4970-af7e-26f6b858af5a\")>,\n",
       " <selenium.webdriver.remote.webelement.WebElement (session=\"0a476ca7763f2f368979c83bf6b712a0\", element=\"2d8f6827-be1e-42ab-a499-46ce46a202a1\")>,\n",
       " <selenium.webdriver.remote.webelement.WebElement (session=\"0a476ca7763f2f368979c83bf6b712a0\", element=\"1c429a1a-d21e-43c0-b8b3-094120ca09d6\")>]"
      ]
     },
     "execution_count": 12,
     "metadata": {},
     "output_type": "execute_result"
    }
   ],
   "source": [
    "titles_tags=driver.find_elements_by_xpath(\"//a[@class='title fw500 ellipsis']\")  #for fetching the job title\n",
    "titles_tags"
   ]
  },
  {
   "cell_type": "code",
   "execution_count": 13,
   "id": "d6853faf",
   "metadata": {},
   "outputs": [
    {
     "data": {
      "text/plain": [
       "['Senior Data Analyst',\n",
       " 'Executive Data Analyst',\n",
       " 'Business Data Analyst - MIS & Reporting',\n",
       " 'Senior Data Analyst',\n",
       " 'Senior Data Analyst',\n",
       " 'Senior Data Analyst - Supporting Audits',\n",
       " 'SENIOR MARKETING DATA ANALYST',\n",
       " 'Data Analyst - Quantitative Support Team',\n",
       " 'Urgent Openings For Data Analysts.',\n",
       " 'Sr Data Analyst']"
      ]
     },
     "execution_count": 13,
     "metadata": {},
     "output_type": "execute_result"
    }
   ],
   "source": [
    "job_titles=[]\n",
    "for i in titles_tags:\n",
    "    job_titles.append(i.text)\n",
    "job_titles[0:10]"
   ]
  },
  {
   "cell_type": "code",
   "execution_count": 14,
   "id": "4c0c0145",
   "metadata": {},
   "outputs": [
    {
     "data": {
      "text/plain": [
       "[<selenium.webdriver.remote.webelement.WebElement (session=\"0a476ca7763f2f368979c83bf6b712a0\", element=\"3323ef10-4299-4ebc-8752-920dba48166f\")>,\n",
       " <selenium.webdriver.remote.webelement.WebElement (session=\"0a476ca7763f2f368979c83bf6b712a0\", element=\"6687b63b-452e-4b0f-b46d-a6104590bd36\")>,\n",
       " <selenium.webdriver.remote.webelement.WebElement (session=\"0a476ca7763f2f368979c83bf6b712a0\", element=\"23e19fd6-5f6e-41b5-89c4-ed57125a32d2\")>,\n",
       " <selenium.webdriver.remote.webelement.WebElement (session=\"0a476ca7763f2f368979c83bf6b712a0\", element=\"0728d3ba-0f1b-4c9f-9703-31579b419120\")>,\n",
       " <selenium.webdriver.remote.webelement.WebElement (session=\"0a476ca7763f2f368979c83bf6b712a0\", element=\"cc7e8df0-796a-4f22-9451-1305b9a913c4\")>,\n",
       " <selenium.webdriver.remote.webelement.WebElement (session=\"0a476ca7763f2f368979c83bf6b712a0\", element=\"9647c06a-a27b-4403-a7c4-fbd74ad66765\")>,\n",
       " <selenium.webdriver.remote.webelement.WebElement (session=\"0a476ca7763f2f368979c83bf6b712a0\", element=\"df0ccdcc-96ac-4d4c-94bd-825114cbb6f8\")>,\n",
       " <selenium.webdriver.remote.webelement.WebElement (session=\"0a476ca7763f2f368979c83bf6b712a0\", element=\"5e7b5c56-7648-4b01-b724-f9307a9b9af4\")>,\n",
       " <selenium.webdriver.remote.webelement.WebElement (session=\"0a476ca7763f2f368979c83bf6b712a0\", element=\"1c54064d-b4db-4a00-8c85-f236505b8a58\")>,\n",
       " <selenium.webdriver.remote.webelement.WebElement (session=\"0a476ca7763f2f368979c83bf6b712a0\", element=\"4928017b-42b0-49c6-aaf0-834379bde395\")>,\n",
       " <selenium.webdriver.remote.webelement.WebElement (session=\"0a476ca7763f2f368979c83bf6b712a0\", element=\"3bb2a87f-40fc-444d-97ec-f2539265b53a\")>,\n",
       " <selenium.webdriver.remote.webelement.WebElement (session=\"0a476ca7763f2f368979c83bf6b712a0\", element=\"68a25af8-4ff4-424d-91d8-bdf0163c54b9\")>,\n",
       " <selenium.webdriver.remote.webelement.WebElement (session=\"0a476ca7763f2f368979c83bf6b712a0\", element=\"a55ea14f-f10b-44b2-809c-1d890605086f\")>,\n",
       " <selenium.webdriver.remote.webelement.WebElement (session=\"0a476ca7763f2f368979c83bf6b712a0\", element=\"93ecbcb9-2dd9-46dd-9b3c-594f1b47f7cb\")>,\n",
       " <selenium.webdriver.remote.webelement.WebElement (session=\"0a476ca7763f2f368979c83bf6b712a0\", element=\"dd6029a7-9cc0-45bc-8103-58925509d8ea\")>,\n",
       " <selenium.webdriver.remote.webelement.WebElement (session=\"0a476ca7763f2f368979c83bf6b712a0\", element=\"de194988-7540-4930-9357-79d0c5d5d7bc\")>,\n",
       " <selenium.webdriver.remote.webelement.WebElement (session=\"0a476ca7763f2f368979c83bf6b712a0\", element=\"f9b72b7e-fbcc-44eb-b2bc-067115c3cdcb\")>,\n",
       " <selenium.webdriver.remote.webelement.WebElement (session=\"0a476ca7763f2f368979c83bf6b712a0\", element=\"f53fd021-4913-4a19-bcb1-3dd70b833ac5\")>,\n",
       " <selenium.webdriver.remote.webelement.WebElement (session=\"0a476ca7763f2f368979c83bf6b712a0\", element=\"5d8c1c8c-5d62-4784-9aae-6530e348d32d\")>,\n",
       " <selenium.webdriver.remote.webelement.WebElement (session=\"0a476ca7763f2f368979c83bf6b712a0\", element=\"b11b7df2-3d14-4ff1-8acb-abc0827bf7b7\")>]"
      ]
     },
     "execution_count": 14,
     "metadata": {},
     "output_type": "execute_result"
    }
   ],
   "source": [
    "#extracting the data of company_names\n",
    "companies_tags=driver.find_elements_by_xpath(\"//a[@class='subTitle ellipsis fleft']\")\n",
    "companies_tags"
   ]
  },
  {
   "cell_type": "code",
   "execution_count": 15,
   "id": "d8075c08",
   "metadata": {},
   "outputs": [
    {
     "data": {
      "text/plain": [
       "['Virtusa Consulting Services Pvt Ltd',\n",
       " 'Gokaldas Exports Ltd',\n",
       " 'INTERTRUST GROUP',\n",
       " 'Flipkart',\n",
       " 'Flipkart',\n",
       " 'Visa Inc.',\n",
       " 'McAfee Software (India) Pvt. Ltd',\n",
       " 'TresVista Financial',\n",
       " 'Flipkart Internet Private Limited',\n",
       " 'Target Corporation India Pvt Ltd']"
      ]
     },
     "execution_count": 15,
     "metadata": {},
     "output_type": "execute_result"
    }
   ],
   "source": [
    "company_names=[]\n",
    "for i in companies_tags:\n",
    "    company_names.append(i.text)\n",
    "company_names[0:10]    "
   ]
  },
  {
   "cell_type": "code",
   "execution_count": 16,
   "id": "6962c7c1",
   "metadata": {},
   "outputs": [
    {
     "data": {
      "text/plain": [
       "[<selenium.webdriver.remote.webelement.WebElement (session=\"0a476ca7763f2f368979c83bf6b712a0\", element=\"98b1c0ec-ac26-4fc7-8528-57b13625e07b\")>,\n",
       " <selenium.webdriver.remote.webelement.WebElement (session=\"0a476ca7763f2f368979c83bf6b712a0\", element=\"0901ecfa-65e6-461c-aa04-0be294d204d0\")>,\n",
       " <selenium.webdriver.remote.webelement.WebElement (session=\"0a476ca7763f2f368979c83bf6b712a0\", element=\"58db32c5-6068-4a21-b760-740f222c6ff4\")>,\n",
       " <selenium.webdriver.remote.webelement.WebElement (session=\"0a476ca7763f2f368979c83bf6b712a0\", element=\"d6f84910-730e-4943-934b-e5ce191844cf\")>,\n",
       " <selenium.webdriver.remote.webelement.WebElement (session=\"0a476ca7763f2f368979c83bf6b712a0\", element=\"5a129334-3ab4-43c0-851a-c31e921ce7c7\")>,\n",
       " <selenium.webdriver.remote.webelement.WebElement (session=\"0a476ca7763f2f368979c83bf6b712a0\", element=\"264a32d3-0e2e-48f4-858f-b26669ff8a4b\")>,\n",
       " <selenium.webdriver.remote.webelement.WebElement (session=\"0a476ca7763f2f368979c83bf6b712a0\", element=\"fbce897e-526e-4d0d-8e94-d13a591943da\")>,\n",
       " <selenium.webdriver.remote.webelement.WebElement (session=\"0a476ca7763f2f368979c83bf6b712a0\", element=\"55daf7dc-2ea2-44b1-b456-3083193423e5\")>,\n",
       " <selenium.webdriver.remote.webelement.WebElement (session=\"0a476ca7763f2f368979c83bf6b712a0\", element=\"67e01ce5-2cf7-4f92-94e3-013ef4a22f6b\")>,\n",
       " <selenium.webdriver.remote.webelement.WebElement (session=\"0a476ca7763f2f368979c83bf6b712a0\", element=\"7f1cc9f3-7e0c-45b1-8ef7-2c27fe372be7\")>,\n",
       " <selenium.webdriver.remote.webelement.WebElement (session=\"0a476ca7763f2f368979c83bf6b712a0\", element=\"8f5a46ab-9ded-47c6-982d-c74c9c261a13\")>,\n",
       " <selenium.webdriver.remote.webelement.WebElement (session=\"0a476ca7763f2f368979c83bf6b712a0\", element=\"6ec80c9f-a1e5-469e-b0f7-73c2b1039f83\")>,\n",
       " <selenium.webdriver.remote.webelement.WebElement (session=\"0a476ca7763f2f368979c83bf6b712a0\", element=\"6e5f89b2-7d74-4fc8-a917-1d8cd95b121e\")>,\n",
       " <selenium.webdriver.remote.webelement.WebElement (session=\"0a476ca7763f2f368979c83bf6b712a0\", element=\"3a7c6328-bd9b-4752-ad8e-e18949cf0edf\")>,\n",
       " <selenium.webdriver.remote.webelement.WebElement (session=\"0a476ca7763f2f368979c83bf6b712a0\", element=\"9effa74e-8999-4bf9-bed1-80ac93d013ec\")>,\n",
       " <selenium.webdriver.remote.webelement.WebElement (session=\"0a476ca7763f2f368979c83bf6b712a0\", element=\"f3f6a930-ddcb-4121-8cf0-21ddd41be8ca\")>,\n",
       " <selenium.webdriver.remote.webelement.WebElement (session=\"0a476ca7763f2f368979c83bf6b712a0\", element=\"56a20fb9-1749-438c-b603-45f295bf5fb4\")>,\n",
       " <selenium.webdriver.remote.webelement.WebElement (session=\"0a476ca7763f2f368979c83bf6b712a0\", element=\"166263e5-e78a-4f3d-978d-99e15ae96c28\")>,\n",
       " <selenium.webdriver.remote.webelement.WebElement (session=\"0a476ca7763f2f368979c83bf6b712a0\", element=\"9b9ff6d8-b2be-49c5-b670-decc317a70ca\")>,\n",
       " <selenium.webdriver.remote.webelement.WebElement (session=\"0a476ca7763f2f368979c83bf6b712a0\", element=\"1f342239-8a9d-4377-a357-f77cbab76dfe\")>]"
      ]
     },
     "execution_count": 16,
     "metadata": {},
     "output_type": "execute_result"
    }
   ],
   "source": [
    "#extracting the data of job location\n",
    "location_tags=driver.find_elements_by_xpath(\"//li[@class='fleft grey-text br2 placeHolderLi location']\")\n",
    "location_tags"
   ]
  },
  {
   "cell_type": "code",
   "execution_count": 17,
   "id": "269ebf6c",
   "metadata": {},
   "outputs": [
    {
     "data": {
      "text/plain": [
       "['Hyderabad/Secunderabad, Pune, Gurgaon/Gurugram, Chennai, Bangalore/Bengaluru, Mumbai (All Areas)\\n(WFH during Covid)',\n",
       " 'Bangalore/Bengaluru',\n",
       " 'Mumbai, Bangalore/Bengaluru',\n",
       " 'Bangalore/Bengaluru',\n",
       " 'Bangalore/Bengaluru',\n",
       " 'Bangalore/Bengaluru',\n",
       " 'Bangalore/Bengaluru',\n",
       " 'Mumbai, Pune, Bangalore/Bengaluru',\n",
       " 'Bangalore/Bengaluru(Devarabeesana Halli)\\n(WFH during Covid)',\n",
       " 'Bangalore/Bengaluru']"
      ]
     },
     "execution_count": 17,
     "metadata": {},
     "output_type": "execute_result"
    }
   ],
   "source": [
    "location=[]\n",
    "for i in location_tags:\n",
    "    location.append(i.text)\n",
    "location[0:10]"
   ]
  },
  {
   "cell_type": "code",
   "execution_count": 18,
   "id": "2b56b6ed",
   "metadata": {},
   "outputs": [
    {
     "data": {
      "text/plain": [
       "[<selenium.webdriver.remote.webelement.WebElement (session=\"0a476ca7763f2f368979c83bf6b712a0\", element=\"887daaa7-d5b3-47d2-a4a9-2a5d4c64867e\")>,\n",
       " <selenium.webdriver.remote.webelement.WebElement (session=\"0a476ca7763f2f368979c83bf6b712a0\", element=\"69f2a418-c277-4417-9006-f25c09a955f8\")>,\n",
       " <selenium.webdriver.remote.webelement.WebElement (session=\"0a476ca7763f2f368979c83bf6b712a0\", element=\"19a05f3b-7c87-4633-90aa-4d8fe1babcc8\")>,\n",
       " <selenium.webdriver.remote.webelement.WebElement (session=\"0a476ca7763f2f368979c83bf6b712a0\", element=\"5dfd3dcc-4e3a-4cfc-be44-27918af26b23\")>,\n",
       " <selenium.webdriver.remote.webelement.WebElement (session=\"0a476ca7763f2f368979c83bf6b712a0\", element=\"092df695-8430-4a4b-837b-ea8f5921b097\")>,\n",
       " <selenium.webdriver.remote.webelement.WebElement (session=\"0a476ca7763f2f368979c83bf6b712a0\", element=\"22c2930a-a888-4479-915f-f5d3724c41f3\")>,\n",
       " <selenium.webdriver.remote.webelement.WebElement (session=\"0a476ca7763f2f368979c83bf6b712a0\", element=\"c22e69d8-46f8-4bc2-a860-bf83f3f4679a\")>,\n",
       " <selenium.webdriver.remote.webelement.WebElement (session=\"0a476ca7763f2f368979c83bf6b712a0\", element=\"a4a69837-7092-467d-af49-23128a5fbfd5\")>,\n",
       " <selenium.webdriver.remote.webelement.WebElement (session=\"0a476ca7763f2f368979c83bf6b712a0\", element=\"4bca1690-2fc2-4b96-90ca-e60212d403ce\")>,\n",
       " <selenium.webdriver.remote.webelement.WebElement (session=\"0a476ca7763f2f368979c83bf6b712a0\", element=\"33289d82-5ff6-4afc-bb6e-cc642496ceaf\")>,\n",
       " <selenium.webdriver.remote.webelement.WebElement (session=\"0a476ca7763f2f368979c83bf6b712a0\", element=\"5e3e1fe8-aa72-4548-805a-9a69270843e9\")>,\n",
       " <selenium.webdriver.remote.webelement.WebElement (session=\"0a476ca7763f2f368979c83bf6b712a0\", element=\"a67614b7-6761-4238-b605-b725598e4ed9\")>,\n",
       " <selenium.webdriver.remote.webelement.WebElement (session=\"0a476ca7763f2f368979c83bf6b712a0\", element=\"80410860-24da-4377-bbc4-853a2aad6137\")>,\n",
       " <selenium.webdriver.remote.webelement.WebElement (session=\"0a476ca7763f2f368979c83bf6b712a0\", element=\"1cd7a839-62fd-4255-8ca1-d916712eb39d\")>,\n",
       " <selenium.webdriver.remote.webelement.WebElement (session=\"0a476ca7763f2f368979c83bf6b712a0\", element=\"1d48755d-441d-4efa-a733-69016ddb545e\")>,\n",
       " <selenium.webdriver.remote.webelement.WebElement (session=\"0a476ca7763f2f368979c83bf6b712a0\", element=\"7ae0dc06-3b4c-4204-9711-9d98c264d47f\")>,\n",
       " <selenium.webdriver.remote.webelement.WebElement (session=\"0a476ca7763f2f368979c83bf6b712a0\", element=\"990aeae9-ae40-4d3c-976c-8ea24c8820aa\")>,\n",
       " <selenium.webdriver.remote.webelement.WebElement (session=\"0a476ca7763f2f368979c83bf6b712a0\", element=\"f21c57f9-53a9-4091-a948-4bf3c31965f0\")>,\n",
       " <selenium.webdriver.remote.webelement.WebElement (session=\"0a476ca7763f2f368979c83bf6b712a0\", element=\"0606fe3f-650f-494c-8a29-df748ea346b8\")>,\n",
       " <selenium.webdriver.remote.webelement.WebElement (session=\"0a476ca7763f2f368979c83bf6b712a0\", element=\"09c6cc76-9a1e-400c-917d-c3620e989944\")>]"
      ]
     },
     "execution_count": 18,
     "metadata": {},
     "output_type": "execute_result"
    }
   ],
   "source": [
    "#extracting the data of job experience\n",
    "experience_tags=driver.find_elements_by_xpath(\"//li[@class='fleft grey-text br2 placeHolderLi experience']\")\n",
    "experience_tags"
   ]
  },
  {
   "cell_type": "code",
   "execution_count": 19,
   "id": "963cdbb2",
   "metadata": {},
   "outputs": [
    {
     "data": {
      "text/plain": [
       "['8-12 Yrs',\n",
       " '0-3 Yrs',\n",
       " '3-8 Yrs',\n",
       " '2-3 Yrs',\n",
       " '3-8 Yrs',\n",
       " '8-13 Yrs',\n",
       " '3-7 Yrs',\n",
       " '0-1 Yrs',\n",
       " '1-6 Yrs',\n",
       " '6-11 Yrs']"
      ]
     },
     "execution_count": 19,
     "metadata": {},
     "output_type": "execute_result"
    }
   ],
   "source": [
    "experience=[]\n",
    "for i in experience_tags:\n",
    "    experience.append(i.text)\n",
    "experience[0:10]"
   ]
  },
  {
   "cell_type": "code",
   "execution_count": 20,
   "id": "f04a801f",
   "metadata": {},
   "outputs": [
    {
     "name": "stdout",
     "output_type": "stream",
     "text": [
      "20 20 20 20\n"
     ]
    }
   ],
   "source": [
    "#finding the length of all fetched data\n",
    "print(len(job_titles),len(company_names),len(location),len(experience))"
   ]
  },
  {
   "cell_type": "code",
   "execution_count": 21,
   "id": "5042fcea",
   "metadata": {},
   "outputs": [],
   "source": [
    "#creating the Dataframe\n",
    "jobs=pd.DataFrame({})\n",
    "jobs['Job-title']=job_titles\n",
    "jobs['Company-name']=company_names\n",
    "jobs['job-Location']=location\n",
    "jobs['Experience-required']=experience"
   ]
  },
  {
   "cell_type": "code",
   "execution_count": 26,
   "id": "1584650d",
   "metadata": {
    "scrolled": false
   },
   "outputs": [
    {
     "data": {
      "text/html": [
       "<div>\n",
       "<style scoped>\n",
       "    .dataframe tbody tr th:only-of-type {\n",
       "        vertical-align: middle;\n",
       "    }\n",
       "\n",
       "    .dataframe tbody tr th {\n",
       "        vertical-align: top;\n",
       "    }\n",
       "\n",
       "    .dataframe thead th {\n",
       "        text-align: right;\n",
       "    }\n",
       "</style>\n",
       "<table border=\"1\" class=\"dataframe\">\n",
       "  <thead>\n",
       "    <tr style=\"text-align: right;\">\n",
       "      <th></th>\n",
       "      <th>Job-title</th>\n",
       "      <th>Company-name</th>\n",
       "      <th>job-Location</th>\n",
       "      <th>Experience-required</th>\n",
       "    </tr>\n",
       "  </thead>\n",
       "  <tbody>\n",
       "    <tr>\n",
       "      <th>0</th>\n",
       "      <td>Senior Data Analyst</td>\n",
       "      <td>Virtusa Consulting Services Pvt Ltd</td>\n",
       "      <td>Hyderabad/Secunderabad, Pune, Gurgaon/Gurugram...</td>\n",
       "      <td>8-12 Yrs</td>\n",
       "    </tr>\n",
       "    <tr>\n",
       "      <th>1</th>\n",
       "      <td>Senior Data Analyst</td>\n",
       "      <td>Flipkart</td>\n",
       "      <td>Bangalore/Bengaluru</td>\n",
       "      <td>2-3 Yrs</td>\n",
       "    </tr>\n",
       "    <tr>\n",
       "      <th>2</th>\n",
       "      <td>Senior Data Analyst</td>\n",
       "      <td>Flipkart</td>\n",
       "      <td>Bangalore/Bengaluru</td>\n",
       "      <td>3-8 Yrs</td>\n",
       "    </tr>\n",
       "    <tr>\n",
       "      <th>3</th>\n",
       "      <td>SENIOR MARKETING DATA ANALYST</td>\n",
       "      <td>McAfee Software (India) Pvt. Ltd</td>\n",
       "      <td>Bangalore/Bengaluru</td>\n",
       "      <td>3-7 Yrs</td>\n",
       "    </tr>\n",
       "    <tr>\n",
       "      <th>4</th>\n",
       "      <td>Data Analyst - Quantitative Support Team</td>\n",
       "      <td>TresVista Financial</td>\n",
       "      <td>Mumbai, Pune, Bangalore/Bengaluru</td>\n",
       "      <td>0-1 Yrs</td>\n",
       "    </tr>\n",
       "    <tr>\n",
       "      <th>5</th>\n",
       "      <td>Business Data Analyst - Alteryx/Hadoop</td>\n",
       "      <td>Talent Placers</td>\n",
       "      <td>Bangalore/Bengaluru</td>\n",
       "      <td>5-8 Yrs</td>\n",
       "    </tr>\n",
       "    <tr>\n",
       "      <th>6</th>\n",
       "      <td>Data Analyst</td>\n",
       "      <td>Flipkart</td>\n",
       "      <td>Bangalore/Bengaluru</td>\n",
       "      <td>1-2 Yrs</td>\n",
       "    </tr>\n",
       "    <tr>\n",
       "      <th>7</th>\n",
       "      <td>Senior Data Analyst</td>\n",
       "      <td>Kwalee ltd.</td>\n",
       "      <td>Bangalore/Bengaluru</td>\n",
       "      <td>5-10 Yrs</td>\n",
       "    </tr>\n",
       "    <tr>\n",
       "      <th>8</th>\n",
       "      <td>Data Analyst</td>\n",
       "      <td>COLLABERA</td>\n",
       "      <td>Gurgaon/Gurugram, Bangalore/Bengaluru, Mumbai ...</td>\n",
       "      <td>2-5 Yrs</td>\n",
       "    </tr>\n",
       "    <tr>\n",
       "      <th>9</th>\n",
       "      <td>Data Analyst - EBA DB</td>\n",
       "      <td>Capco Technologies Pvt Ltd</td>\n",
       "      <td>Bangalore/Bengaluru</td>\n",
       "      <td>3-6 Yrs</td>\n",
       "    </tr>\n",
       "  </tbody>\n",
       "</table>\n",
       "</div>"
      ],
      "text/plain": [
       "                                  Job-title  \\\n",
       "0                       Senior Data Analyst   \n",
       "1                       Senior Data Analyst   \n",
       "2                       Senior Data Analyst   \n",
       "3             SENIOR MARKETING DATA ANALYST   \n",
       "4  Data Analyst - Quantitative Support Team   \n",
       "5    Business Data Analyst - Alteryx/Hadoop   \n",
       "6                              Data Analyst   \n",
       "7                       Senior Data Analyst   \n",
       "8                              Data Analyst   \n",
       "9                     Data Analyst - EBA DB   \n",
       "\n",
       "                          Company-name  \\\n",
       "0  Virtusa Consulting Services Pvt Ltd   \n",
       "1                             Flipkart   \n",
       "2                             Flipkart   \n",
       "3     McAfee Software (India) Pvt. Ltd   \n",
       "4                  TresVista Financial   \n",
       "5                       Talent Placers   \n",
       "6                             Flipkart   \n",
       "7                          Kwalee ltd.   \n",
       "8                            COLLABERA   \n",
       "9           Capco Technologies Pvt Ltd   \n",
       "\n",
       "                                        job-Location Experience-required  \n",
       "0  Hyderabad/Secunderabad, Pune, Gurgaon/Gurugram...            8-12 Yrs  \n",
       "1                                Bangalore/Bengaluru             2-3 Yrs  \n",
       "2                                Bangalore/Bengaluru             3-8 Yrs  \n",
       "3                                Bangalore/Bengaluru             3-7 Yrs  \n",
       "4                  Mumbai, Pune, Bangalore/Bengaluru             0-1 Yrs  \n",
       "5                                Bangalore/Bengaluru             5-8 Yrs  \n",
       "6                                Bangalore/Bengaluru             1-2 Yrs  \n",
       "7                                Bangalore/Bengaluru            5-10 Yrs  \n",
       "8  Gurgaon/Gurugram, Bangalore/Bengaluru, Mumbai ...             2-5 Yrs  \n",
       "9                                Bangalore/Bengaluru             3-6 Yrs  "
      ]
     },
     "execution_count": 26,
     "metadata": {},
     "output_type": "execute_result"
    }
   ],
   "source": [
    "jobs[0:10]"
   ]
  },
  {
   "cell_type": "markdown",
   "id": "71abb853",
   "metadata": {},
   "source": [
    "# Q2: Write a python program to scrape data for “Data Scientist” Job position in “Bangalore” location. You have to scrape the job-title, job-location, company_name, full job-description. You have to scrape first 10 jobs data. This task will be done in following steps:"
   ]
  },
  {
   "cell_type": "markdown",
   "id": "aca8aafb",
   "metadata": {},
   "source": [
    "1.first get the webpage https://www.naukri.com/\n",
    "\n",
    "2.Enter “Data Scientist” in “Skill,Designations,Companies” field and enter “Bangalore” in “enter the location” field.\n",
    "\n",
    "3.Then click the search button.\n",
    "\n",
    "4.Then scrape the data for the first 10 jobs results you get.\n",
    "\n",
    "5.Finally create a dataframe of the scraped data."
   ]
  },
  {
   "cell_type": "code",
   "execution_count": 98,
   "id": "4ad35d36",
   "metadata": {},
   "outputs": [],
   "source": [
    "driver=webdriver.Chrome(r\"C:\\Users\\Win 10\\Downloads\\chromedriver_win32\\chromedriver\")\n",
    "driver=webdriver.Chrome(\"chromedriver\")"
   ]
  },
  {
   "cell_type": "code",
   "execution_count": 99,
   "id": "dee7fd38",
   "metadata": {},
   "outputs": [],
   "source": [
    "#sending the url\n",
    "url='https://www.naukri.com/'\n",
    "driver.get(url)"
   ]
  },
  {
   "cell_type": "code",
   "execution_count": 100,
   "id": "d747f833",
   "metadata": {},
   "outputs": [
    {
     "data": {
      "text/plain": [
       "<selenium.webdriver.remote.webelement.WebElement (session=\"82d7b3138d1774512b1cd09317687f0a\", element=\"6887f7b4-9e73-4cf0-bb18-cc344371ff21\")>"
      ]
     },
     "execution_count": 100,
     "metadata": {},
     "output_type": "execute_result"
    }
   ],
   "source": [
    "#fetching the job input\n",
    "search_job=driver.find_element_by_xpath('//input[@class=\"sugInp\"]')\n",
    "search_job"
   ]
  },
  {
   "cell_type": "code",
   "execution_count": 101,
   "id": "6b7a06e7",
   "metadata": {},
   "outputs": [],
   "source": [
    "search_job.send_keys(\"Data Scientist\") #sending the input for job title"
   ]
  },
  {
   "cell_type": "code",
   "execution_count": 102,
   "id": "e1f2cf6e",
   "metadata": {},
   "outputs": [],
   "source": [
    "search_loc=driver.find_element_by_id(\"qsb-location-sugg\")\n",
    "search_loc.send_keys(\"Bangalore\")    #passing the job location"
   ]
  },
  {
   "cell_type": "code",
   "execution_count": 103,
   "id": "63981b60",
   "metadata": {},
   "outputs": [],
   "source": [
    "#submitting the search button\n",
    "search_btn=driver.find_element_by_class_name('btn') \n",
    "search_btn.click()"
   ]
  },
  {
   "cell_type": "code",
   "execution_count": 104,
   "id": "585f7a64",
   "metadata": {},
   "outputs": [
    {
     "data": {
      "text/plain": [
       "20"
      ]
     },
     "execution_count": 104,
     "metadata": {},
     "output_type": "execute_result"
    }
   ],
   "source": [
    "#fetching all the url's\n",
    "urls=[]\n",
    "for i in driver.find_elements_by_xpath(\"//a[@class='title fw500 ellipsis']\"): #fetching title tags using xpath\n",
    "    urls.append(i.get_attribute(\"href\"))\n",
    "len(urls)"
   ]
  },
  {
   "cell_type": "code",
   "execution_count": 105,
   "id": "3d149874",
   "metadata": {},
   "outputs": [
    {
     "data": {
      "text/plain": [
       "['https://www.naukri.com/job-listings-lead-data-scientist-bfsi-ibm-india-pvt-limited-bengaluru-bangalore-5-to-9-years-070921901691?src=jobsearchDesk&sid=16310189019254467&xp=1&px=1',\n",
       " 'https://www.naukri.com/job-listings-associate-data-scientist-philips-india-limited-bangalore-bengaluru-3-to-5-years-060921501985?src=jobsearchDesk&sid=16310189019254467&xp=2&px=1',\n",
       " 'https://www.naukri.com/job-listings-data-scientist-advanced-analytics-ibm-india-pvt-limited-bengaluru-bangalore-3-to-7-years-070921901677?src=jobsearchDesk&sid=16310189019254467&xp=3&px=1',\n",
       " 'https://www.naukri.com/job-listings-data-scientist-python-sql-ave-promagne-hyderabad-secunderabad-chennai-bangalore-bengaluru-6-to-8-years-060921904967?src=jobsearchDesk&sid=16310189019254467&xp=4&px=1',\n",
       " 'https://www.naukri.com/job-listings-sr-data-scientist-ibm-india-pvt-limited-bengaluru-bangalore-6-to-8-years-010921906637?src=jobsearchDesk&sid=16310189019254467&xp=5&px=1',\n",
       " 'https://www.naukri.com/job-listings-sr-data-scientist-ibm-india-pvt-limited-bangalore-bengaluru-6-to-8-years-010921906105?src=jobsearchDesk&sid=16310189019254467&xp=6&px=1',\n",
       " 'https://www.naukri.com/job-listings-lead-data-scientist-machine-learning-data-mining-wrackle-technologies-pvt-ltd-bangalore-bengaluru-6-to-11-years-080221900886?src=jobsearchDesk&sid=16310189019254467&xp=7&px=1',\n",
       " 'https://www.naukri.com/job-listings-freelance-data-scientist-project-based-shikvix-bangalore-bengaluru-3-to-8-years-060921008814?src=jobsearchDesk&sid=16310189019254467&xp=8&px=1',\n",
       " 'https://www.naukri.com/job-listings-data-scientist-vrize-bangalore-bengaluru-2-to-5-years-070921001651?src=jobsearchDesk&sid=16310189019254467&xp=9&px=1',\n",
       " 'https://www.naukri.com/job-listings-data-scientist-elpis-it-solutions-pvt-ltd-bangalore-bengaluru-3-to-8-years-070921602158?src=jobsearchDesk&sid=16310189019254467&xp=10&px=1',\n",
       " 'https://www.naukri.com/job-listings-data-scientist-elpis-it-solutions-pvt-ltd-bangalore-bengaluru-3-to-8-years-070921002157?src=jobsearchDesk&sid=16310189019254467&xp=11&px=1',\n",
       " 'https://www.naukri.com/job-listings-senior-data-scientist-ml-sp-staffing-services-private-limited-pune-chennai-bangalore-bengaluru-10-to-15-years-100621006203?src=jobsearchDesk&sid=16310189019254467&xp=12&px=1',\n",
       " 'https://www.naukri.com/job-listings-data-scientist-oracle-india-pvt-ltd-noida-bangalore-bengaluru-5-to-9-years-010621004567?src=jobsearchDesk&sid=16310189019254467&xp=13&px=1',\n",
       " 'https://www.naukri.com/job-listings-data-scientist-ibm-india-pvt-limited-bengaluru-bangalore-2-to-4-years-010921906678?src=jobsearchDesk&sid=16310189019254467&xp=14&px=1',\n",
       " 'https://www.naukri.com/job-listings-cognitive-data-scientist-ibm-india-pvt-limited-bengaluru-bangalore-3-to-7-years-030921904668?src=jobsearchDesk&sid=16310189019254467&xp=15&px=1',\n",
       " 'https://www.naukri.com/job-listings-data-scientist-python-big-data-capgemini-technology-services-india-limited-hyderabad-secunderabad-chennai-bangalore-bengaluru-6-to-11-years-030921008208?src=jobsearchDesk&sid=16310189019254467&xp=16&px=1',\n",
       " 'https://www.naukri.com/job-listings-senior-data-scientist-payments-compliance-airbnb-global-capability-center-private-limited-bangalore-bengaluru-4-to-9-years-020921903258?src=jobsearchDesk&sid=16310189019254467&xp=17&px=1',\n",
       " 'https://www.naukri.com/job-listings-senior-data-scientist-rakuten-inc-bangalore-bengaluru-4-to-9-years-310821501017?src=jobsearchDesk&sid=16310189019254467&xp=18&px=1',\n",
       " 'https://www.naukri.com/job-listings-senior-data-scientist-kwalee-india-pvt-ltd-bangalore-bengaluru-5-to-10-years-260321000780?src=jobsearchDesk&sid=16310189019254467&xp=19&px=1',\n",
       " 'https://www.naukri.com/job-listings-senior-data-scientist-ant-work-bangalore-bengaluru-9-to-14-years-020921501606?src=jobsearchDesk&sid=16310189019254467&xp=20&px=1']"
      ]
     },
     "execution_count": 105,
     "metadata": {},
     "output_type": "execute_result"
    }
   ],
   "source": [
    "urls"
   ]
  },
  {
   "cell_type": "code",
   "execution_count": 106,
   "id": "1689ef17",
   "metadata": {},
   "outputs": [],
   "source": [
    "#empty lists to store the data\n",
    "job_title=[]\n",
    "job_description=[]\n",
    "job_location=[]\n",
    "company_name=[]"
   ]
  },
  {
   "cell_type": "code",
   "execution_count": 107,
   "id": "a07e045c",
   "metadata": {},
   "outputs": [],
   "source": [
    "#using exception handling\n",
    "for i in urls[:10]:\n",
    "    driver.get(i)\n",
    "    time.sleep(1)\n",
    "    try:\n",
    "        job=driver.find_element_by_xpath(\"//h1[@class='jd-header-title']\") #fetching all the job title\n",
    "        job_title.append(job.text.replace(\"/n\",\"newline\"))\n",
    "    except:\n",
    "        job_title.append('-')\n",
    "    try:\n",
    "        job_desc=driver.find_element_by_xpath(\"//section[@class='job-desc']\") #fetching full job description \n",
    "        job_description.append(job_desc.text)\n",
    "    except:\n",
    "        job_description.append('-')\n",
    "    try:\n",
    "        location=driver.find_element_by_xpath(\"//div[@class='loc']//span\")  #fetching job location\n",
    "        job_location.append(location.text)\n",
    "    except:\n",
    "        job_location.append('-')\n",
    "    try:\n",
    "        companies=driver.find_element_by_xpath(\"//a[@class='pad-rt-8']\")    #fetching company names\n",
    "        company_name.append(companies.text)\n",
    "    except:\n",
    "        company_name.append('-')"
   ]
  },
  {
   "cell_type": "code",
   "execution_count": 108,
   "id": "0d3d71e5",
   "metadata": {},
   "outputs": [
    {
     "data": {
      "text/plain": [
       "['-',\n",
       " 'Associate Data Scientist',\n",
       " '-',\n",
       " 'Data Scientist (Python & SQL)',\n",
       " '-',\n",
       " '-',\n",
       " 'Lead Data Scientist - Machine Learning/ Data Mining',\n",
       " 'Freelance Data Scientist Project Based',\n",
       " 'Data Scientist',\n",
       " 'Data Scientist']"
      ]
     },
     "execution_count": 108,
     "metadata": {},
     "output_type": "execute_result"
    }
   ],
   "source": [
    "job_title"
   ]
  },
  {
   "cell_type": "code",
   "execution_count": 109,
   "id": "dfcd20aa",
   "metadata": {},
   "outputs": [
    {
     "data": {
      "text/plain": [
       "['-',\n",
       " 'Job description\\nUse predictive modeling to increase and optimize customer experiences, revenue generation, campaign optimization and other business outcomes\\nWork with product management to develop data use cases and embed predictive models in workflows on resource constrained platforms and cloud enabled.\\nSelecting features, building and optimizing classifiers using machine learning and deep learning techniques\\nCollaborates with Data Engineers to enhance data collection and ingestion/curation techniques to include information that is relevant for building analytic systems\\nProcessing, cleansing, and verifying the integrity of data used for analysis\\nDevelop processes and tools to monitor and analyze model performance and data accuracy. Life cycle management of predictive models.\\nAdherence to compliance procedures in accordance with regulatory standards, requirements, and policies. Managing and designing the reporting environment, including data sources security, and metadata.\\nJob Qualifications:\\nMaster s degree or PhD in Computer Science, Information management, Statistics or related field, with 3 to 5 years of experience in the Consumer or Healthcare industry manipulating data sets and building predictive models with focus on product development\\nExperience in statistical modelling, machine learning, data mining, unstructured data analytics and natural language processing. Sound understanding of - Bayesian Modelling, Classification Models, Cluster Analysis, Neural Network, Nonparametric Methods, Multivariate Statistics, etc.\\nStrong hands on knowledge of ML techniques like regression algorithms, K-NN, Na ve Bayes, SVM and ensemble techniques like Random forest, AdaBoost etc\\nHaving strong knowledge in unsupervised learning algorithms using Neural networks and Deep-Learning\\nStrong knowledge in Data Wrangling and Exploration techniques to identify the patterns, trends and outliners.\\nDeep knowledge and practical experience with data science toolkits, such as NumPy, Pandas, scikit-learn or equivalent\\nExperience with data visualization tools, such as QlikView, Matplotlib, seaborn or equivalent tools.\\nProficiency in using query languages, such as SQL, PL/SQL\\nHands on experience in the one or more databases like Hadoop, AWS Redshift, Snowflake etc.\\nGood applied statistics skills, such as distributions, statistical testing, regression, etc.\\nGood ETL scripting and programming skills, such as Python, R or Scala to integrate developed solution into the proposition.\\nA team player capable of working and integrating across cross-functional team for implementing project requirements. Experience in technical requirements gathering and documentation.\\nAbility to work effectively and independently in a fast-paced global collaborative agile team environment with tight deadlines\\nA flexible, pragmatic and collaborative team player with innate ability to engage with stakeholders at all levels in the organization.\\nA self-starter with high levels of drive, energy, resilience and a desire for professional excellence with a passion for data and data science\\nRoleClinical Research Associate/Scientist\\nIndustry TypeMedical Services / Hospital\\nFunctional AreaMedical, Healthcare, R&D, Pharmaceuticals, Biotechnology\\nEmployment TypeFull Time, Permanent\\nRole CategoryR&D\\nEducation\\nUG :Any Graduate\\nPG :Post Graduation Not Required\\nKey Skills\\nProduct managementComputer sciencemetadataMachine learningAgilePLSQLHealthcareQlikViewData miningPython',\n",
       " '-',\n",
       " 'Job description\\nRequired Technical and Professional Expertise\\n• 6+ years of industry work experience in data scientist projects\\n• Master’s degree or higher in Statistics/Math/Computer Science or related field\\n• Background in applied statistical modeling on large experimental or observational data sets\\n• Experience extracting data from a variety of sources, and a desire to expand those skills (working knowledge SQL is required, Spark is a plus)\\n• Experience with one or more statistical or machine learning software such as R, Python, etc.\\n• Must showcase past work through published articles/GitHub/social media\\n\\nPreferred Technical and Professional Expertise\\n• Knowledge of distributed computing systems, e.g. Cosmos, Spark, Hadoop, and relational database management system\\n• PhD. in Statistics is preferred\\n• You love collaborative environments that use agile methodologies to encourage creative design thinking and find innovative ways to develop with cutting edge technologies\\n• Ambitious individual who can work under their own direction towards agreed targets/goals and with creative approach to work\\n• Intuitive individual with an ability to manage change and proven time management\\n• Proven interpersonal skills while contributing to team effort by accomplishing related results as needed\\nRoleData Analyst\\nIndustry TypeIT Services & Consulting\\nFunctional AreaAnalytics & Business Intelligence\\nEmployment TypeFull Time, Permanent\\nRole CategoryAnalytics & BI\\nEducation\\nUG :B.Sc in Maths, Statistics\\nPG :MS/M.Sc(Science) in Maths, Statistics\\nDoctorate :Doctorate Not Required\\nKey Skills\\nRData scienceData analyticsSQLPython',\n",
       " '-',\n",
       " '-',\n",
       " 'Job description\\nRoles and Responsibilities\\nRequirements :\\n\\n- 6-9 years of strong experience in data mining, machine learning and statistical analysis.\\n\\n- BS/ MS/ PhD in Computer Science, Statistics, Applied Math, or related areas from Premier institutes ( only IITs / IISc / BITS / Top NITs or top US university should apply)\\n\\n- Ability to lead and deliver in a fast-paced start-up environment.\\n\\n- Fluency in tools such as Python/ R/ Matlab etc.\\n\\n- Strong intuition for data and Keen aptitude on large scale data analysis\\n\\n- Excellent written and verbal communication skills.\\n\\n- Ability to collaborate across teams and strong interpersonal skills.\\nRoleData Analyst\\nIndustry TypeIT Services & Consulting\\nFunctional AreaAnalytics & Business Intelligence\\nEmployment TypeFull Time, Permanent\\nRole CategoryAnalytics & BI\\nEducation\\nUG :B.Sc in Computers, Statistics\\nPG :MS/M.Sc(Science) in Computers, Statistics\\nDoctorate :Ph.D/Doctorate in Statistics, Computers\\nKey Skills\\nData ScienceRData ScientistData MiningStatistical AnalystMachine LearningMATLABPython',\n",
       " \"Job description\\n\\nJob description:\\n\\nSeeking senior data scientists for project-based roles that involve working on various projects.\\n\\nThe candidate must have experience in Python coding language and machine learning. The candidate will be working on a part-time basis and hours will be flexible based on the candidate's availability.\\nOpportunity to grow in a startup setting.\\nWhat you'll need:\\nB.Tech in CS or Statistics with demonstrable experience of over 5 years through publications/deployed solutions/projects.\\nM.Tech or Ph.D. in CS or Statistics with demonstrable experience of over 3 years through publications/deployed solutions/projects.\\nA deep understanding of applied statistical analysis and predictive modeling is desired.\\nThe candidate must have a thorough grasp of the theory and application of broad ML algorithms namely, but not limited to regression, SVM, Tree, Random Forests, Boosting, Neural Network, clustering, forecasting, deep learning, text analysis, etc.\\nIt is not expected that the candidate has actually worked on all these modules.\\nStrong proficiency in Python or R is necessary\\n\\nRoleData Analyst\\nIndustry TypeIT Services & Consulting\\nFunctional AreaAnalytics & Business Intelligence\\nEmployment TypePart Time, Freelance/Homebased\\nRole CategoryAnalytics & BI\\nEducation\\nUG :Any Graduate\\nKey Skills\\nPredictive ModelingRAlgorithmsSVMClusteringMachine LearningStatistical AnalysisStatisticsDeep LearningPython\",\n",
       " 'Job description\\nProfile Overview\\nWe are looking for a Data Scientist who can help us drive value for our clients through in a data driven approach. They will work with the Data Science team to identify and structure relevant value-adding problems for clients to solve, using various data. They will conceptualize and own the design of the solutions, work with analysts to extract, process, and prepare data on a planned as well ad hoc basis. They will leverage appropriate machine learning techniques and liaise and engage with the clients during the progress of the solution to communicate results, and ensure buy-in and closure. They will also work with Machine Learning Engineers to help deploy solutions within the appropriate technology framework, and also possibly help maintain them within a DevOps setting.\\n\\nSkills & Qualifications\\nIdeal candidate should have a problem solving bent of mind, and had have worked in the Data Science field for 3 or more years\\nCandidate should have had worked on real-life Natural Language Processing and / or Computer Vision problems; real-life experience in Regression & Classification problems and / or unsupervised learning problems would be considered a bonus\\nCandidate should be proficient in R and / or Python and / or SQL\\nCandidate should have a basic understanding of technologies needed for deployment of machine learning solutions, such as cloud infrastructure components (AWS, Microsoft Azure, GCP), containerization (Docker, Kubernetes), API development (using frameworks such as Flask, Plumber, Django, Celery etc.), code versioning tools (GitHub, GitLab, CodeCommit etc.)\\nExperience with business tools such as Tableau, and web tools such as cloud databases (Redshift, DynamoDB etc.) would be considered a bonus\\nCandidate should have excellent communication, comprehension, and critical thinking skills; collaborative nature would be considered a bonus\\nCandidate should have a deep and nuanced understanding of statistics, mathematics, computer science, and be able to sift through technical material (such as papers, open-source code repositories) to continuously improve on solutions and stay on top of the cutting-edge developments in the field\\n\\n\\nRoleTechnical Architect\\nIndustry TypeIT Services & Consulting\\nFunctional AreaIT Software - Application Programming, Maintenance\\nEmployment TypeFull Time, Permanent\\nRole CategoryProgramming & Design\\nEducation\\nUG :Any Graduate\\nKey Skills\\nNatural Language ProcessingProblem SolvingRegressionUnsupervised LearningMachine LearningStatisticsData ScienceSupervised LearningRAlgorithmsClassificationModelComputer VisionPython',\n",
       " 'Job description\\nRoles and Responsibilities\\nJob Description:\\nDevelop data powered insights deriving from distributed, real time streaming applications, and develop AI systems leveraging on such data powered insights.\\nLooking for candidates with passion and energy to work in a high energy team with entrepreneurial culture: Self starter attitude, quick learning aptitude, passion and willingness to deliver on time with quality.\\n\\nJob Skills Required:\\nExpert data science skills using supervised and unsupervised learning. Deep learning.\\nCompute: Spark/Storm/NiFi/Flink/Redis, or other.\\nVisualization: Banana UI, Kibana, or other,\\nTools: H2O, TensorFlow, Mlib, Scikit, Keras or other.\\nMessaging: Kafka, RabbitMQ, or other.\\n\\nStrong Analytical and Math/Statistics skills.\\n\\nQualification :\\nM.Tech/M.E./M.S. in Computer Science, Engineering or a related field, preferably with a concentration, major or minor in Data Science or Machine Learning. PhD would be added advantage.\\n\\nDesired Candidate Profile\\nDesirable s that would strengthen candidacy:\\n Proven track record from public competitions such as from Kagel, Analytics Vidya, etc. \\n\\nExpertise in one or more high level programming languages such as Java, Scala, Python, Go, Erlang, etc.\\n\\nExpertise in developing scalable applications in a distributed environment.\\n\\nStrong SQL or NoSQL skills with one or more open source DBMS such as MySql, MongoDB, Cassandra.\\n\\nExpertise in containerized environments on private or public clouds - Aws Azure, etc.\\n\\n\\nRoleSoftware Developer\\nIndustry TypeIT Services & Consulting\\nFunctional AreaIT Software - Application Programming, Maintenance\\nEmployment TypeFull Time, Temporary/Contractual\\nRole CategoryProgramming & Design\\nEducation\\nUG :Any Graduate\\nPG :Any Postgraduate\\nKey Skills\\ndeep learningKibanatensorflowdata scienceKafkakerasSparkMachine Learning']"
      ]
     },
     "execution_count": 109,
     "metadata": {},
     "output_type": "execute_result"
    }
   ],
   "source": [
    "job_description"
   ]
  },
  {
   "cell_type": "code",
   "execution_count": 110,
   "id": "0d22f8e2",
   "metadata": {},
   "outputs": [
    {
     "data": {
      "text/plain": [
       "['-',\n",
       " 'Bangalore/Bengaluru',\n",
       " '-',\n",
       " 'Hyderabad/Secunderabad, Chennai, Bangalore/Bengaluru',\n",
       " '-',\n",
       " '-',\n",
       " 'Bangalore/Bengaluru',\n",
       " 'Remote (Hiring office located in Bangalore/Bengaluru)',\n",
       " 'Bangalore/Bengaluru (WFH during Covid)',\n",
       " 'Bangalore/Bengaluru']"
      ]
     },
     "execution_count": 110,
     "metadata": {},
     "output_type": "execute_result"
    }
   ],
   "source": [
    "job_location"
   ]
  },
  {
   "cell_type": "code",
   "execution_count": 111,
   "id": "713586db",
   "metadata": {},
   "outputs": [
    {
     "data": {
      "text/plain": [
       "['-',\n",
       " 'Philips India Limited',\n",
       " '-',\n",
       " 'AVE-Promagne',\n",
       " '-',\n",
       " '-',\n",
       " 'Wrackle Technologies Pvt Ltd',\n",
       " 'Shikvix',\n",
       " 'VRIZE',\n",
       " 'ELPIS IT SOLUTIONS PVT LTD']"
      ]
     },
     "execution_count": 111,
     "metadata": {},
     "output_type": "execute_result"
    }
   ],
   "source": [
    "company_name"
   ]
  },
  {
   "cell_type": "code",
   "execution_count": 112,
   "id": "2361906a",
   "metadata": {},
   "outputs": [
    {
     "name": "stdout",
     "output_type": "stream",
     "text": [
      "10 10 10 10\n"
     ]
    }
   ],
   "source": [
    "#printing the length of obtained data\n",
    "print(len(job_title),len(job_description),len(job_location),len(company_name))"
   ]
  },
  {
   "cell_type": "code",
   "execution_count": 113,
   "id": "97965b74",
   "metadata": {},
   "outputs": [
    {
     "data": {
      "text/html": [
       "<div>\n",
       "<style scoped>\n",
       "    .dataframe tbody tr th:only-of-type {\n",
       "        vertical-align: middle;\n",
       "    }\n",
       "\n",
       "    .dataframe tbody tr th {\n",
       "        vertical-align: top;\n",
       "    }\n",
       "\n",
       "    .dataframe thead th {\n",
       "        text-align: right;\n",
       "    }\n",
       "</style>\n",
       "<table border=\"1\" class=\"dataframe\">\n",
       "  <thead>\n",
       "    <tr style=\"text-align: right;\">\n",
       "      <th></th>\n",
       "      <th>Job title</th>\n",
       "      <th>Job description</th>\n",
       "      <th>Job location</th>\n",
       "      <th>Company name</th>\n",
       "    </tr>\n",
       "  </thead>\n",
       "  <tbody>\n",
       "    <tr>\n",
       "      <th>0</th>\n",
       "      <td>-</td>\n",
       "      <td>-</td>\n",
       "      <td>-</td>\n",
       "      <td>-</td>\n",
       "    </tr>\n",
       "    <tr>\n",
       "      <th>1</th>\n",
       "      <td>Associate Data Scientist</td>\n",
       "      <td>Job description\\nUse predictive modeling to in...</td>\n",
       "      <td>Bangalore/Bengaluru</td>\n",
       "      <td>Philips India Limited</td>\n",
       "    </tr>\n",
       "    <tr>\n",
       "      <th>2</th>\n",
       "      <td>-</td>\n",
       "      <td>-</td>\n",
       "      <td>-</td>\n",
       "      <td>-</td>\n",
       "    </tr>\n",
       "    <tr>\n",
       "      <th>3</th>\n",
       "      <td>Data Scientist (Python &amp; SQL)</td>\n",
       "      <td>Job description\\nRequired Technical and Profes...</td>\n",
       "      <td>Hyderabad/Secunderabad, Chennai, Bangalore/Ben...</td>\n",
       "      <td>AVE-Promagne</td>\n",
       "    </tr>\n",
       "    <tr>\n",
       "      <th>4</th>\n",
       "      <td>-</td>\n",
       "      <td>-</td>\n",
       "      <td>-</td>\n",
       "      <td>-</td>\n",
       "    </tr>\n",
       "    <tr>\n",
       "      <th>5</th>\n",
       "      <td>-</td>\n",
       "      <td>-</td>\n",
       "      <td>-</td>\n",
       "      <td>-</td>\n",
       "    </tr>\n",
       "    <tr>\n",
       "      <th>6</th>\n",
       "      <td>Lead Data Scientist - Machine Learning/ Data M...</td>\n",
       "      <td>Job description\\nRoles and Responsibilities\\nR...</td>\n",
       "      <td>Bangalore/Bengaluru</td>\n",
       "      <td>Wrackle Technologies Pvt Ltd</td>\n",
       "    </tr>\n",
       "    <tr>\n",
       "      <th>7</th>\n",
       "      <td>Freelance Data Scientist Project Based</td>\n",
       "      <td>Job description\\n\\nJob description:\\n\\nSeeking...</td>\n",
       "      <td>Remote (Hiring office located in Bangalore/Ben...</td>\n",
       "      <td>Shikvix</td>\n",
       "    </tr>\n",
       "    <tr>\n",
       "      <th>8</th>\n",
       "      <td>Data Scientist</td>\n",
       "      <td>Job description\\nProfile Overview\\nWe are look...</td>\n",
       "      <td>Bangalore/Bengaluru (WFH during Covid)</td>\n",
       "      <td>VRIZE</td>\n",
       "    </tr>\n",
       "    <tr>\n",
       "      <th>9</th>\n",
       "      <td>Data Scientist</td>\n",
       "      <td>Job description\\nRoles and Responsibilities\\nJ...</td>\n",
       "      <td>Bangalore/Bengaluru</td>\n",
       "      <td>ELPIS IT SOLUTIONS PVT LTD</td>\n",
       "    </tr>\n",
       "  </tbody>\n",
       "</table>\n",
       "</div>"
      ],
      "text/plain": [
       "                                           Job title  \\\n",
       "0                                                  -   \n",
       "1                           Associate Data Scientist   \n",
       "2                                                  -   \n",
       "3                      Data Scientist (Python & SQL)   \n",
       "4                                                  -   \n",
       "5                                                  -   \n",
       "6  Lead Data Scientist - Machine Learning/ Data M...   \n",
       "7             Freelance Data Scientist Project Based   \n",
       "8                                     Data Scientist   \n",
       "9                                     Data Scientist   \n",
       "\n",
       "                                     Job description  \\\n",
       "0                                                  -   \n",
       "1  Job description\\nUse predictive modeling to in...   \n",
       "2                                                  -   \n",
       "3  Job description\\nRequired Technical and Profes...   \n",
       "4                                                  -   \n",
       "5                                                  -   \n",
       "6  Job description\\nRoles and Responsibilities\\nR...   \n",
       "7  Job description\\n\\nJob description:\\n\\nSeeking...   \n",
       "8  Job description\\nProfile Overview\\nWe are look...   \n",
       "9  Job description\\nRoles and Responsibilities\\nJ...   \n",
       "\n",
       "                                        Job location  \\\n",
       "0                                                  -   \n",
       "1                                Bangalore/Bengaluru   \n",
       "2                                                  -   \n",
       "3  Hyderabad/Secunderabad, Chennai, Bangalore/Ben...   \n",
       "4                                                  -   \n",
       "5                                                  -   \n",
       "6                                Bangalore/Bengaluru   \n",
       "7  Remote (Hiring office located in Bangalore/Ben...   \n",
       "8             Bangalore/Bengaluru (WFH during Covid)   \n",
       "9                                Bangalore/Bengaluru   \n",
       "\n",
       "                   Company name  \n",
       "0                             -  \n",
       "1         Philips India Limited  \n",
       "2                             -  \n",
       "3                  AVE-Promagne  \n",
       "4                             -  \n",
       "5                             -  \n",
       "6  Wrackle Technologies Pvt Ltd  \n",
       "7                       Shikvix  \n",
       "8                         VRIZE  \n",
       "9    ELPIS IT SOLUTIONS PVT LTD  "
      ]
     },
     "execution_count": 113,
     "metadata": {},
     "output_type": "execute_result"
    }
   ],
   "source": [
    "#creating a dataframe\n",
    "df1=pd.DataFrame({})\n",
    "df1['Job title']=job_title\n",
    "df1['Job description']=job_description\n",
    "df1['Job location']=job_location\n",
    "df1['Company name']=company_name\n",
    "df1"
   ]
  },
  {
   "cell_type": "markdown",
   "id": "9c1eb664",
   "metadata": {},
   "source": [
    "# Q3: In this question you have to scrape data using the filters available on the webpage as shown below: You have to use the location and salary filter. You have to scrape data for “Data Scientist” designation for first 10 job results. You have to scrape the job-title, job-location, company_name, experience_required. The location filter to be used is “Delhi/NCR” The salary filter to be used is “3-6” lakhs The task will be done as shown in the below steps:"
   ]
  },
  {
   "cell_type": "markdown",
   "id": "6a9eb5a1",
   "metadata": {},
   "source": [
    "1.First get the webpage https://www.naukri.com/\n",
    "\n",
    "2.Enter “Data Scientist” in “Skill,Designations,Companies” field .\n",
    "\n",
    "3.Then click the search button.\n",
    "\n",
    "4.Then apply the location filter and salary filter by checking the respective boxes\n",
    "\n",
    "5.Then scrape the data for the first 10 jobs results you get.\n",
    "\n",
    "6.Finally create a dataframe of the scraped data."
   ]
  },
  {
   "cell_type": "code",
   "execution_count": 4,
   "id": "fbe3c390",
   "metadata": {},
   "outputs": [],
   "source": [
    "#passing the url\n",
    "url='https://www.naukri.com/'\n",
    "driver.get(url)"
   ]
  },
  {
   "cell_type": "code",
   "execution_count": 5,
   "id": "e0816104",
   "metadata": {},
   "outputs": [
    {
     "data": {
      "text/plain": [
       "<selenium.webdriver.remote.webelement.WebElement (session=\"1fbd895d1e1b9b942eb753ad13ac8b27\", element=\"fe99237b-a23f-49bf-9e45-fa7d076c62d3\")>"
      ]
     },
     "execution_count": 5,
     "metadata": {},
     "output_type": "execute_result"
    }
   ],
   "source": [
    "search_job=driver.find_element_by_id(\"qsb-keyword-sugg\") #fetching the tag to send inputs\n",
    "search_job"
   ]
  },
  {
   "cell_type": "code",
   "execution_count": 6,
   "id": "6c3cfaf9",
   "metadata": {},
   "outputs": [],
   "source": [
    "search_job.send_keys(\"Data Scientist\") #sending the title input"
   ]
  },
  {
   "cell_type": "code",
   "execution_count": 7,
   "id": "a36715da",
   "metadata": {},
   "outputs": [],
   "source": [
    "search_button=driver.find_element_by_xpath(\"//div[@class='search-btn']\")\n",
    "search_button.click()    # searching"
   ]
  },
  {
   "cell_type": "code",
   "execution_count": 11,
   "id": "2a6b5ba0",
   "metadata": {},
   "outputs": [],
   "source": [
    "#using the filter for job location\n",
    "filter_button=driver.find_elements_by_xpath('//span[@class=\"ellipsis fleft\"]')\n",
    "for i in filter_button:\n",
    "    if i.text=='Delhi / NCR':\n",
    "        i.click()\n",
    "        break"
   ]
  },
  {
   "cell_type": "code",
   "execution_count": 10,
   "id": "db10c3ac",
   "metadata": {},
   "outputs": [],
   "source": [
    "#using the filter for salary\n",
    "filter_button=driver.find_elements_by_xpath('//span[@class=\"ellipsis fleft\"]')\n",
    "for i in filter_button:\n",
    "    if i.text==\"3-6 Lakhs\":\n",
    "        i.click()\n",
    "        break"
   ]
  },
  {
   "cell_type": "code",
   "execution_count": 28,
   "id": "e1f354d5",
   "metadata": {},
   "outputs": [
    {
     "data": {
      "text/plain": [
       "['Data Analyst/Data Scientist',\n",
       " 'Data Scientist/ Machine Learning Engineer',\n",
       " 'Data Scientist - WFH - MIND Infotech',\n",
       " 'Only Fresher / Data Scientist / Data Analyst / Analytics - MNC Jobs',\n",
       " 'Data Scientist / Data Analyst',\n",
       " 'Data Scientist / Data Analyst / Business Analytics - MNC Jobs Freshers',\n",
       " 'Data Scientist',\n",
       " 'Data Scientist',\n",
       " 'Data Scientist',\n",
       " 'Data Scientist - Machine Learning/ NLP']"
      ]
     },
     "execution_count": 28,
     "metadata": {},
     "output_type": "execute_result"
    }
   ],
   "source": [
    "titles_tag=titles_tags=driver.find_elements_by_xpath(\"//a[@class='title fw500 ellipsis']\") #fetching the title tag\n",
    "job_titles=[]\n",
    "for i in titles_tags:\n",
    "    job_titles.append(i.text)\n",
    "job_titles[0:10]"
   ]
  },
  {
   "cell_type": "code",
   "execution_count": 20,
   "id": "3646025b",
   "metadata": {},
   "outputs": [
    {
     "data": {
      "text/plain": [
       "['Skillenable Fintech Private Limited',\n",
       " 'Creative Hands HR Consultancy',\n",
       " 'MOTHERSONSUMI INFOTECH & DESIGNS LIMITED',\n",
       " 'GABA Consultancy services',\n",
       " 'CARS24',\n",
       " 'GABA Consultancy services',\n",
       " 'R Systems International Ltd.',\n",
       " 'Kusum Healthcare Pvt. Ltd.',\n",
       " 'R Systems International Ltd.',\n",
       " 'TalPro']"
      ]
     },
     "execution_count": 20,
     "metadata": {},
     "output_type": "execute_result"
    }
   ],
   "source": [
    "companies_tags=driver.find_elements_by_xpath(\"//a[@class='subTitle ellipsis fleft']\") #fetching company name\n",
    "company_name=[]\n",
    "for i in companies_tags:\n",
    "    company_name.append(i.text)\n",
    "company_name[0:10]"
   ]
  },
  {
   "cell_type": "code",
   "execution_count": 24,
   "id": "b9dbbc2d",
   "metadata": {},
   "outputs": [
    {
     "data": {
      "text/plain": [
       "['Bangalore/Bengaluru, Delhi / NCR, Mumbai (All Areas)',\n",
       " 'Mohali/SAS Nagar, Hyderabad/Secunderabad, Ahmedabad, Gurgaon/Gurugram, Chennai, Bangalore/Bengaluru',\n",
       " 'Pune, Chennai, Bangalore/Bengaluru, Delhi / NCR, Mumbai (All Areas)',\n",
       " 'Noida, Gurgaon/Gurugram, Delhi / NCR',\n",
       " 'Gurgaon/Gurugram',\n",
       " 'Noida, New Delhi, Gurgaon/Gurugram',\n",
       " 'Noida\\n(WFH during Covid)',\n",
       " 'Delhi / NCR(Okhla)',\n",
       " 'Noida(Sector-59 Noida)',\n",
       " 'Gurgaon/Gurugram']"
      ]
     },
     "execution_count": 24,
     "metadata": {},
     "output_type": "execute_result"
    }
   ],
   "source": [
    "location_tags=driver.find_elements_by_xpath(\"//li[@class='fleft grey-text br2 placeHolderLi location']\") #fetching job location\n",
    "job_location=[]\n",
    "for i in location_tags:\n",
    "    job_location.append(i.text)\n",
    "job_location[0:10]"
   ]
  },
  {
   "cell_type": "code",
   "execution_count": 25,
   "id": "6c7b293c",
   "metadata": {},
   "outputs": [
    {
     "data": {
      "text/plain": [
       "[<selenium.webdriver.remote.webelement.WebElement (session=\"1fbd895d1e1b9b942eb753ad13ac8b27\", element=\"4dad3a82-2775-4f70-862b-5bf2092a796b\")>,\n",
       " <selenium.webdriver.remote.webelement.WebElement (session=\"1fbd895d1e1b9b942eb753ad13ac8b27\", element=\"cb1dc3b5-87de-4249-b275-6ce0cb3c2d03\")>,\n",
       " <selenium.webdriver.remote.webelement.WebElement (session=\"1fbd895d1e1b9b942eb753ad13ac8b27\", element=\"7c35dc18-0f31-4c7f-8491-4c2577e10ad0\")>,\n",
       " <selenium.webdriver.remote.webelement.WebElement (session=\"1fbd895d1e1b9b942eb753ad13ac8b27\", element=\"cef4da4e-dc33-431b-9b7e-3e9282e51b15\")>,\n",
       " <selenium.webdriver.remote.webelement.WebElement (session=\"1fbd895d1e1b9b942eb753ad13ac8b27\", element=\"49d31bbb-eb03-447b-9eab-6a2e4a90b5ee\")>,\n",
       " <selenium.webdriver.remote.webelement.WebElement (session=\"1fbd895d1e1b9b942eb753ad13ac8b27\", element=\"914e745b-58ce-4705-af44-4d0e8a2ae6ff\")>,\n",
       " <selenium.webdriver.remote.webelement.WebElement (session=\"1fbd895d1e1b9b942eb753ad13ac8b27\", element=\"ebd34840-1dbc-4d78-ac45-a86bbc14bd22\")>,\n",
       " <selenium.webdriver.remote.webelement.WebElement (session=\"1fbd895d1e1b9b942eb753ad13ac8b27\", element=\"af3eb152-436f-47c2-8b35-d2e89dcebc18\")>,\n",
       " <selenium.webdriver.remote.webelement.WebElement (session=\"1fbd895d1e1b9b942eb753ad13ac8b27\", element=\"b3e26a9b-4354-4596-8e15-31611a119455\")>,\n",
       " <selenium.webdriver.remote.webelement.WebElement (session=\"1fbd895d1e1b9b942eb753ad13ac8b27\", element=\"90ae908e-09a2-4374-98b7-0ae0fae72e98\")>,\n",
       " <selenium.webdriver.remote.webelement.WebElement (session=\"1fbd895d1e1b9b942eb753ad13ac8b27\", element=\"4c237d20-0e5c-4b74-a3f9-dec1365e87ac\")>,\n",
       " <selenium.webdriver.remote.webelement.WebElement (session=\"1fbd895d1e1b9b942eb753ad13ac8b27\", element=\"a7313ab9-2826-48cf-98e9-7eac3e70c775\")>,\n",
       " <selenium.webdriver.remote.webelement.WebElement (session=\"1fbd895d1e1b9b942eb753ad13ac8b27\", element=\"44a5f242-7b12-40f9-940f-512513d3f553\")>,\n",
       " <selenium.webdriver.remote.webelement.WebElement (session=\"1fbd895d1e1b9b942eb753ad13ac8b27\", element=\"40b3f4b5-7f14-4a48-a93d-09d624fb51a8\")>,\n",
       " <selenium.webdriver.remote.webelement.WebElement (session=\"1fbd895d1e1b9b942eb753ad13ac8b27\", element=\"18a39bf3-9e4d-4100-b052-ba450df5731b\")>,\n",
       " <selenium.webdriver.remote.webelement.WebElement (session=\"1fbd895d1e1b9b942eb753ad13ac8b27\", element=\"a36b3886-6053-49f9-9161-0bcf2c94cf94\")>,\n",
       " <selenium.webdriver.remote.webelement.WebElement (session=\"1fbd895d1e1b9b942eb753ad13ac8b27\", element=\"7a7729bc-2308-4e9c-b0a6-45c858f192a4\")>,\n",
       " <selenium.webdriver.remote.webelement.WebElement (session=\"1fbd895d1e1b9b942eb753ad13ac8b27\", element=\"2e8ea802-5371-4051-9723-90b02d37fd05\")>,\n",
       " <selenium.webdriver.remote.webelement.WebElement (session=\"1fbd895d1e1b9b942eb753ad13ac8b27\", element=\"149f6d6a-c220-4c56-9333-40ab9a7dcd08\")>,\n",
       " <selenium.webdriver.remote.webelement.WebElement (session=\"1fbd895d1e1b9b942eb753ad13ac8b27\", element=\"40ac6306-2f2e-4b50-8da5-3eaafa1cfa89\")>]"
      ]
     },
     "execution_count": 25,
     "metadata": {},
     "output_type": "execute_result"
    }
   ],
   "source": [
    "experience_tags=driver.find_elements_by_xpath(\"//li[@class='fleft grey-text br2 placeHolderLi experience']\") #tag for experience\n",
    "experience_tags"
   ]
  },
  {
   "cell_type": "code",
   "execution_count": 26,
   "id": "57d2aece",
   "metadata": {},
   "outputs": [
    {
     "data": {
      "text/plain": [
       "['2-5 Yrs',\n",
       " '0-0 Yrs',\n",
       " '3-7 Yrs',\n",
       " '0-0 Yrs',\n",
       " '1-5 Yrs',\n",
       " '0-0 Yrs',\n",
       " '3-6 Yrs',\n",
       " '4-6 Yrs',\n",
       " '5-10 Yrs',\n",
       " '2-6 Yrs']"
      ]
     },
     "execution_count": 26,
     "metadata": {},
     "output_type": "execute_result"
    }
   ],
   "source": [
    "experience=[]\n",
    "for i in experience_tags:\n",
    "    experience.append(i.text)\n",
    "experience[0:10]"
   ]
  },
  {
   "cell_type": "code",
   "execution_count": 29,
   "id": "c561049a",
   "metadata": {},
   "outputs": [
    {
     "name": "stdout",
     "output_type": "stream",
     "text": [
      "20 20 20 20\n"
     ]
    }
   ],
   "source": [
    "#printing the length of obtained data\n",
    "print(len(job_titles),len(company_name),len(job_location),len(experience))"
   ]
  },
  {
   "cell_type": "code",
   "execution_count": 31,
   "id": "a6abad12",
   "metadata": {},
   "outputs": [
    {
     "data": {
      "text/html": [
       "<div>\n",
       "<style scoped>\n",
       "    .dataframe tbody tr th:only-of-type {\n",
       "        vertical-align: middle;\n",
       "    }\n",
       "\n",
       "    .dataframe tbody tr th {\n",
       "        vertical-align: top;\n",
       "    }\n",
       "\n",
       "    .dataframe thead th {\n",
       "        text-align: right;\n",
       "    }\n",
       "</style>\n",
       "<table border=\"1\" class=\"dataframe\">\n",
       "  <thead>\n",
       "    <tr style=\"text-align: right;\">\n",
       "      <th></th>\n",
       "      <th>Job title</th>\n",
       "      <th>Company name</th>\n",
       "      <th>job Location</th>\n",
       "      <th>Experience required</th>\n",
       "    </tr>\n",
       "  </thead>\n",
       "  <tbody>\n",
       "    <tr>\n",
       "      <th>0</th>\n",
       "      <td>Data Analyst/Data Scientist</td>\n",
       "      <td>Skillenable Fintech Private Limited</td>\n",
       "      <td>Bangalore/Bengaluru, Delhi / NCR, Mumbai (All ...</td>\n",
       "      <td>2-5 Yrs</td>\n",
       "    </tr>\n",
       "    <tr>\n",
       "      <th>1</th>\n",
       "      <td>Data Scientist/ Machine Learning Engineer</td>\n",
       "      <td>Creative Hands HR Consultancy</td>\n",
       "      <td>Mohali/SAS Nagar, Hyderabad/Secunderabad, Ahme...</td>\n",
       "      <td>0-0 Yrs</td>\n",
       "    </tr>\n",
       "    <tr>\n",
       "      <th>2</th>\n",
       "      <td>Data Scientist - WFH - MIND Infotech</td>\n",
       "      <td>MOTHERSONSUMI INFOTECH &amp; DESIGNS LIMITED</td>\n",
       "      <td>Pune, Chennai, Bangalore/Bengaluru, Delhi / NC...</td>\n",
       "      <td>3-7 Yrs</td>\n",
       "    </tr>\n",
       "    <tr>\n",
       "      <th>3</th>\n",
       "      <td>Only Fresher / Data Scientist / Data Analyst /...</td>\n",
       "      <td>GABA Consultancy services</td>\n",
       "      <td>Noida, Gurgaon/Gurugram, Delhi / NCR</td>\n",
       "      <td>0-0 Yrs</td>\n",
       "    </tr>\n",
       "    <tr>\n",
       "      <th>4</th>\n",
       "      <td>Data Scientist / Data Analyst</td>\n",
       "      <td>CARS24</td>\n",
       "      <td>Gurgaon/Gurugram</td>\n",
       "      <td>1-5 Yrs</td>\n",
       "    </tr>\n",
       "    <tr>\n",
       "      <th>5</th>\n",
       "      <td>Data Scientist / Data Analyst / Business Analy...</td>\n",
       "      <td>GABA Consultancy services</td>\n",
       "      <td>Noida, New Delhi, Gurgaon/Gurugram</td>\n",
       "      <td>0-0 Yrs</td>\n",
       "    </tr>\n",
       "    <tr>\n",
       "      <th>6</th>\n",
       "      <td>Data Scientist</td>\n",
       "      <td>R Systems International Ltd.</td>\n",
       "      <td>Noida\\n(WFH during Covid)</td>\n",
       "      <td>3-6 Yrs</td>\n",
       "    </tr>\n",
       "    <tr>\n",
       "      <th>7</th>\n",
       "      <td>Data Scientist</td>\n",
       "      <td>Kusum Healthcare Pvt. Ltd.</td>\n",
       "      <td>Delhi / NCR(Okhla)</td>\n",
       "      <td>4-6 Yrs</td>\n",
       "    </tr>\n",
       "    <tr>\n",
       "      <th>8</th>\n",
       "      <td>Data Scientist</td>\n",
       "      <td>R Systems International Ltd.</td>\n",
       "      <td>Noida(Sector-59 Noida)</td>\n",
       "      <td>5-10 Yrs</td>\n",
       "    </tr>\n",
       "    <tr>\n",
       "      <th>9</th>\n",
       "      <td>Data Scientist - Machine Learning/ NLP</td>\n",
       "      <td>TalPro</td>\n",
       "      <td>Gurgaon/Gurugram</td>\n",
       "      <td>2-6 Yrs</td>\n",
       "    </tr>\n",
       "  </tbody>\n",
       "</table>\n",
       "</div>"
      ],
      "text/plain": [
       "                                           Job title  \\\n",
       "0                        Data Analyst/Data Scientist   \n",
       "1          Data Scientist/ Machine Learning Engineer   \n",
       "2               Data Scientist - WFH - MIND Infotech   \n",
       "3  Only Fresher / Data Scientist / Data Analyst /...   \n",
       "4                      Data Scientist / Data Analyst   \n",
       "5  Data Scientist / Data Analyst / Business Analy...   \n",
       "6                                     Data Scientist   \n",
       "7                                     Data Scientist   \n",
       "8                                     Data Scientist   \n",
       "9             Data Scientist - Machine Learning/ NLP   \n",
       "\n",
       "                               Company name  \\\n",
       "0       Skillenable Fintech Private Limited   \n",
       "1             Creative Hands HR Consultancy   \n",
       "2  MOTHERSONSUMI INFOTECH & DESIGNS LIMITED   \n",
       "3                 GABA Consultancy services   \n",
       "4                                    CARS24   \n",
       "5                 GABA Consultancy services   \n",
       "6              R Systems International Ltd.   \n",
       "7                Kusum Healthcare Pvt. Ltd.   \n",
       "8              R Systems International Ltd.   \n",
       "9                                    TalPro   \n",
       "\n",
       "                                        job Location Experience required  \n",
       "0  Bangalore/Bengaluru, Delhi / NCR, Mumbai (All ...             2-5 Yrs  \n",
       "1  Mohali/SAS Nagar, Hyderabad/Secunderabad, Ahme...             0-0 Yrs  \n",
       "2  Pune, Chennai, Bangalore/Bengaluru, Delhi / NC...             3-7 Yrs  \n",
       "3               Noida, Gurgaon/Gurugram, Delhi / NCR             0-0 Yrs  \n",
       "4                                   Gurgaon/Gurugram             1-5 Yrs  \n",
       "5                 Noida, New Delhi, Gurgaon/Gurugram             0-0 Yrs  \n",
       "6                          Noida\\n(WFH during Covid)             3-6 Yrs  \n",
       "7                                 Delhi / NCR(Okhla)             4-6 Yrs  \n",
       "8                             Noida(Sector-59 Noida)            5-10 Yrs  \n",
       "9                                   Gurgaon/Gurugram             2-6 Yrs  "
      ]
     },
     "execution_count": 31,
     "metadata": {},
     "output_type": "execute_result"
    }
   ],
   "source": [
    "#creating the dataframe\n",
    "jobs=pd.DataFrame({})\n",
    "jobs['Job title']=job_titles\n",
    "jobs['Company name']=company_name\n",
    "jobs['job Location']=job_location\n",
    "jobs['Experience required']=experience\n",
    "jobs[0:10]"
   ]
  },
  {
   "cell_type": "markdown",
   "id": "a2d2254c",
   "metadata": {},
   "source": [
    "# Q4: Write a python program to scrape data for first 10 job results for Data scientist Designation in Noida location. You have to scrape company_name, No. of days ago when job was posted, Rating of the company. This task will be done in following steps:"
   ]
  },
  {
   "cell_type": "markdown",
   "id": "6fba5850",
   "metadata": {},
   "source": [
    "1.First get the webpage https://www.glassdoor.co.in/index.htm\n",
    "\n",
    "2.Enter “Data Scientist” in “Job Title,Keyword,Company” field and enter “Noida” in “location” field.\n",
    "\n",
    "3.Then click the search button. You will land up in the below page:\n",
    "\n",
    "4.Then scrape the data for the first 10 jobs results you get in the above shown page\n",
    "\n",
    "5.Finally create a dataframe of the scraped data."
   ]
  },
  {
   "cell_type": "code",
   "execution_count": 109,
   "id": "17dd5a45",
   "metadata": {},
   "outputs": [],
   "source": [
    "#passing the url\n",
    "url='https://www.glassdoor.co.in/index.htm'\n",
    "driver.get(url)"
   ]
  },
  {
   "cell_type": "code",
   "execution_count": 111,
   "id": "e80cdfe8",
   "metadata": {},
   "outputs": [],
   "source": [
    "#fetching the tag for sending job title input\n",
    "search_job=driver.find_element_by_xpath('//input[@id=\"scKeyword\"]')\n",
    "search_job.send_keys(\"Data Scientist\") #sending input"
   ]
  },
  {
   "cell_type": "code",
   "execution_count": 112,
   "id": "f3d1bb58",
   "metadata": {},
   "outputs": [],
   "source": [
    "#fetching the tag for job location \n",
    "search_loc=driver.find_element_by_xpath('//input[@id=\"scLocation\"]')\n",
    "search_loc.send_keys(\"Noida\") #giving the input "
   ]
  },
  {
   "cell_type": "code",
   "execution_count": 113,
   "id": "3449ae26",
   "metadata": {},
   "outputs": [],
   "source": [
    "search_btn=driver.find_element_by_id(\"prefix__icon-arrow-1\")\n",
    "search_btn.click() #submitting the search button"
   ]
  },
  {
   "cell_type": "code",
   "execution_count": 123,
   "id": "11f62289",
   "metadata": {},
   "outputs": [
    {
     "data": {
      "text/plain": [
       "[<selenium.webdriver.remote.webelement.WebElement (session=\"3232828095f694e8aa138bf03d59df81\", element=\"16a7155a-e1e2-4ac8-9ccd-1efc9e4da77e\")>,\n",
       " <selenium.webdriver.remote.webelement.WebElement (session=\"3232828095f694e8aa138bf03d59df81\", element=\"7aa05ea7-bbd2-495b-b0be-f8c647ea699f\")>,\n",
       " <selenium.webdriver.remote.webelement.WebElement (session=\"3232828095f694e8aa138bf03d59df81\", element=\"8dad7c9d-030c-4af1-985c-685c8c4d6e7a\")>,\n",
       " <selenium.webdriver.remote.webelement.WebElement (session=\"3232828095f694e8aa138bf03d59df81\", element=\"e362be97-85c5-415b-8d98-4c03e7ea3162\")>,\n",
       " <selenium.webdriver.remote.webelement.WebElement (session=\"3232828095f694e8aa138bf03d59df81\", element=\"64ce2bb0-4d6e-423a-8427-2aa2bd574bc9\")>,\n",
       " <selenium.webdriver.remote.webelement.WebElement (session=\"3232828095f694e8aa138bf03d59df81\", element=\"84a9d7ae-ddc5-417d-8415-d81c222bb3b2\")>,\n",
       " <selenium.webdriver.remote.webelement.WebElement (session=\"3232828095f694e8aa138bf03d59df81\", element=\"b9757ad5-7811-4808-a575-f6cf9380f60d\")>,\n",
       " <selenium.webdriver.remote.webelement.WebElement (session=\"3232828095f694e8aa138bf03d59df81\", element=\"b7e2502b-b9b0-4978-acf8-a0d2d674a319\")>,\n",
       " <selenium.webdriver.remote.webelement.WebElement (session=\"3232828095f694e8aa138bf03d59df81\", element=\"8827526a-5252-4032-b624-de241a7a606b\")>,\n",
       " <selenium.webdriver.remote.webelement.WebElement (session=\"3232828095f694e8aa138bf03d59df81\", element=\"7f187538-61e3-44b5-b7b3-5b93b236f9c0\")>,\n",
       " <selenium.webdriver.remote.webelement.WebElement (session=\"3232828095f694e8aa138bf03d59df81\", element=\"f3ca34cb-9698-4b4c-9cc5-47ac55a6a7e3\")>,\n",
       " <selenium.webdriver.remote.webelement.WebElement (session=\"3232828095f694e8aa138bf03d59df81\", element=\"99ca5c68-3299-4cdf-8054-8520634d55ba\")>,\n",
       " <selenium.webdriver.remote.webelement.WebElement (session=\"3232828095f694e8aa138bf03d59df81\", element=\"ba9a721a-9d0c-4861-907b-ad53f2b75bcb\")>,\n",
       " <selenium.webdriver.remote.webelement.WebElement (session=\"3232828095f694e8aa138bf03d59df81\", element=\"b6460dea-5a3f-478d-a0d5-5811a2a24086\")>,\n",
       " <selenium.webdriver.remote.webelement.WebElement (session=\"3232828095f694e8aa138bf03d59df81\", element=\"6cb12027-1448-46de-b149-6708e96f8c40\")>,\n",
       " <selenium.webdriver.remote.webelement.WebElement (session=\"3232828095f694e8aa138bf03d59df81\", element=\"f82547c1-2006-4875-8724-846c37cc5c61\")>,\n",
       " <selenium.webdriver.remote.webelement.WebElement (session=\"3232828095f694e8aa138bf03d59df81\", element=\"9e230114-ffbd-4166-a1ad-11c66ce1c556\")>,\n",
       " <selenium.webdriver.remote.webelement.WebElement (session=\"3232828095f694e8aa138bf03d59df81\", element=\"e79ecab8-e659-4692-8cef-fa3111d6d5c5\")>,\n",
       " <selenium.webdriver.remote.webelement.WebElement (session=\"3232828095f694e8aa138bf03d59df81\", element=\"f94264a7-4a21-4fdd-bc88-421628f3a430\")>,\n",
       " <selenium.webdriver.remote.webelement.WebElement (session=\"3232828095f694e8aa138bf03d59df81\", element=\"97fd35c0-62bc-45e5-be7c-88e59add41de\")>,\n",
       " <selenium.webdriver.remote.webelement.WebElement (session=\"3232828095f694e8aa138bf03d59df81\", element=\"dbde0bbc-8620-4641-b5b4-2bc8de4f66a3\")>,\n",
       " <selenium.webdriver.remote.webelement.WebElement (session=\"3232828095f694e8aa138bf03d59df81\", element=\"8f67d4a1-ccf3-4e04-b6df-03ffd768c609\")>,\n",
       " <selenium.webdriver.remote.webelement.WebElement (session=\"3232828095f694e8aa138bf03d59df81\", element=\"007d5071-0224-435d-9780-a8bef9858fc3\")>,\n",
       " <selenium.webdriver.remote.webelement.WebElement (session=\"3232828095f694e8aa138bf03d59df81\", element=\"3b5b7cf0-a0df-42e0-9c74-39dc99aeac90\")>,\n",
       " <selenium.webdriver.remote.webelement.WebElement (session=\"3232828095f694e8aa138bf03d59df81\", element=\"6085cbe6-954e-48ea-8a4f-1bcb2bb5e6f3\")>,\n",
       " <selenium.webdriver.remote.webelement.WebElement (session=\"3232828095f694e8aa138bf03d59df81\", element=\"f4c9ff5c-0a57-43d5-a332-716a73768c43\")>,\n",
       " <selenium.webdriver.remote.webelement.WebElement (session=\"3232828095f694e8aa138bf03d59df81\", element=\"0bf9568d-0330-48d8-8de2-ae25a2872284\")>,\n",
       " <selenium.webdriver.remote.webelement.WebElement (session=\"3232828095f694e8aa138bf03d59df81\", element=\"922c76b2-b083-4d9f-a15f-a6cad1ff5705\")>,\n",
       " <selenium.webdriver.remote.webelement.WebElement (session=\"3232828095f694e8aa138bf03d59df81\", element=\"c29c992e-e844-4b42-a811-fb296112fb97\")>,\n",
       " <selenium.webdriver.remote.webelement.WebElement (session=\"3232828095f694e8aa138bf03d59df81\", element=\"6f5f95f9-39fa-426d-87ef-d16090dd283b\")>]"
      ]
     },
     "execution_count": 123,
     "metadata": {},
     "output_type": "execute_result"
    }
   ],
   "source": [
    "#fetching company names by using xpath\n",
    "company_tags=driver.find_elements_by_xpath('//div[@class=\"d-flex justify-content-between align-items-start\"]')\n",
    "company_tags"
   ]
  },
  {
   "cell_type": "code",
   "execution_count": 124,
   "id": "04098c0b",
   "metadata": {},
   "outputs": [
    {
     "data": {
      "text/plain": [
       "['AlgoScale Technologies Private Limited',\n",
       " 'Liberin Technologies Private Limited',\n",
       " 'Lenskart',\n",
       " 'limeroad.com',\n",
       " 'Saishaa Services',\n",
       " 'Emerging India Analytics',\n",
       " 'Ishatva Management Solutions',\n",
       " 'Badatya Private Limited',\n",
       " 'Salasar New Age Technologies',\n",
       " 'Biz2Credit Inc']"
      ]
     },
     "execution_count": 124,
     "metadata": {},
     "output_type": "execute_result"
    }
   ],
   "source": [
    "company_name=[] #empty list to store data\n",
    "for i in company_tags:\n",
    "    company_name.append(i.text)\n",
    "company_name[0:10]"
   ]
  },
  {
   "cell_type": "code",
   "execution_count": 125,
   "id": "d2dde6cc",
   "metadata": {},
   "outputs": [
    {
     "data": {
      "text/plain": [
       "[<selenium.webdriver.remote.webelement.WebElement (session=\"3232828095f694e8aa138bf03d59df81\", element=\"69a76f2b-d47d-406c-9931-a7f951a86bb8\")>,\n",
       " <selenium.webdriver.remote.webelement.WebElement (session=\"3232828095f694e8aa138bf03d59df81\", element=\"19dc1985-fcc0-4515-ab16-93cde5d4a59f\")>,\n",
       " <selenium.webdriver.remote.webelement.WebElement (session=\"3232828095f694e8aa138bf03d59df81\", element=\"4c73dc4a-b52e-410f-82ca-46ae214059f2\")>,\n",
       " <selenium.webdriver.remote.webelement.WebElement (session=\"3232828095f694e8aa138bf03d59df81\", element=\"d05b723f-2b69-43e9-9a7e-7fcda1169d88\")>,\n",
       " <selenium.webdriver.remote.webelement.WebElement (session=\"3232828095f694e8aa138bf03d59df81\", element=\"b7f2adb8-fd5b-4f10-8bac-ad82581bc821\")>,\n",
       " <selenium.webdriver.remote.webelement.WebElement (session=\"3232828095f694e8aa138bf03d59df81\", element=\"96581ea7-8093-4586-83ce-157e57c1e8d6\")>,\n",
       " <selenium.webdriver.remote.webelement.WebElement (session=\"3232828095f694e8aa138bf03d59df81\", element=\"61013d7c-8682-4ce4-9bf3-f54f4e5c7685\")>,\n",
       " <selenium.webdriver.remote.webelement.WebElement (session=\"3232828095f694e8aa138bf03d59df81\", element=\"de0a675b-a79a-4fd8-b1da-0abba40faebb\")>,\n",
       " <selenium.webdriver.remote.webelement.WebElement (session=\"3232828095f694e8aa138bf03d59df81\", element=\"5d7a4015-e4c7-4b45-965e-f694185dcc7a\")>,\n",
       " <selenium.webdriver.remote.webelement.WebElement (session=\"3232828095f694e8aa138bf03d59df81\", element=\"11d3df3a-15d7-4a4a-84fa-0047a68b9e5f\")>,\n",
       " <selenium.webdriver.remote.webelement.WebElement (session=\"3232828095f694e8aa138bf03d59df81\", element=\"2c9be3fb-a061-4c26-ab0f-ccdad7e27be2\")>,\n",
       " <selenium.webdriver.remote.webelement.WebElement (session=\"3232828095f694e8aa138bf03d59df81\", element=\"c1086330-7376-4b37-8f23-d1f23f6ca9d3\")>,\n",
       " <selenium.webdriver.remote.webelement.WebElement (session=\"3232828095f694e8aa138bf03d59df81\", element=\"601877a8-a844-4dc6-80b0-1b432eaa3a6a\")>,\n",
       " <selenium.webdriver.remote.webelement.WebElement (session=\"3232828095f694e8aa138bf03d59df81\", element=\"20f87821-3fde-4d2a-80a5-295daf761b9e\")>,\n",
       " <selenium.webdriver.remote.webelement.WebElement (session=\"3232828095f694e8aa138bf03d59df81\", element=\"c31f4835-812f-4e49-9f93-208a54b881d4\")>,\n",
       " <selenium.webdriver.remote.webelement.WebElement (session=\"3232828095f694e8aa138bf03d59df81\", element=\"1c6a49b5-0a09-4313-8b98-34aa38642444\")>,\n",
       " <selenium.webdriver.remote.webelement.WebElement (session=\"3232828095f694e8aa138bf03d59df81\", element=\"7bfffbcc-4217-45c4-becb-adf9352280f6\")>,\n",
       " <selenium.webdriver.remote.webelement.WebElement (session=\"3232828095f694e8aa138bf03d59df81\", element=\"f88d72df-98b0-4d9e-9a27-dbd9134f46b6\")>,\n",
       " <selenium.webdriver.remote.webelement.WebElement (session=\"3232828095f694e8aa138bf03d59df81\", element=\"13ba1091-1f0f-4f8c-a32b-3c4c811d3929\")>,\n",
       " <selenium.webdriver.remote.webelement.WebElement (session=\"3232828095f694e8aa138bf03d59df81\", element=\"7f30728d-4bae-411d-945d-80575a97a851\")>,\n",
       " <selenium.webdriver.remote.webelement.WebElement (session=\"3232828095f694e8aa138bf03d59df81\", element=\"0b3927fb-50cf-47f0-adef-88c40280adf4\")>,\n",
       " <selenium.webdriver.remote.webelement.WebElement (session=\"3232828095f694e8aa138bf03d59df81\", element=\"fbdec265-c5d2-44f0-b19e-199881aa5f06\")>,\n",
       " <selenium.webdriver.remote.webelement.WebElement (session=\"3232828095f694e8aa138bf03d59df81\", element=\"337db3af-7415-455d-b0b4-d135a7bdaa9c\")>,\n",
       " <selenium.webdriver.remote.webelement.WebElement (session=\"3232828095f694e8aa138bf03d59df81\", element=\"e6891223-f040-48e7-a5cb-0956c54e668c\")>,\n",
       " <selenium.webdriver.remote.webelement.WebElement (session=\"3232828095f694e8aa138bf03d59df81\", element=\"a663db50-193d-43b4-ba9a-3cf8309f8abe\")>,\n",
       " <selenium.webdriver.remote.webelement.WebElement (session=\"3232828095f694e8aa138bf03d59df81\", element=\"fac0a092-e5b1-4bc0-a0d5-f168f74f37d2\")>,\n",
       " <selenium.webdriver.remote.webelement.WebElement (session=\"3232828095f694e8aa138bf03d59df81\", element=\"f93c0f08-cd88-47d1-afe5-662dc22f9711\")>,\n",
       " <selenium.webdriver.remote.webelement.WebElement (session=\"3232828095f694e8aa138bf03d59df81\", element=\"c17a1d82-d415-48db-9ca3-98ad2718d1b8\")>,\n",
       " <selenium.webdriver.remote.webelement.WebElement (session=\"3232828095f694e8aa138bf03d59df81\", element=\"8a8f9896-3275-49df-8785-88a8dff3eaa1\")>,\n",
       " <selenium.webdriver.remote.webelement.WebElement (session=\"3232828095f694e8aa138bf03d59df81\", element=\"01ecdd65-2db2-46e9-909b-d7daca099479\")>]"
      ]
     },
     "execution_count": 125,
     "metadata": {},
     "output_type": "execute_result"
    }
   ],
   "source": [
    "#fetching the no. of days ago the job posted using xpath\n",
    "post_tag=driver.find_elements_by_xpath('//div[@data-test=\"job-age\"]')\n",
    "post_tag"
   ]
  },
  {
   "cell_type": "code",
   "execution_count": 126,
   "id": "14d199a9",
   "metadata": {},
   "outputs": [
    {
     "data": {
      "text/plain": [
       "['13d', '30d+', '24h', '13d', '15d', '30d+', '8d', '10d', '30d+', '30d+']"
      ]
     },
     "execution_count": 126,
     "metadata": {},
     "output_type": "execute_result"
    }
   ],
   "source": [
    "Job_age=[] #empty list\n",
    "for i in post_tag:  #looping\n",
    "    Job_age.append(i.text)\n",
    "Job_age[0:10]"
   ]
  },
  {
   "cell_type": "code",
   "execution_count": 114,
   "id": "7c861de0",
   "metadata": {},
   "outputs": [
    {
     "data": {
      "text/plain": [
       "30"
      ]
     },
     "execution_count": 114,
     "metadata": {},
     "output_type": "execute_result"
    }
   ],
   "source": [
    "#fetching each and every job url\n",
    "urls=[]  #empty list\n",
    "for i in driver.find_elements_by_xpath(\"//div[@class='d-flex justify-content-between align-items-start']//a\"):\n",
    "    urls.append(i.get_attribute(\"href\"))\n",
    "len(urls)"
   ]
  },
  {
   "cell_type": "code",
   "execution_count": 115,
   "id": "85b0825d",
   "metadata": {},
   "outputs": [
    {
     "data": {
      "text/plain": [
       "['https://www.glassdoor.co.in/partner/jobListing.htm?pos=101&ao=1136043&s=58&guid=0000017bcb812b6b87e212863fe961f5&src=GD_JOB_AD&t=SR&vt=w&uido=6B207A508D7465AAFA98C105C9E58D40&ea=1&cs=1_af9d0a44&cb=1631206846083&jobListingId=1007200389479&jrtk=2-0-1ff5o2b51u4qk801-1ff5o2b6mu3ut800-97d4c65035600d81',\n",
       " 'https://www.glassdoor.co.in/partner/jobListing.htm?pos=102&ao=1136043&s=58&guid=0000017bcb812b6b87e212863fe961f5&src=GD_JOB_AD&t=SR&vt=w&uido=6B207A508D7465AAFA98C105C9E58D40&cs=1_bfb363d2&cb=1631206846090&jobListingId=1007290108522&jrtk=2-0-1ff5o2b51u4qk801-1ff5o2b6mu3ut800-5728b4a211ea2e96',\n",
       " 'https://www.glassdoor.co.in/partner/jobListing.htm?pos=103&ao=1136043&s=58&guid=0000017bcb812b6b87e212863fe961f5&src=GD_JOB_AD&t=SR&vt=w&uido=6B207A508D7465AAFA98C105C9E58D40&ea=1&cs=1_18d26689&cb=1631206846092&jobListingId=1007258785216&jrtk=2-0-1ff5o2b51u4qk801-1ff5o2b6mu3ut800-c33fbbcb496aaf48',\n",
       " 'https://www.glassdoor.co.in/partner/jobListing.htm?pos=104&ao=1136043&s=58&guid=0000017bcb812b6b87e212863fe961f5&src=GD_JOB_AD&t=SR&vt=w&uido=6B207A508D7465AAFA98C105C9E58D40&ea=1&cs=1_e45f920f&cb=1631206846093&jobListingId=1007285294048&jrtk=2-0-1ff5o2b51u4qk801-1ff5o2b6mu3ut800-13027c95012596b8',\n",
       " 'https://www.glassdoor.co.in/partner/jobListing.htm?pos=105&ao=1136043&s=58&guid=0000017bcb812b6b87e212863fe961f5&src=GD_JOB_AD&t=SR&vt=w&uido=6B207A508D7465AAFA98C105C9E58D40&cs=1_44f923be&cb=1631206846091&jobListingId=1007289606692&jrtk=2-0-1ff5o2b51u4qk801-1ff5o2b6mu3ut800-cd81678964ea464c',\n",
       " 'https://www.glassdoor.co.in/partner/jobListing.htm?pos=106&ao=1136043&s=58&guid=0000017bcb812b6b87e212863fe961f5&src=GD_JOB_AD&t=SR&vt=w&uido=6B207A508D7465AAFA98C105C9E58D40&cs=1_1c09bd87&cb=1631206846091&jobListingId=1006624053994&jrtk=2-0-1ff5o2b51u4qk801-1ff5o2b6mu3ut800-a8cb856cd397a474',\n",
       " 'https://www.glassdoor.co.in/partner/jobListing.htm?pos=107&ao=1136043&s=58&guid=0000017bcb812b6b87e212863fe961f5&src=GD_JOB_AD&t=SR&vt=w&uido=6B207A508D7465AAFA98C105C9E58D40&cs=1_2c6ee627&cb=1631206846093&jobListingId=1007250616593&jrtk=2-0-1ff5o2b51u4qk801-1ff5o2b6mu3ut800-90c19cac2de1cb18',\n",
       " 'https://www.glassdoor.co.in/partner/jobListing.htm?pos=108&ao=1136043&s=58&guid=0000017bcb812b6b87e212863fe961f5&src=GD_JOB_AD&t=SR&vt=w&uido=6B207A508D7465AAFA98C105C9E58D40&cs=1_4b975401&cb=1631206846094&jobListingId=1006461286442&jrtk=2-0-1ff5o2b51u4qk801-1ff5o2b6mu3ut800-a1ea358f023a69b7',\n",
       " 'https://www.glassdoor.co.in/partner/jobListing.htm?pos=109&ao=1136043&s=58&guid=0000017bcb812b6b87e212863fe961f5&src=GD_JOB_AD&t=SR&vt=w&uido=6B207A508D7465AAFA98C105C9E58D40&cs=1_3a69185b&cb=1631206846095&jobListingId=1007179647282&jrtk=2-0-1ff5o2b51u4qk801-1ff5o2b6mu3ut800-553f505b050aa33e',\n",
       " 'https://www.glassdoor.co.in/partner/jobListing.htm?pos=110&ao=1136043&s=58&guid=0000017bcb812b6b87e212863fe961f5&src=GD_JOB_AD&t=SR&vt=w&uido=6B207A508D7465AAFA98C105C9E58D40&cs=1_75bb5fdf&cb=1631206846095&jobListingId=1007285326378&jrtk=2-0-1ff5o2b51u4qk801-1ff5o2b6mu3ut800-9a104c32d9e70509',\n",
       " 'https://www.glassdoor.co.in/partner/jobListing.htm?pos=111&ao=1136043&s=58&guid=0000017bcb812b6b87e212863fe961f5&src=GD_JOB_AD&t=SR&vt=w&uido=6B207A508D7465AAFA98C105C9E58D40&cs=1_88565f41&cb=1631206846097&jobListingId=1007289606693&jrtk=2-0-1ff5o2b51u4qk801-1ff5o2b6mu3ut800-a8c1cf7bed67fe43',\n",
       " 'https://www.glassdoor.co.in/partner/jobListing.htm?pos=112&ao=1136043&s=58&guid=0000017bcb812b6b87e212863fe961f5&src=GD_JOB_AD&t=SR&vt=w&uido=6B207A508D7465AAFA98C105C9E58D40&cs=1_827e0507&cb=1631206846097&jobListingId=1007275121225&jrtk=2-0-1ff5o2b51u4qk801-1ff5o2b6mu3ut800-59eb9dcaa5a68f12',\n",
       " 'https://www.glassdoor.co.in/partner/jobListing.htm?pos=113&ao=1136043&s=58&guid=0000017bcb812b6b87e212863fe961f5&src=GD_JOB_AD&t=SR&vt=w&uido=6B207A508D7465AAFA98C105C9E58D40&cs=1_cd626c15&cb=1631206846098&jobListingId=1006624054035&jrtk=2-0-1ff5o2b51u4qk801-1ff5o2b6mu3ut800-c47c5ae51c2ed2ee',\n",
       " 'https://www.glassdoor.co.in/partner/jobListing.htm?pos=114&ao=1136043&s=58&guid=0000017bcb812b6b87e212863fe961f5&src=GD_JOB_AD&t=SR&vt=w&uido=6B207A508D7465AAFA98C105C9E58D40&cs=1_0bec140e&cb=1631206846098&jobListingId=1007095133299&jrtk=2-0-1ff5o2b51u4qk801-1ff5o2b6mu3ut800-84db922a59ad7885',\n",
       " 'https://www.glassdoor.co.in/partner/jobListing.htm?pos=115&ao=1136043&s=58&guid=0000017bcb812b6b87e212863fe961f5&src=GD_JOB_AD&t=SR&vt=w&uido=6B207A508D7465AAFA98C105C9E58D40&cs=1_0ded3b14&cb=1631206846099&jobListingId=1007248250199&jrtk=2-0-1ff5o2b51u4qk801-1ff5o2b6mu3ut800-86be4fb99f638f8b',\n",
       " 'https://www.glassdoor.co.in/partner/jobListing.htm?pos=116&ao=1136043&s=58&guid=0000017bcb812b6b87e212863fe961f5&src=GD_JOB_AD&t=SR&vt=w&uido=6B207A508D7465AAFA98C105C9E58D40&ea=1&cs=1_d5f850c5&cb=1631206846100&jobListingId=1006687249100&jrtk=2-0-1ff5o2b51u4qk801-1ff5o2b6mu3ut800-94036c835379de77',\n",
       " 'https://www.glassdoor.co.in/partner/jobListing.htm?pos=117&ao=1136043&s=58&guid=0000017bcb812b6b87e212863fe961f5&src=GD_JOB_AD&t=SR&vt=w&uido=6B207A508D7465AAFA98C105C9E58D40&cs=1_09e5d612&cb=1631206846099&jobListingId=1007290108300&jrtk=2-0-1ff5o2b51u4qk801-1ff5o2b6mu3ut800-24c9e34f75a94d14',\n",
       " 'https://www.glassdoor.co.in/partner/jobListing.htm?pos=118&ao=1136043&s=58&guid=0000017bcb812b6b87e212863fe961f5&src=GD_JOB_AD&t=SR&vt=w&uido=6B207A508D7465AAFA98C105C9E58D40&cs=1_1df37a9b&cb=1631206846100&jobListingId=1006500025617&jrtk=2-0-1ff5o2b51u4qk801-1ff5o2b6mu3ut800-221d6afa3757039d',\n",
       " 'https://www.glassdoor.co.in/partner/jobListing.htm?pos=119&ao=1136043&s=58&guid=0000017bcb812b6b87e212863fe961f5&src=GD_JOB_AD&t=SR&vt=w&uido=6B207A508D7465AAFA98C105C9E58D40&ea=1&cs=1_f2758b44&cb=1631206846101&jobListingId=1007267967133&jrtk=2-0-1ff5o2b51u4qk801-1ff5o2b6mu3ut800-b3c352ca79ca6d73',\n",
       " 'https://www.glassdoor.co.in/partner/jobListing.htm?pos=120&ao=1136043&s=58&guid=0000017bcb812b6b87e212863fe961f5&src=GD_JOB_AD&t=SR&vt=w&uido=6B207A508D7465AAFA98C105C9E58D40&ea=1&cs=1_c5cd86f9&cb=1631206846101&jobListingId=1007258812550&jrtk=2-0-1ff5o2b51u4qk801-1ff5o2b6mu3ut800-223dcefd7d2a9c1c',\n",
       " 'https://www.glassdoor.co.in/partner/jobListing.htm?pos=121&ao=1136043&s=58&guid=0000017bcb812b6b87e212863fe961f5&src=GD_JOB_AD&t=SR&vt=w&uido=6B207A508D7465AAFA98C105C9E58D40&cs=1_b1eb7c38&cb=1631206846100&jobListingId=1007292216912&jrtk=2-0-1ff5o2b51u4qk801-1ff5o2b6mu3ut800-9a26187856f229b6',\n",
       " 'https://www.glassdoor.co.in/partner/jobListing.htm?pos=122&ao=1136043&s=58&guid=0000017bcb812b6b87e212863fe961f5&src=GD_JOB_AD&t=SR&vt=w&uido=6B207A508D7465AAFA98C105C9E58D40&cs=1_7ce21622&cb=1631206846101&jobListingId=1007279789126&jrtk=2-0-1ff5o2b51u4qk801-1ff5o2b6mu3ut800-696539a2bd423b28',\n",
       " 'https://www.glassdoor.co.in/partner/jobListing.htm?pos=123&ao=1136043&s=58&guid=0000017bcb812b6b87e212863fe961f5&src=GD_JOB_AD&t=SR&vt=w&uido=6B207A508D7465AAFA98C105C9E58D40&ea=1&cs=1_000d6bfc&cb=1631206846102&jobListingId=1007254252559&jrtk=2-0-1ff5o2b51u4qk801-1ff5o2b6mu3ut800-4a6ae5c940239506',\n",
       " 'https://www.glassdoor.co.in/partner/jobListing.htm?pos=124&ao=1136043&s=58&guid=0000017bcb812b6b87e212863fe961f5&src=GD_JOB_AD&t=SR&vt=w&uido=6B207A508D7465AAFA98C105C9E58D40&cs=1_769f25e3&cb=1631206846101&jobListingId=1007242689151&jrtk=2-0-1ff5o2b51u4qk801-1ff5o2b6mu3ut800-1312cf23d6d9b860',\n",
       " 'https://www.glassdoor.co.in/partner/jobListing.htm?pos=125&ao=1136043&s=58&guid=0000017bcb812b6b87e212863fe961f5&src=GD_JOB_AD&t=SR&vt=w&uido=6B207A508D7465AAFA98C105C9E58D40&cs=1_4e93a6f4&cb=1631206846102&jobListingId=1007117935447&jrtk=2-0-1ff5o2b51u4qk801-1ff5o2b6mu3ut800-614dc0248a6019b0',\n",
       " 'https://www.glassdoor.co.in/partner/jobListing.htm?pos=126&ao=1136043&s=58&guid=0000017bcb812b6b87e212863fe961f5&src=GD_JOB_AD&t=SR&vt=w&uido=6B207A508D7465AAFA98C105C9E58D40&cs=1_9f8a3b5a&cb=1631206846102&jobListingId=1007245257958&jrtk=2-0-1ff5o2b51u4qk801-1ff5o2b6mu3ut800-d0893868ee842eed',\n",
       " 'https://www.glassdoor.co.in/partner/jobListing.htm?pos=127&ao=1136043&s=58&guid=0000017bcb812b6b87e212863fe961f5&src=GD_JOB_AD&t=SR&vt=w&uido=6B207A508D7465AAFA98C105C9E58D40&cs=1_1d4894af&cb=1631206846102&jobListingId=1007254237149&jrtk=2-0-1ff5o2b51u4qk801-1ff5o2b6mu3ut800-8aebf7726fd54735',\n",
       " 'https://www.glassdoor.co.in/partner/jobListing.htm?pos=128&ao=1136043&s=58&guid=0000017bcb812b6b87e212863fe961f5&src=GD_JOB_AD&t=SR&vt=w&uido=6B207A508D7465AAFA98C105C9E58D40&cs=1_5c5b1acb&cb=1631206846103&jobListingId=1006867507716&jrtk=2-0-1ff5o2b51u4qk801-1ff5o2b6mu3ut800-83f3ba54497948c9',\n",
       " 'https://www.glassdoor.co.in/partner/jobListing.htm?pos=129&ao=1136043&s=58&guid=0000017bcb812b6b87e212863fe961f5&src=GD_JOB_AD&t=SR&vt=w&uido=6B207A508D7465AAFA98C105C9E58D40&ea=1&cs=1_3025b081&cb=1631206846104&jobListingId=1007266328290&jrtk=2-0-1ff5o2b51u4qk801-1ff5o2b6mu3ut800-eae3ece86db0d172',\n",
       " 'https://www.glassdoor.co.in/partner/jobListing.htm?pos=130&ao=1136043&s=58&guid=0000017bcb812b6b87e212863fe961f5&src=GD_JOB_AD&t=SR&vt=w&uido=6B207A508D7465AAFA98C105C9E58D40&cs=1_311006fa&cb=1631206846103&jobListingId=1007044567503&jrtk=2-0-1ff5o2b51u4qk801-1ff5o2b6mu3ut800-5092deea13fb4f8b']"
      ]
     },
     "execution_count": 115,
     "metadata": {},
     "output_type": "execute_result"
    }
   ],
   "source": [
    "urls"
   ]
  },
  {
   "cell_type": "code",
   "execution_count": 129,
   "id": "8cff0d77",
   "metadata": {},
   "outputs": [
    {
     "data": {
      "text/plain": [
       "['-', '-', '-', '-', '-', '-', '-', '-', '-', '-']"
      ]
     },
     "execution_count": 129,
     "metadata": {},
     "output_type": "execute_result"
    }
   ],
   "source": [
    "#fetching the rating of the job\n",
    "ratings=[]\n",
    "for i in urls[:10]:\n",
    "    driver.get(i)\n",
    "    time.sleep(1)\n",
    "    try:\n",
    "        rate_tags=driver.find_elements_by_xpath('//div[@class=\"mr-sm css-ey2fjr e1pr2f4f2\"]') #fetching rating tag using xpath\n",
    "        ratings.append(rate_tags.text)\n",
    "    except:\n",
    "        ratings.append('-')\n",
    "ratings"
   ]
  },
  {
   "cell_type": "code",
   "execution_count": 61,
   "id": "ec28b860",
   "metadata": {},
   "outputs": [
    {
     "name": "stdout",
     "output_type": "stream",
     "text": [
      "30 30 30\n"
     ]
    }
   ],
   "source": [
    "#printing the length of above obtained data\n",
    "print(len(company_name),len(Job_age),len(ratings))"
   ]
  },
  {
   "cell_type": "code",
   "execution_count": 64,
   "id": "56d747cf",
   "metadata": {},
   "outputs": [
    {
     "data": {
      "text/html": [
       "<div>\n",
       "<style scoped>\n",
       "    .dataframe tbody tr th:only-of-type {\n",
       "        vertical-align: middle;\n",
       "    }\n",
       "\n",
       "    .dataframe tbody tr th {\n",
       "        vertical-align: top;\n",
       "    }\n",
       "\n",
       "    .dataframe thead th {\n",
       "        text-align: right;\n",
       "    }\n",
       "</style>\n",
       "<table border=\"1\" class=\"dataframe\">\n",
       "  <thead>\n",
       "    <tr style=\"text-align: right;\">\n",
       "      <th></th>\n",
       "      <th>Company_name</th>\n",
       "      <th>No. of days ago job posted</th>\n",
       "      <th>Rating of the company</th>\n",
       "    </tr>\n",
       "  </thead>\n",
       "  <tbody>\n",
       "    <tr>\n",
       "      <th>0</th>\n",
       "      <td>AlgoScale Technologies Private Limited</td>\n",
       "      <td>12d</td>\n",
       "      <td>-</td>\n",
       "    </tr>\n",
       "    <tr>\n",
       "      <th>1</th>\n",
       "      <td>Liberin Technologies Private Limited</td>\n",
       "      <td>30d+</td>\n",
       "      <td>-</td>\n",
       "    </tr>\n",
       "    <tr>\n",
       "      <th>2</th>\n",
       "      <td>limeroad.com</td>\n",
       "      <td>12d</td>\n",
       "      <td>-</td>\n",
       "    </tr>\n",
       "    <tr>\n",
       "      <th>3</th>\n",
       "      <td>Ishatva Management Solutions</td>\n",
       "      <td>7d</td>\n",
       "      <td>-</td>\n",
       "    </tr>\n",
       "    <tr>\n",
       "      <th>4</th>\n",
       "      <td>Badatya Private Limited</td>\n",
       "      <td>9d</td>\n",
       "      <td>-</td>\n",
       "    </tr>\n",
       "    <tr>\n",
       "      <th>5</th>\n",
       "      <td>Saishaa Services</td>\n",
       "      <td>14d</td>\n",
       "      <td>-</td>\n",
       "    </tr>\n",
       "    <tr>\n",
       "      <th>6</th>\n",
       "      <td>Salasar New Age Technologies</td>\n",
       "      <td>30d+</td>\n",
       "      <td>-</td>\n",
       "    </tr>\n",
       "    <tr>\n",
       "      <th>7</th>\n",
       "      <td>Newgen Software</td>\n",
       "      <td>30d+</td>\n",
       "      <td>-</td>\n",
       "    </tr>\n",
       "    <tr>\n",
       "      <th>8</th>\n",
       "      <td>Biz2Credit Inc</td>\n",
       "      <td>30d+</td>\n",
       "      <td>-</td>\n",
       "    </tr>\n",
       "    <tr>\n",
       "      <th>9</th>\n",
       "      <td>Ericsson</td>\n",
       "      <td>6d</td>\n",
       "      <td>-</td>\n",
       "    </tr>\n",
       "  </tbody>\n",
       "</table>\n",
       "</div>"
      ],
      "text/plain": [
       "                             Company_name No. of days ago job posted  \\\n",
       "0  AlgoScale Technologies Private Limited                        12d   \n",
       "1    Liberin Technologies Private Limited                       30d+   \n",
       "2                            limeroad.com                        12d   \n",
       "3            Ishatva Management Solutions                         7d   \n",
       "4                 Badatya Private Limited                         9d   \n",
       "5                        Saishaa Services                        14d   \n",
       "6            Salasar New Age Technologies                       30d+   \n",
       "7                         Newgen Software                       30d+   \n",
       "8                          Biz2Credit Inc                       30d+   \n",
       "9                                Ericsson                         6d   \n",
       "\n",
       "  Rating of the company  \n",
       "0                     -  \n",
       "1                     -  \n",
       "2                     -  \n",
       "3                     -  \n",
       "4                     -  \n",
       "5                     -  \n",
       "6                     -  \n",
       "7                     -  \n",
       "8                     -  \n",
       "9                     -  "
      ]
     },
     "execution_count": 64,
     "metadata": {},
     "output_type": "execute_result"
    }
   ],
   "source": [
    "#creating the dataframe\n",
    "Df=pd.DataFrame({})\n",
    "Df['Company_name']=company_name\n",
    "Df['No. of days ago job posted']=Job_age\n",
    "Df['Rating of the company']=ratings\n",
    "Df[0:10]"
   ]
  },
  {
   "cell_type": "markdown",
   "id": "a905ec7f",
   "metadata": {},
   "source": [
    "# Q5:  Write a python program to scrape the salary data for Data Scientist designation in Noida location. You have to scrape Company name, Number of salaries, Average salary, Min salary, Max Salary. The above task will be, done as shown in the below steps:"
   ]
  },
  {
   "cell_type": "markdown",
   "id": "6acf89ac",
   "metadata": {},
   "source": [
    "1.First get the webpage https://www.glassdoor.co.in/Salaries/index.htm\n",
    "\n",
    "2.Enter “Data Scientist” in Job title field and “Noida” in location field.\n",
    "\n",
    "3.Click the search button.\n",
    "\n",
    "4.After that you will land on the below page You have to scrape whole data from this webpage\n",
    "\n",
    "5.Scrape data for first 10 companies. Scrape the min salary, max salary, company name, Average salary and rating of the company. \n",
    "\n",
    "6.Store the data in a dataframe."
   ]
  },
  {
   "cell_type": "code",
   "execution_count": 48,
   "id": "4cbfc6d9",
   "metadata": {},
   "outputs": [],
   "source": [
    "#passing url\n",
    "url='https://www.glassdoor.co.in/Salaries/index.htm'\n",
    "driver.get(url)"
   ]
  },
  {
   "cell_type": "code",
   "execution_count": 84,
   "id": "d79bd851",
   "metadata": {},
   "outputs": [],
   "source": [
    "#searching for tag and sending input for job title using xpath\n",
    "search_job=driver.find_element_by_xpath('//input[@name=\"sc.keyword\"]')\n",
    "search_job.send_keys(\"Data Scientist\")      "
   ]
  },
  {
   "cell_type": "code",
   "execution_count": 85,
   "id": "f1ea41e1",
   "metadata": {},
   "outputs": [],
   "source": [
    "#searching for tag and sending input for job location using xpath\n",
    "search_loc=driver.find_element_by_xpath('//input[@id=\"LocationSearch\"]')\n",
    "search_loc.send_keys(\"Noida\")"
   ]
  },
  {
   "cell_type": "code",
   "execution_count": 86,
   "id": "9319ca4f",
   "metadata": {},
   "outputs": [],
   "source": [
    "#clicking the search button\n",
    "search_btn=driver.find_element_by_xpath(\"//button[@class='gd-btn-mkt']\")\n",
    "search_btn.click()"
   ]
  },
  {
   "cell_type": "code",
   "execution_count": 93,
   "id": "8134df67",
   "metadata": {},
   "outputs": [
    {
     "name": "stdout",
     "output_type": "stream",
     "text": [
      "['https://www.glassdoor.co.in/Salary/Tata-Consultancy-Services-Data-Scientist-New-Delhi-Salaries-EJI_IE13461.0,25_KO26,40_IL.41,50_IM1083.htm', 'https://www.glassdoor.co.in/Salary/IBM-Data-Scientist-New-Delhi-Salaries-EJI_IE354.0,3_KO4,18_IL.19,28_IM1083.htm', 'https://www.glassdoor.co.in/Salary/Accenture-Data-Scientist-New-Delhi-Salaries-EJI_IE4138.0,9_KO10,24_IL.25,34_IM1083.htm', 'https://www.glassdoor.co.in/Salary/Delhivery-Data-Scientist-New-Delhi-Salaries-EJI_IE513409.0,9_KO10,24_IL.25,34_IM1083.htm', 'https://www.glassdoor.co.in/Salary/Ericsson-Worldwide-Data-Scientist-New-Delhi-Salaries-EJI_IE3472.0,18_KO19,33_IL.34,43_IM1083.htm', 'https://www.glassdoor.co.in/Salary/UnitedHealth-Group-Data-Scientist-New-Delhi-Salaries-EJI_IE1991.0,18_KO19,33_IL.34,43_IM1083.htm', 'https://www.glassdoor.co.in/Salary/Optum-Data-Scientist-New-Delhi-Salaries-EJI_IE2409113.0,5_KO6,20_IL.21,30_IM1083.htm', 'https://www.glassdoor.co.in/Salary/Optum-Global-Solutions-Data-Scientist-New-Delhi-Salaries-EJI_IE3725926.0,22_KO23,37_IL.38,47_IM1083.htm', 'https://www.glassdoor.co.in/Salary/Valiance-Solutions-Data-Scientist-New-Delhi-Salaries-EJI_IE895637.0,18_KO19,33_IL.34,43_IM1083.htm', 'https://www.glassdoor.co.in/Salary/EXL-Service-Data-Scientist-New-Delhi-Salaries-EJI_IE37901.0,11_KO12,26_IL.27,36_IM1083.htm', 'https://www.glassdoor.co.in/Salary/Cognizant-Technology-Solutions-Data-Scientist-New-Delhi-Salaries-EJI_IE8014.0,30_KO31,45_IL.46,55_IM1083.htm', 'https://www.glassdoor.co.in/Salary/ZS-Associates-Data-Scientist-New-Delhi-Salaries-EJI_IE115506.0,13_KO14,28_IL.29,38_IM1083.htm', 'https://www.glassdoor.co.in/Salary/Nagarro-Data-Scientist-New-Delhi-Salaries-EJI_IE240077.0,7_KO8,22_IL.23,32_IM1083.htm', 'https://www.glassdoor.co.in/Salary/Innovaccer-Data-Scientist-New-Delhi-Salaries-EJI_IE721552.0,10_KO11,25_IL.26,35_IM1083.htm', 'https://www.glassdoor.co.in/Salary/OYO-Data-Scientist-New-Delhi-Salaries-EJI_IE953789.0,3_KO4,18_IL.19,28_IM1083.htm', 'https://www.glassdoor.co.in/Salary/dunnhumby-Data-Scientist-New-Delhi-Salaries-EJI_IE195922.0,9_KO10,24_IL.25,34_IM1083.htm', 'https://www.glassdoor.co.in/Salary/Amazon-Data-Scientist-New-Delhi-Salaries-EJI_IE6036.0,6_KO7,21_IL.22,31_IM1083.htm', 'https://www.glassdoor.co.in/Salary/CARS24-com-Data-Scientist-New-Delhi-Salaries-EJI_IE1316104.0,10_KO11,25_IL.26,35_IM1083.htm', 'https://www.glassdoor.co.in/Salary/Vidooly-Media-Tech-Data-Scientist-New-Delhi-EJI_IE1483199.0,18_KO19,33_IL.34,43_IM1083.htm?filter.payPeriod=MONTHLY', 'https://www.glassdoor.co.in/Salary/ParallelDots-Data-Scientist-New-Delhi-Salaries-EJI_IE1817397.0,12_KO13,27_IL.28,37_IM1083.htm']\n"
     ]
    }
   ],
   "source": [
    "#fetching the url's for each job \n",
    "urls=[]  #empty list\n",
    "for i in driver.find_elements_by_xpath('//h3[@class=\"m-0 css-g261rn\"]//a'):  #looping\n",
    "    urls.append(i.get_attribute(\"href\"))\n",
    "print(urls)  #printing the url's\n",
    "#company_tag=driver.find_elements_by_xpath('//h3[@class=\"m-0 css-g261rn\"]//a')\n",
    "#company_tag"
   ]
  },
  {
   "cell_type": "code",
   "execution_count": 97,
   "id": "ad5e5311",
   "metadata": {},
   "outputs": [
    {
     "data": {
      "text/plain": [
       "[<selenium.webdriver.remote.webelement.WebElement (session=\"6af934c5d3e2847023d06dff56de5d34\", element=\"ed66e8df-0d9c-40c6-ac7d-5ae3c3481a51\")>,\n",
       " <selenium.webdriver.remote.webelement.WebElement (session=\"6af934c5d3e2847023d06dff56de5d34\", element=\"0bb6166b-f173-4b36-982b-23f1a3dfa0ae\")>,\n",
       " <selenium.webdriver.remote.webelement.WebElement (session=\"6af934c5d3e2847023d06dff56de5d34\", element=\"6df80066-cc1f-4ece-a4a2-e2e532dd8605\")>,\n",
       " <selenium.webdriver.remote.webelement.WebElement (session=\"6af934c5d3e2847023d06dff56de5d34\", element=\"9dd4f10d-31e7-4adb-9d0d-a4a602caaff6\")>,\n",
       " <selenium.webdriver.remote.webelement.WebElement (session=\"6af934c5d3e2847023d06dff56de5d34\", element=\"7674b0a4-d2c1-4de4-a60a-315606efe503\")>,\n",
       " <selenium.webdriver.remote.webelement.WebElement (session=\"6af934c5d3e2847023d06dff56de5d34\", element=\"7aaba2b7-9a0d-4db2-b1fc-f06d9f0ae553\")>,\n",
       " <selenium.webdriver.remote.webelement.WebElement (session=\"6af934c5d3e2847023d06dff56de5d34\", element=\"3da00fef-58ad-4676-82a9-38c932311277\")>,\n",
       " <selenium.webdriver.remote.webelement.WebElement (session=\"6af934c5d3e2847023d06dff56de5d34\", element=\"f49279ed-218b-414a-abbe-864f74cdcedd\")>,\n",
       " <selenium.webdriver.remote.webelement.WebElement (session=\"6af934c5d3e2847023d06dff56de5d34\", element=\"24964f69-9c99-4ade-83e6-fa8f72d6779a\")>,\n",
       " <selenium.webdriver.remote.webelement.WebElement (session=\"6af934c5d3e2847023d06dff56de5d34\", element=\"a6f4631e-ba25-4913-823f-a0a718992f15\")>,\n",
       " <selenium.webdriver.remote.webelement.WebElement (session=\"6af934c5d3e2847023d06dff56de5d34\", element=\"b8a29487-401c-4f07-994c-4ecd425fc7f3\")>,\n",
       " <selenium.webdriver.remote.webelement.WebElement (session=\"6af934c5d3e2847023d06dff56de5d34\", element=\"fc4df293-c0a4-4641-8518-971612e91246\")>,\n",
       " <selenium.webdriver.remote.webelement.WebElement (session=\"6af934c5d3e2847023d06dff56de5d34\", element=\"164c5cf9-2421-4bd3-9ea1-b6b9ba1bf567\")>,\n",
       " <selenium.webdriver.remote.webelement.WebElement (session=\"6af934c5d3e2847023d06dff56de5d34\", element=\"1ba25399-d9d7-4065-915b-45d7966c52f5\")>,\n",
       " <selenium.webdriver.remote.webelement.WebElement (session=\"6af934c5d3e2847023d06dff56de5d34\", element=\"02a9c850-3808-4e1a-b030-402ed3ddd637\")>,\n",
       " <selenium.webdriver.remote.webelement.WebElement (session=\"6af934c5d3e2847023d06dff56de5d34\", element=\"beb2d40b-8965-4a29-b87c-a68906633a50\")>,\n",
       " <selenium.webdriver.remote.webelement.WebElement (session=\"6af934c5d3e2847023d06dff56de5d34\", element=\"8316a2b4-b7ac-45b8-8d76-6e65e3f1bf21\")>,\n",
       " <selenium.webdriver.remote.webelement.WebElement (session=\"6af934c5d3e2847023d06dff56de5d34\", element=\"a72a3b22-7bd2-4dbc-a641-1a5ac1b380af\")>,\n",
       " <selenium.webdriver.remote.webelement.WebElement (session=\"6af934c5d3e2847023d06dff56de5d34\", element=\"834ad94e-5a8e-4771-917f-9d5aad58ab32\")>,\n",
       " <selenium.webdriver.remote.webelement.WebElement (session=\"6af934c5d3e2847023d06dff56de5d34\", element=\"addde101-3f36-4c1c-85b2-c073f255a3e5\")>]"
      ]
     },
     "execution_count": 97,
     "metadata": {},
     "output_type": "execute_result"
    }
   ],
   "source": [
    "#company tags using xpath\n",
    "company_tags=driver.find_elements_by_xpath('//a[@class=\"css-f3vw95 e1aj7ssy3\"]')\n",
    "company_tags"
   ]
  },
  {
   "cell_type": "code",
   "execution_count": 98,
   "id": "710ea38f",
   "metadata": {},
   "outputs": [
    {
     "data": {
      "text/plain": [
       "['Tata Consultancy Services',\n",
       " 'IBM',\n",
       " 'Accenture',\n",
       " 'Delhivery',\n",
       " 'Ericsson-Worldwide',\n",
       " 'UnitedHealth Group',\n",
       " 'Optum',\n",
       " 'Optum Global Solutions',\n",
       " 'Valiance Solutions',\n",
       " 'EXL Service']"
      ]
     },
     "execution_count": 98,
     "metadata": {},
     "output_type": "execute_result"
    }
   ],
   "source": [
    "#fetching only the company names\n",
    "company_name=[]\n",
    "for i in company_tags:\n",
    "    company_name.append(i.text)\n",
    "company_name[0:10]"
   ]
  },
  {
   "cell_type": "code",
   "execution_count": 99,
   "id": "d99becda",
   "metadata": {},
   "outputs": [
    {
     "data": {
      "text/plain": [
       "[<selenium.webdriver.remote.webelement.WebElement (session=\"6af934c5d3e2847023d06dff56de5d34\", element=\"1be954f4-faf4-4772-8ada-54f7815e84ad\")>,\n",
       " <selenium.webdriver.remote.webelement.WebElement (session=\"6af934c5d3e2847023d06dff56de5d34\", element=\"a5ff16fd-66cd-464a-af6a-392f29711f1e\")>,\n",
       " <selenium.webdriver.remote.webelement.WebElement (session=\"6af934c5d3e2847023d06dff56de5d34\", element=\"a4e57865-e174-4b40-800b-d6fbdc71b58d\")>,\n",
       " <selenium.webdriver.remote.webelement.WebElement (session=\"6af934c5d3e2847023d06dff56de5d34\", element=\"5256a8d7-530b-4c1d-8e4c-561e11a56de9\")>,\n",
       " <selenium.webdriver.remote.webelement.WebElement (session=\"6af934c5d3e2847023d06dff56de5d34\", element=\"60550b25-236a-4f20-a494-1a1afbaa7bbf\")>,\n",
       " <selenium.webdriver.remote.webelement.WebElement (session=\"6af934c5d3e2847023d06dff56de5d34\", element=\"ad46da05-fa95-47ce-a6e4-c1ae374131ab\")>,\n",
       " <selenium.webdriver.remote.webelement.WebElement (session=\"6af934c5d3e2847023d06dff56de5d34\", element=\"fa43bd0b-92ab-4046-a376-e9d406d935de\")>,\n",
       " <selenium.webdriver.remote.webelement.WebElement (session=\"6af934c5d3e2847023d06dff56de5d34\", element=\"1cd723f7-954c-4a45-afe5-8d181edc55d7\")>,\n",
       " <selenium.webdriver.remote.webelement.WebElement (session=\"6af934c5d3e2847023d06dff56de5d34\", element=\"08d61e30-11f4-49aa-8f84-a368d114ce7a\")>,\n",
       " <selenium.webdriver.remote.webelement.WebElement (session=\"6af934c5d3e2847023d06dff56de5d34\", element=\"1740ab8c-8c0b-4fcd-8e9c-7d8df0dc63e7\")>,\n",
       " <selenium.webdriver.remote.webelement.WebElement (session=\"6af934c5d3e2847023d06dff56de5d34\", element=\"1c7d3546-35f0-4223-8173-37ec5c9accd7\")>,\n",
       " <selenium.webdriver.remote.webelement.WebElement (session=\"6af934c5d3e2847023d06dff56de5d34\", element=\"f9ccb3df-df94-4a89-bd15-73f93a019a5e\")>,\n",
       " <selenium.webdriver.remote.webelement.WebElement (session=\"6af934c5d3e2847023d06dff56de5d34\", element=\"302d423f-9eab-49fc-803f-6300a460b7f4\")>,\n",
       " <selenium.webdriver.remote.webelement.WebElement (session=\"6af934c5d3e2847023d06dff56de5d34\", element=\"3dcbfd19-0349-4703-999d-ef5765bb2f05\")>,\n",
       " <selenium.webdriver.remote.webelement.WebElement (session=\"6af934c5d3e2847023d06dff56de5d34\", element=\"34a1ad0d-5d4c-401c-b18b-4931e0a363df\")>,\n",
       " <selenium.webdriver.remote.webelement.WebElement (session=\"6af934c5d3e2847023d06dff56de5d34\", element=\"3530165e-eda0-41a5-b5c9-fd8f5bf16420\")>,\n",
       " <selenium.webdriver.remote.webelement.WebElement (session=\"6af934c5d3e2847023d06dff56de5d34\", element=\"82afb942-199e-4036-8772-62d0c33f5b90\")>,\n",
       " <selenium.webdriver.remote.webelement.WebElement (session=\"6af934c5d3e2847023d06dff56de5d34\", element=\"ccfbaba9-6d86-4f1a-9be6-fc65695afa76\")>,\n",
       " <selenium.webdriver.remote.webelement.WebElement (session=\"6af934c5d3e2847023d06dff56de5d34\", element=\"a13c0fdb-1204-474b-b870-a3141dd3d9ce\")>,\n",
       " <selenium.webdriver.remote.webelement.WebElement (session=\"6af934c5d3e2847023d06dff56de5d34\", element=\"14ab74b5-7de5-4cd3-917d-e24145fd6945\")>]"
      ]
     },
     "execution_count": 99,
     "metadata": {},
     "output_type": "execute_result"
    }
   ],
   "source": [
    "#obtaining salary tags using xpath\n",
    "salary_tags=driver.find_elements_by_xpath('//span[@class=\"d-block d-lg-none m-0 css-1b6bxoo\"]')\n",
    "salary_tags"
   ]
  },
  {
   "cell_type": "code",
   "execution_count": 100,
   "id": "6e906a47",
   "metadata": {},
   "outputs": [
    {
     "data": {
      "text/plain": [
       "['Range: ₹4L - ₹13L',\n",
       " 'Range: ₹1L - ₹28L',\n",
       " 'Range: ₹6L - ₹22L',\n",
       " 'Range: ₹5L - ₹1Cr',\n",
       " 'Range: ₹4L - ₹16L',\n",
       " 'Range: ₹8L - ₹15L',\n",
       " 'Range: ₹8L - ₹20L',\n",
       " 'Range: ₹10L - ₹17L',\n",
       " 'Range: ₹5L - ₹15L',\n",
       " 'Range: ₹6L - ₹15L']"
      ]
     },
     "execution_count": 100,
     "metadata": {},
     "output_type": "execute_result"
    }
   ],
   "source": [
    "#printing salary\n",
    "salary_range=[]\n",
    "for i in salary_tags:\n",
    "    salary_range.append(i.text)\n",
    "salary_range[0:10]"
   ]
  },
  {
   "cell_type": "code",
   "execution_count": 102,
   "id": "da6652a4",
   "metadata": {},
   "outputs": [
    {
     "data": {
      "text/plain": [
       "[<selenium.webdriver.remote.webelement.WebElement (session=\"6af934c5d3e2847023d06dff56de5d34\", element=\"79f51653-560c-443d-885a-91b4478806b5\")>,\n",
       " <selenium.webdriver.remote.webelement.WebElement (session=\"6af934c5d3e2847023d06dff56de5d34\", element=\"a3ca0f4d-8a68-45b6-93ca-6fe2cae86c49\")>,\n",
       " <selenium.webdriver.remote.webelement.WebElement (session=\"6af934c5d3e2847023d06dff56de5d34\", element=\"ca6cdfa6-f362-4a42-b2cb-ad56a1088b8a\")>,\n",
       " <selenium.webdriver.remote.webelement.WebElement (session=\"6af934c5d3e2847023d06dff56de5d34\", element=\"acdeafc3-201f-454f-aefc-52c496368594\")>,\n",
       " <selenium.webdriver.remote.webelement.WebElement (session=\"6af934c5d3e2847023d06dff56de5d34\", element=\"668cc6d8-a54d-489c-a008-4d124269f9c1\")>,\n",
       " <selenium.webdriver.remote.webelement.WebElement (session=\"6af934c5d3e2847023d06dff56de5d34\", element=\"6d6ddc5e-dc4b-42ed-a1f9-c0642540dfe6\")>,\n",
       " <selenium.webdriver.remote.webelement.WebElement (session=\"6af934c5d3e2847023d06dff56de5d34\", element=\"1f71ff78-082e-48ec-b0c9-d0eedf626280\")>,\n",
       " <selenium.webdriver.remote.webelement.WebElement (session=\"6af934c5d3e2847023d06dff56de5d34\", element=\"454fdd02-a239-4f84-9876-2b9a917a1f11\")>,\n",
       " <selenium.webdriver.remote.webelement.WebElement (session=\"6af934c5d3e2847023d06dff56de5d34\", element=\"f645b0fd-b89d-4549-acd2-daa49a3d750d\")>,\n",
       " <selenium.webdriver.remote.webelement.WebElement (session=\"6af934c5d3e2847023d06dff56de5d34\", element=\"61145a6d-86e3-44b3-88da-a78da9ed4536\")>,\n",
       " <selenium.webdriver.remote.webelement.WebElement (session=\"6af934c5d3e2847023d06dff56de5d34\", element=\"5cd3c5d2-c816-4bff-8eee-b485e895a0e7\")>,\n",
       " <selenium.webdriver.remote.webelement.WebElement (session=\"6af934c5d3e2847023d06dff56de5d34\", element=\"5a5107f1-c5b3-4f67-9f92-852f46ecc6bd\")>,\n",
       " <selenium.webdriver.remote.webelement.WebElement (session=\"6af934c5d3e2847023d06dff56de5d34\", element=\"f619a640-4c49-4367-b9d1-d2a3030c2a24\")>,\n",
       " <selenium.webdriver.remote.webelement.WebElement (session=\"6af934c5d3e2847023d06dff56de5d34\", element=\"d7708542-77ff-4384-8ca9-20321e926852\")>,\n",
       " <selenium.webdriver.remote.webelement.WebElement (session=\"6af934c5d3e2847023d06dff56de5d34\", element=\"7691283d-9137-49f7-87b1-4819842828be\")>,\n",
       " <selenium.webdriver.remote.webelement.WebElement (session=\"6af934c5d3e2847023d06dff56de5d34\", element=\"6b38cbc7-14f5-4d16-bf39-3d808a4e6d9c\")>,\n",
       " <selenium.webdriver.remote.webelement.WebElement (session=\"6af934c5d3e2847023d06dff56de5d34\", element=\"d2f3e557-03cf-43b7-b2fb-9108bcd53abb\")>,\n",
       " <selenium.webdriver.remote.webelement.WebElement (session=\"6af934c5d3e2847023d06dff56de5d34\", element=\"f6caa99b-8cc4-4bda-912a-7c754450f7bf\")>,\n",
       " <selenium.webdriver.remote.webelement.WebElement (session=\"6af934c5d3e2847023d06dff56de5d34\", element=\"ce105a9f-b473-4528-80a9-babb24dbce8f\")>,\n",
       " <selenium.webdriver.remote.webelement.WebElement (session=\"6af934c5d3e2847023d06dff56de5d34\", element=\"4477ea83-6e3d-4b4b-82e3-b09b02ddd481\")>]"
      ]
     },
     "execution_count": 102,
     "metadata": {},
     "output_type": "execute_result"
    }
   ],
   "source": [
    "#average salary tag using xpath\n",
    "avg_tags=driver.find_elements_by_xpath('//div[@class=\"col-12 col-lg-4 px-lg-0 d-flex align-items-baseline\"]')\n",
    "avg_tags"
   ]
  },
  {
   "cell_type": "code",
   "execution_count": 106,
   "id": "135b7128",
   "metadata": {},
   "outputs": [
    {
     "data": {
      "text/plain": [
       "['₹6,19,349 /yr',\n",
       " '₹9,00,000 /yr',\n",
       " '₹11,71,012 /yr',\n",
       " '₹12,26,283 /yr',\n",
       " '₹7,44,116 /yr',\n",
       " '₹12,80,000 /yr',\n",
       " '₹13,29,677 /yr',\n",
       " '₹14,28,139 /yr',\n",
       " '₹8,69,449 /yr',\n",
       " '₹11,10,000 /yr']"
      ]
     },
     "execution_count": 106,
     "metadata": {},
     "output_type": "execute_result"
    }
   ],
   "source": [
    "#obtaining the average salary\n",
    "average_salary=[] #empty list\n",
    "for i in avg_tags:\n",
    "    average_salary.append(i.text.replace(\"\\n\",\"\"))\n",
    "average_salary[0:10]"
   ]
  },
  {
   "cell_type": "code",
   "execution_count": 108,
   "id": "46979ac1",
   "metadata": {},
   "outputs": [
    {
     "data": {
      "text/plain": [
       "[<selenium.webdriver.remote.webelement.WebElement (session=\"6af934c5d3e2847023d06dff56de5d34\", element=\"985bfe98-9f78-402b-aea4-2d4479493a51\")>,\n",
       " <selenium.webdriver.remote.webelement.WebElement (session=\"6af934c5d3e2847023d06dff56de5d34\", element=\"8fe0e080-cb3b-4ddd-a08f-11203ca658b8\")>,\n",
       " <selenium.webdriver.remote.webelement.WebElement (session=\"6af934c5d3e2847023d06dff56de5d34\", element=\"8fb48422-a274-4ac8-ac0d-24ff86702293\")>,\n",
       " <selenium.webdriver.remote.webelement.WebElement (session=\"6af934c5d3e2847023d06dff56de5d34\", element=\"03a87e27-8d60-45dd-949b-9e281c9defa7\")>,\n",
       " <selenium.webdriver.remote.webelement.WebElement (session=\"6af934c5d3e2847023d06dff56de5d34\", element=\"3f9bf4a3-b18f-4e08-a5ea-fcff17be34b8\")>,\n",
       " <selenium.webdriver.remote.webelement.WebElement (session=\"6af934c5d3e2847023d06dff56de5d34\", element=\"26664b97-9320-4fb5-a0b0-cd2a633d250a\")>,\n",
       " <selenium.webdriver.remote.webelement.WebElement (session=\"6af934c5d3e2847023d06dff56de5d34\", element=\"c2f93576-0725-4f62-a557-55e3d7c92f0e\")>,\n",
       " <selenium.webdriver.remote.webelement.WebElement (session=\"6af934c5d3e2847023d06dff56de5d34\", element=\"0140bfe5-9c80-4dec-a329-b7d91cd1b04a\")>,\n",
       " <selenium.webdriver.remote.webelement.WebElement (session=\"6af934c5d3e2847023d06dff56de5d34\", element=\"7e7b51a7-6092-4e7a-bdd9-4a90edc7a8d2\")>,\n",
       " <selenium.webdriver.remote.webelement.WebElement (session=\"6af934c5d3e2847023d06dff56de5d34\", element=\"e2150d7f-1621-4e13-89a1-b55dd83e4662\")>,\n",
       " <selenium.webdriver.remote.webelement.WebElement (session=\"6af934c5d3e2847023d06dff56de5d34\", element=\"c28da3db-1065-482b-b020-c62be644caa2\")>,\n",
       " <selenium.webdriver.remote.webelement.WebElement (session=\"6af934c5d3e2847023d06dff56de5d34\", element=\"8c3aabe9-7e46-45a4-afc8-aa055f808dd2\")>,\n",
       " <selenium.webdriver.remote.webelement.WebElement (session=\"6af934c5d3e2847023d06dff56de5d34\", element=\"fc9049bc-8bd9-4ddb-9225-2c199acdb9a0\")>,\n",
       " <selenium.webdriver.remote.webelement.WebElement (session=\"6af934c5d3e2847023d06dff56de5d34\", element=\"9205dd79-16b3-41e5-9799-1559bd0473e7\")>,\n",
       " <selenium.webdriver.remote.webelement.WebElement (session=\"6af934c5d3e2847023d06dff56de5d34\", element=\"49678dd1-c20f-470a-99a4-7a144a8e4a6f\")>,\n",
       " <selenium.webdriver.remote.webelement.WebElement (session=\"6af934c5d3e2847023d06dff56de5d34\", element=\"96b144a4-8196-41d6-be57-2d858f406968\")>,\n",
       " <selenium.webdriver.remote.webelement.WebElement (session=\"6af934c5d3e2847023d06dff56de5d34\", element=\"f1e8fb12-47a2-4324-9617-cb5fc26d5a9d\")>,\n",
       " <selenium.webdriver.remote.webelement.WebElement (session=\"6af934c5d3e2847023d06dff56de5d34\", element=\"122b49c2-57ba-4317-91fc-8c2c7821ca56\")>,\n",
       " <selenium.webdriver.remote.webelement.WebElement (session=\"6af934c5d3e2847023d06dff56de5d34\", element=\"24514aca-e8c6-4b4b-b5df-61633e398502\")>,\n",
       " <selenium.webdriver.remote.webelement.WebElement (session=\"6af934c5d3e2847023d06dff56de5d34\", element=\"dd541fa2-5197-4221-a634-1ad672702d90\")>]"
      ]
     },
     "execution_count": 108,
     "metadata": {},
     "output_type": "execute_result"
    }
   ],
   "source": [
    "#fetching rating tags using xpath\n",
    "rate_tags=driver.find_elements_by_xpath('//span[@class=\"m-0 css-kyx745\"]')\n",
    "rate_tags"
   ]
  },
  {
   "cell_type": "code",
   "execution_count": 110,
   "id": "f4281d87",
   "metadata": {},
   "outputs": [
    {
     "data": {
      "text/plain": [
       "['3.9', '3.9', '4.1', '3.8', '4', '3.7', '3.7', '3.9', '4.2', '3.6']"
      ]
     },
     "execution_count": 110,
     "metadata": {},
     "output_type": "execute_result"
    }
   ],
   "source": [
    "ratings=[]\n",
    "for i in rate_tags:\n",
    "    ratings.append(i.text)\n",
    "ratings[0:10]                  #printing the ratings"
   ]
  },
  {
   "cell_type": "code",
   "execution_count": 111,
   "id": "7adbeb18",
   "metadata": {},
   "outputs": [
    {
     "name": "stdout",
     "output_type": "stream",
     "text": [
      "20 20 20 20\n"
     ]
    }
   ],
   "source": [
    "#printing the lengths\n",
    "print(len(company_name),len(salary_range),len(average_salary),len(ratings))"
   ]
  },
  {
   "cell_type": "code",
   "execution_count": 117,
   "id": "745a59e4",
   "metadata": {},
   "outputs": [
    {
     "name": "stdout",
     "output_type": "stream",
     "text": [
      "                Company name      Min-Max salary Average Salary/yr Ratings\n",
      "0  Tata Consultancy Services   Range: ₹4L - ₹13L     ₹6,19,349 /yr     3.9\n",
      "1                        IBM   Range: ₹1L - ₹28L     ₹9,00,000 /yr     3.9\n",
      "2                  Accenture   Range: ₹6L - ₹22L    ₹11,71,012 /yr     4.1\n",
      "3                  Delhivery   Range: ₹5L - ₹1Cr    ₹12,26,283 /yr     3.8\n",
      "4         Ericsson-Worldwide   Range: ₹4L - ₹16L     ₹7,44,116 /yr       4\n",
      "5         UnitedHealth Group   Range: ₹8L - ₹15L    ₹12,80,000 /yr     3.7\n",
      "6                      Optum   Range: ₹8L - ₹20L    ₹13,29,677 /yr     3.7\n",
      "7     Optum Global Solutions  Range: ₹10L - ₹17L    ₹14,28,139 /yr     3.9\n",
      "8         Valiance Solutions   Range: ₹5L - ₹15L     ₹8,69,449 /yr     4.2\n",
      "9                EXL Service   Range: ₹6L - ₹15L    ₹11,10,000 /yr     3.6\n"
     ]
    }
   ],
   "source": [
    "#Creating the dataframe\n",
    "Ds=pd.DataFrame({})\n",
    "Ds['Company name']=company_name\n",
    "Ds['Min-Max salary']=salary_range\n",
    "Ds['Average Salary/yr']=average_salary\n",
    "Ds['Ratings']=ratings\n",
    "print(Ds[0:10])"
   ]
  },
  {
   "cell_type": "markdown",
   "id": "50c8028f",
   "metadata": {},
   "source": [
    "# Q6:Scrape data of first 100 sunglasses listings on flipkart.com. You have to scrape four attributes:\n",
    "1.Brand\n",
    "\n",
    "2.Product Description \n",
    "\n",
    "3.price \n",
    "\n",
    "4.Discount%\n",
    "\n",
    "To scrap the data you have to go through following steps:"
   ]
  },
  {
   "cell_type": "markdown",
   "id": "3232cf3d",
   "metadata": {},
   "source": [
    "1.Go to flipkart webpage by url https://www.flipkart.com/\n",
    "\n",
    "2.Enter “sunglasses” in the search field where “search for products, brands and more” is written and click the search icon\n",
    "\n",
    "3.after that you will reach to a webpage having a lot of sunglasses. From this page you can scrap the required data as usual.\n",
    "\n",
    "4.after scraping data from the first page, go to the “Next” Button at the bottom of the page , then click on it\n",
    "\n",
    "5.Now scrape data from this page as usual\n",
    "\n",
    "6.repeat this until you get data for 100 sunglasses"
   ]
  },
  {
   "cell_type": "code",
   "execution_count": 60,
   "id": "65fa7e8e",
   "metadata": {},
   "outputs": [],
   "source": [
    "#giving the url\n",
    "url='https://www.flipkart.com'\n",
    "driver.get(url)"
   ]
  },
  {
   "cell_type": "code",
   "execution_count": 61,
   "id": "87580ebf",
   "metadata": {},
   "outputs": [],
   "source": [
    "search_item=driver.find_element_by_xpath('//input[@type=\"text\"]') #using xpath\n",
    "search_item.send_keys(\"sunglasses\")"
   ]
  },
  {
   "cell_type": "code",
   "execution_count": 62,
   "id": "27ca8b4c",
   "metadata": {},
   "outputs": [],
   "source": [
    "search_btn=driver.find_element_by_xpath(\"//button[@type='submit']\") #submitting \n",
    "search_btn.click()"
   ]
  },
  {
   "cell_type": "code",
   "execution_count": 63,
   "id": "f46ebbd7",
   "metadata": {},
   "outputs": [],
   "source": [
    "brand=[] #empty list"
   ]
  },
  {
   "cell_type": "code",
   "execution_count": 66,
   "id": "81f05e39",
   "metadata": {},
   "outputs": [],
   "source": [
    "#fetching the brand name\n",
    "for i in range(100):\n",
    "    for j in driver.find_elements_by_xpath(\"//div[@class='_2WkVRV']\"):\n",
    "        brand.append(j.text)\n",
    "    time.sleep(1)"
   ]
  },
  {
   "cell_type": "code",
   "execution_count": 69,
   "id": "5f4802be",
   "metadata": {},
   "outputs": [
    {
     "name": "stdout",
     "output_type": "stream",
     "text": [
      "['PIRASO', 'ROYAL SON', 'Elligator', 'SHAAH COLLECTIONS', 'PIRASO', 'kingsunglasses', 'Fastrack', 'PIRASO', 'ROZZETTA CRAFT', 'PHENOMENAL', 'Rich Club', 'PIRASO', 'ROYAL SON', 'Silver Kartz', 'SUNBEE', 'ROYAL SON', 'HIPPON', 'Singco', 'Singco India', 'Billion', 'NuVew', 'GANSTA', 'SRPM', 'ROYAL SON', 'DEIXELS', 'hipe', 'Badfella', 'PIRASO', 'elegante', 'agera', 'PETER JONES', 'ROYAL SON', 'Fravy', 'Flizz', 'kingsunglasses', 'PIRASO', 'Fastrack', 'PIRASO', 'SHAAH COLLECTIONS', 'Billion', 'PIRASO', 'ROYAL SON', 'Elligator', 'SHAAH COLLECTIONS', 'PIRASO', 'kingsunglasses', 'Fastrack', 'PIRASO', 'ROZZETTA CRAFT', 'PHENOMENAL', 'Rich Club', 'PIRASO', 'ROYAL SON', 'Silver Kartz', 'SUNBEE', 'ROYAL SON', 'HIPPON', 'Singco', 'Singco India', 'Billion', 'NuVew', 'GANSTA', 'SRPM', 'ROYAL SON', 'DEIXELS', 'hipe', 'Badfella', 'PIRASO', 'elegante', 'agera', 'PETER JONES', 'ROYAL SON', 'Fravy', 'Flizz', 'kingsunglasses', 'PIRASO', 'Fastrack', 'PIRASO', 'SHAAH COLLECTIONS', 'Billion', 'PIRASO', 'ROYAL SON', 'Elligator', 'SHAAH COLLECTIONS', 'PIRASO', 'kingsunglasses', 'Fastrack', 'PIRASO', 'ROZZETTA CRAFT', 'PHENOMENAL', 'Rich Club', 'PIRASO', 'ROYAL SON', 'Silver Kartz', 'SUNBEE', 'ROYAL SON', 'HIPPON', 'Singco', 'Singco India', 'Billion']\n"
     ]
    }
   ],
   "source": [
    "#printing it for only 100 brands\n",
    "print(brand[0:100])"
   ]
  },
  {
   "cell_type": "code",
   "execution_count": 70,
   "id": "c951d8b6",
   "metadata": {},
   "outputs": [],
   "source": [
    "description=[]   #empty list to store description data"
   ]
  },
  {
   "cell_type": "code",
   "execution_count": 71,
   "id": "5a557f60",
   "metadata": {},
   "outputs": [],
   "source": [
    "for i in range(100):\n",
    "    for j in driver.find_elements_by_xpath('//a[@class=\"IRpwTa\"]'): #fetching description path suing xpath\n",
    "        description.append(j.text)\n",
    "    time.sleep(1)"
   ]
  },
  {
   "cell_type": "code",
   "execution_count": 72,
   "id": "4b7ee507",
   "metadata": {},
   "outputs": [
    {
     "name": "stdout",
     "output_type": "stream",
     "text": [
      "['UV Protection Butterfly Sunglasses (64)', 'Polarized, UV Protection Aviator Sunglasses (58)', 'UV Protection Round Sunglasses (54)', 'UV Protection, Polarized, Mirrored Rectangular Sunglass...', 'UV Protection Aviator Sunglasses (54)', 'Mirrored, UV Protection Wayfarer Sunglasses (Free Size)', 'UV Protection Wayfarer Sunglasses (Free Size)', 'UV Protection Wayfarer Sunglasses (56)', 'UV Protection Retro Square Sunglasses (Free Size)', 'UV Protection Retro Square Sunglasses (Free Size)', 'UV Protection, Mirrored, Gradient Round Sunglasses (51)', 'UV Protection Over-sized Sunglasses (60)', 'UV Protection Rectangular Sunglasses (58)', 'UV Protection Wayfarer Sunglasses (Free Size)', 'UV Protection, Polarized, Mirrored Wayfarer Sunglasses ...', 'UV Protection, Gradient Butterfly Sunglasses (57)', 'UV Protection Wayfarer Sunglasses (55)', 'Mirrored Aviator Sunglasses (53)', 'UV Protection Aviator Sunglasses (Free Size)', 'Polarized, UV Protection Aviator Sunglasses (55)', 'UV Protection, Mirrored Aviator Sunglasses (58)', 'UV Protection, Night Vision, Riding Glasses Aviator Sun...', 'UV Protection Wayfarer Sunglasses (53)', 'Polarized Retro Square Sunglasses (58)', 'UV Protection Aviator, Wayfarer Sunglasses (Free Size)', 'UV Protection, Gradient, Mirrored, Riding Glasses Aviat...', 'Polarized, UV Protection Retro Square Sunglasses (53)', 'UV Protection Butterfly Sunglasses (64)', 'Mirrored Round Sunglasses (Free Size)', 'Gradient Aviator Sunglasses (55)', 'UV Protection, Gradient Retro Square Sunglasses (60)', 'UV Protection Retro Square Sunglasses (58)', 'UV Protection Retro Square Sunglasses (Free Size)', 'UV Protection Retro Square Sunglasses (Free Size)', 'UV Protection Round Sunglasses (54)', 'UV Protection Over-sized Sunglasses (60)', 'Gradient, UV Protection Wayfarer Sunglasses (Free Size)', 'UV Protection Aviator Sunglasses (54)', 'UV Protection Round Sunglasses (Free Size)', 'UV Protection Aviator Sunglasses (57)', 'UV Protection Butterfly Sunglasses (64)', 'Polarized, UV Protection Aviator Sunglasses (58)', 'UV Protection Round Sunglasses (54)', 'UV Protection, Polarized, Mirrored Rectangular Sunglass...', 'UV Protection Aviator Sunglasses (54)', 'Mirrored, UV Protection Wayfarer Sunglasses (Free Size)', 'UV Protection Wayfarer Sunglasses (Free Size)', 'UV Protection Wayfarer Sunglasses (56)', 'UV Protection Retro Square Sunglasses (Free Size)', 'UV Protection Retro Square Sunglasses (Free Size)', 'UV Protection, Mirrored, Gradient Round Sunglasses (51)', 'UV Protection Over-sized Sunglasses (60)', 'UV Protection Rectangular Sunglasses (58)', 'UV Protection Wayfarer Sunglasses (Free Size)', 'UV Protection, Polarized, Mirrored Wayfarer Sunglasses ...', 'UV Protection, Gradient Butterfly Sunglasses (57)', 'UV Protection Wayfarer Sunglasses (55)', 'Mirrored Aviator Sunglasses (53)', 'UV Protection Aviator Sunglasses (Free Size)', 'Polarized, UV Protection Aviator Sunglasses (55)', 'UV Protection, Mirrored Aviator Sunglasses (58)', 'UV Protection, Night Vision, Riding Glasses Aviator Sun...', 'UV Protection Wayfarer Sunglasses (53)', 'Polarized Retro Square Sunglasses (58)', 'UV Protection Aviator, Wayfarer Sunglasses (Free Size)', 'UV Protection, Gradient, Mirrored, Riding Glasses Aviat...', 'Polarized, UV Protection Retro Square Sunglasses (53)', 'UV Protection Butterfly Sunglasses (64)', 'Mirrored Round Sunglasses (Free Size)', 'Gradient Aviator Sunglasses (55)', 'UV Protection, Gradient Retro Square Sunglasses (60)', 'UV Protection Retro Square Sunglasses (58)', 'UV Protection Retro Square Sunglasses (Free Size)', 'UV Protection Retro Square Sunglasses (Free Size)', 'UV Protection Round Sunglasses (54)', 'UV Protection Over-sized Sunglasses (60)', 'Gradient, UV Protection Wayfarer Sunglasses (Free Size)', 'UV Protection Aviator Sunglasses (54)', 'UV Protection Round Sunglasses (Free Size)', 'UV Protection Aviator Sunglasses (57)', 'UV Protection Butterfly Sunglasses (64)', 'Polarized, UV Protection Aviator Sunglasses (58)', 'UV Protection Round Sunglasses (54)', 'UV Protection, Polarized, Mirrored Rectangular Sunglass...', 'UV Protection Aviator Sunglasses (54)', 'Mirrored, UV Protection Wayfarer Sunglasses (Free Size)', 'UV Protection Wayfarer Sunglasses (Free Size)', 'UV Protection Wayfarer Sunglasses (56)', 'UV Protection Retro Square Sunglasses (Free Size)', 'UV Protection Retro Square Sunglasses (Free Size)', 'UV Protection, Mirrored, Gradient Round Sunglasses (51)', 'UV Protection Over-sized Sunglasses (60)', 'UV Protection Rectangular Sunglasses (58)', 'UV Protection Wayfarer Sunglasses (Free Size)', 'UV Protection, Polarized, Mirrored Wayfarer Sunglasses ...', 'UV Protection, Gradient Butterfly Sunglasses (57)', 'UV Protection Wayfarer Sunglasses (55)', 'Mirrored Aviator Sunglasses (53)', 'UV Protection Aviator Sunglasses (Free Size)', 'Polarized, UV Protection Aviator Sunglasses (55)']\n"
     ]
    }
   ],
   "source": [
    "print(description[0:100]) #printing description"
   ]
  },
  {
   "cell_type": "code",
   "execution_count": 73,
   "id": "cca95c44",
   "metadata": {},
   "outputs": [],
   "source": [
    "price=[] #empty list"
   ]
  },
  {
   "cell_type": "code",
   "execution_count": 74,
   "id": "27ceba03",
   "metadata": {},
   "outputs": [],
   "source": [
    "for i in range(100):\n",
    "    for j in driver.find_elements_by_xpath(\"//div[@class='_30jeq3']\"): #fetching tag for price using xpath\n",
    "        price.append(j.text)\n",
    "    time.sleep(1)   "
   ]
  },
  {
   "cell_type": "code",
   "execution_count": 75,
   "id": "c2be4487",
   "metadata": {},
   "outputs": [
    {
     "name": "stdout",
     "output_type": "stream",
     "text": [
      "['₹402', '₹759', '₹329', '₹198', '₹237', '₹284', '₹758', '₹236', '₹499', '₹399', '₹215', '₹199', '₹474', '₹246', '₹284', '₹664', '₹257', '₹239', '₹334', '₹349', '₹186', '₹295', '₹230', '₹854', '₹202', '₹221', '₹269', '₹402', '₹399', '₹236', '₹599', '₹474', '₹299', '₹399', '₹213', '₹199', '₹509', '₹237', '₹331', '₹359', '₹402', '₹759', '₹329', '₹198', '₹237', '₹284', '₹758', '₹236', '₹499', '₹399', '₹215', '₹199', '₹474', '₹246', '₹284', '₹664', '₹257', '₹239', '₹334', '₹349', '₹186', '₹295', '₹230', '₹854', '₹202', '₹221', '₹269', '₹402', '₹399', '₹236', '₹599', '₹474', '₹299', '₹399', '₹213', '₹199', '₹509', '₹237', '₹331', '₹359', '₹402', '₹759', '₹329', '₹198', '₹237', '₹284', '₹758', '₹236', '₹499', '₹399', '₹215', '₹199', '₹474', '₹246', '₹284', '₹664', '₹257', '₹239', '₹334', '₹349']\n"
     ]
    }
   ],
   "source": [
    "print(price[0:100]) #printing prices"
   ]
  },
  {
   "cell_type": "code",
   "execution_count": 76,
   "id": "3e823e82",
   "metadata": {},
   "outputs": [],
   "source": [
    "discount=[] #empty list to store data"
   ]
  },
  {
   "cell_type": "code",
   "execution_count": 77,
   "id": "dc3be021",
   "metadata": {},
   "outputs": [],
   "source": [
    "for i in range(100):\n",
    "    for j in driver.find_elements_by_xpath(\"//div[@class='_3Ay6Sb']\"): #fetching discount tag using xpath\n",
    "        discount.append(j.text)\n",
    "    time.sleep(1)"
   ]
  },
  {
   "cell_type": "code",
   "execution_count": 78,
   "id": "a77039cc",
   "metadata": {},
   "outputs": [
    {
     "name": "stdout",
     "output_type": "stream",
     "text": [
      "['84% off', '62% off', '86% off', '88% off', '85% off', '89% off', '15% off', '85% off', '77% off', '80% off', '73% off', '87% off', '68% off', '83% off', '71% off', '66% off', '78% off', '76% off', '72% off', '76% off', '78% off', '85% off', '76% off', '57% off', '83% off', '77% off', '73% off', '84% off', '80% off', '79% off', '70% off', '68% off', '80% off', '81% off', '80% off', '87% off', '36% off', '85% off', '80% off', '76% off', '84% off', '62% off', '86% off', '88% off', '85% off', '89% off', '15% off', '85% off', '77% off', '80% off', '73% off', '87% off', '68% off', '83% off', '71% off', '66% off', '78% off', '76% off', '72% off', '76% off', '78% off', '85% off', '76% off', '57% off', '83% off', '77% off', '73% off', '84% off', '80% off', '79% off', '70% off', '68% off', '80% off', '81% off', '80% off', '87% off', '36% off', '85% off', '80% off', '76% off', '84% off', '62% off', '86% off', '88% off', '85% off', '89% off', '15% off', '85% off', '77% off', '80% off', '73% off', '87% off', '68% off', '83% off', '71% off', '66% off', '78% off', '76% off', '72% off', '76% off']\n"
     ]
    }
   ],
   "source": [
    "print(discount[0:100]) #printing the discounts"
   ]
  },
  {
   "cell_type": "markdown",
   "id": "42c270c6",
   "metadata": {},
   "source": [
    "# Q7: Scrape 100 reviews data from flipkart.com for iphone11 phone. You have to go the link: https://www.flipkart.com/apple-iphone-11-black-64-gb-includesearpods-poweradapter/p/itm0f37c2240b217?pid=MOBFKCTSVZAXUHGR&lid=LSTMOBFKCTSVZAXUHGREPBFGI&marketplace. These are\n",
    "\n",
    "1.Rating\n",
    "\n",
    "2.Review_summary\n",
    "\n",
    "3.Full review \n",
    "\n",
    "You have to scrape this data for first 100 reviews"
   ]
  },
  {
   "cell_type": "code",
   "execution_count": 4,
   "id": "2cfea9a7",
   "metadata": {},
   "outputs": [],
   "source": [
    "#passing url\n",
    "url = \" https://www.flipkart.com/apple-iphone-11-black-64-gb-includesearpods-poweradapter/p/itm0f37c2240b217?pid=MOBFKCTSVZAXUHGR&lid=LSTMOBFKCTSVZAXUHGREPBFGI&marketplace\"\n",
    "driver.get(url)"
   ]
  },
  {
   "cell_type": "code",
   "execution_count": 15,
   "id": "0a9bd6b2",
   "metadata": {},
   "outputs": [],
   "source": [
    "Rating=[] "
   ]
  },
  {
   "cell_type": "code",
   "execution_count": 16,
   "id": "f42e8330",
   "metadata": {},
   "outputs": [],
   "source": [
    "for i in range(100): #looping\n",
    "    for j in driver.find_elements_by_xpath(\"//div[@class='_3LWZlK']\"):#fetching tag for rating using xpath\n",
    "        Rating.append(j.text)"
   ]
  },
  {
   "cell_type": "code",
   "execution_count": 19,
   "id": "460fe9b9",
   "metadata": {},
   "outputs": [
    {
     "name": "stdout",
     "output_type": "stream",
     "text": [
      "['4.6', '4.6', '4.6', '4.6', '4.6', '4.6', '4.6', '4.6', '4.6', '4.6', '4.6', '4.6', '4.6', '4.6', '4.6', '4.6', '4.6', '4.6', '4.6', '4.6', '4.6', '4.6', '4.6', '4.6', '4.6', '4.6', '4.6', '4.6', '4.6', '4.6', '4.6', '4.6', '4.6', '4.6', '4.6', '4.6', '4.6', '4.6', '4.6', '4.6', '4.6', '4.6', '4.6', '4.6', '4.6', '4.6', '4.6', '4.6', '4.6', '4.6', '4.6', '4.6', '4.6', '4.6', '4.6', '4.6', '4.6', '4.6', '4.6', '4.6', '4.6', '4.6', '4.6', '4.6', '4.6', '4.6', '4.6', '4.6', '4.6', '4.6', '4.6', '4.6', '4.6', '4.6', '4.6', '4.6', '4.6', '4.6', '4.6', '4.6', '4.6', '4.6', '4.6', '4.6', '4.6', '4.6', '4.6', '4.6', '4.6', '4.6', '4.6', '4.6', '4.6', '4.6', '4.6', '4.6', '4.6', '4.6', '4.6', '4.6']\n"
     ]
    }
   ],
   "source": [
    "print(Rating) #printing the obtained data"
   ]
  },
  {
   "cell_type": "code",
   "execution_count": 20,
   "id": "424c47f0",
   "metadata": {},
   "outputs": [],
   "source": [
    "Review=[]  #empty list"
   ]
  },
  {
   "cell_type": "code",
   "execution_count": 23,
   "id": "dd6aa1be",
   "metadata": {},
   "outputs": [],
   "source": [
    "for i in range(100):\n",
    "    for j in driver.find_elements_by_xpath(\"//p[@class='_2-N8zT']\"): #fetching tah for review using xpath and looping it\n",
    "        Review.append(j.text)"
   ]
  },
  {
   "cell_type": "code",
   "execution_count": 26,
   "id": "d98ad820",
   "metadata": {},
   "outputs": [
    {
     "name": "stdout",
     "output_type": "stream",
     "text": [
      "['Highly recommended', 'Perfect product!', 'Perfect product!', 'Classy product', 'Highly recommended', 'Worth every penny', 'Perfect product!', 'Simply awesome', 'Worth every penny', 'Terrific', 'Highly recommended', 'Perfect product!', 'Perfect product!', 'Classy product', 'Highly recommended', 'Worth every penny', 'Perfect product!', 'Simply awesome', 'Worth every penny', 'Terrific', 'Highly recommended', 'Perfect product!', 'Perfect product!', 'Classy product', 'Highly recommended', 'Worth every penny', 'Perfect product!', 'Simply awesome', 'Worth every penny', 'Terrific', 'Highly recommended', 'Perfect product!', 'Perfect product!', 'Classy product', 'Highly recommended', 'Worth every penny', 'Perfect product!', 'Simply awesome', 'Worth every penny', 'Terrific', 'Highly recommended', 'Perfect product!', 'Perfect product!', 'Classy product', 'Highly recommended', 'Worth every penny', 'Perfect product!', 'Simply awesome', 'Worth every penny', 'Terrific', 'Highly recommended', 'Perfect product!', 'Perfect product!', 'Classy product', 'Highly recommended', 'Worth every penny', 'Perfect product!', 'Simply awesome', 'Worth every penny', 'Terrific', 'Highly recommended', 'Perfect product!', 'Perfect product!', 'Classy product', 'Highly recommended', 'Worth every penny', 'Perfect product!', 'Simply awesome', 'Worth every penny', 'Terrific', 'Highly recommended', 'Perfect product!', 'Perfect product!', 'Classy product', 'Highly recommended', 'Worth every penny', 'Perfect product!', 'Simply awesome', 'Worth every penny', 'Terrific', 'Highly recommended', 'Perfect product!', 'Perfect product!', 'Classy product', 'Highly recommended', 'Worth every penny', 'Perfect product!', 'Simply awesome', 'Worth every penny', 'Terrific', 'Highly recommended', 'Perfect product!', 'Perfect product!', 'Classy product', 'Highly recommended', 'Worth every penny', 'Perfect product!', 'Simply awesome', 'Worth every penny', 'Terrific']\n"
     ]
    }
   ],
   "source": [
    "print(Review[0:100])  #printing the fetched data"
   ]
  },
  {
   "cell_type": "code",
   "execution_count": 28,
   "id": "8ef5a0c5",
   "metadata": {},
   "outputs": [],
   "source": [
    "Full_review=[] #empty list to store data of full review"
   ]
  },
  {
   "cell_type": "code",
   "execution_count": 32,
   "id": "cc1964f2",
   "metadata": {},
   "outputs": [],
   "source": [
    "for i in range(100):\n",
    "    for j in driver.find_elements_by_xpath(\"//div[@class='row']\"): #fetching full review tag using xpath\n",
    "        Full_review.append(j.text)"
   ]
  },
  {
   "cell_type": "code",
   "execution_count": 35,
   "id": "1d7e4925",
   "metadata": {},
   "outputs": [
    {
     "name": "stdout",
     "output_type": "stream",
     "text": [
      "['4.6★', '5\\nHighly recommended', 'What a camera .....just awesome ..you can feel this iPhone just awesome . Good for gaming also ...try pubg in hd it’s just wow', 'Vishal Dubey\\nCertified Buyer, Daltonganj\\nJul, 2020', '35757', '5\\nPerfect product!', 'It’s a must buy who is looking for an upgrade from previous generation of iPhones. If you are using XR then still you can hold on for sometime and upgrade to 2020 model else this phone is a must buy . Camera quality is amazing and wide angle is something to count upon. Performance wise it’s amazing and feels premium while holding in hand. So a big YES for this device. Go for 128 GB variant as the 4K videos will occupy lots of space and the storage can get over very quickly. Try to buy it with...\\nREAD MORE', 'tushar srivastava\\nCertified Buyer, Lucknow\\nMar, 2020', '3065625', '5\\nPerfect product!', 'Value for money❤️❤️\\nIts awesome mobile phone in the world ...\\nDisplay was very good and bright ..\\nTrust me freinds you r never regret after Buying..\\nJust go for it....\\nI love this phone and i switch to iphone x to 11', 'Flipkart Customer\\nCertified Buyer, Jhunjhunun\\nNov, 2019', '2697580', '5\\nClassy product', 'Totally in love with this ❤ the camera quality is amazing just love it 😘😘😘 itsss dammnnnnnn amazing... Must buy iPhone 11 this is my best experience ever ☀👌👌🧡🧡🧡🧡🧡 thanku apple ❤', 'Payal Singh\\nCertified Buyer\\n3 months ago', '669144', '5\\nHighly recommended', \"It's my first time to use iOS phone and I am loving my upgradation 😍😍 I love the color, I love the assebility of the phone....I need to learn more about its functionality, but as far as I have seen, it's quite easy and it has a lot of functions to work on, specially if you are a content writer or a blogger you get a lot of content creation platforms and they are really amazing.\\n\\nThis phone not only for good quality photography but a lot of other task too.😍💯\", 'Jimly Gogoi\\nCertified Buyer, Ahmedabad\\nMay, 2020', '19937', '5\\nWorth every penny', 'Best budget Iphone till date ❤️ go for it guys without second thought. Let me explain you guys about Camera, Display, battery, and performance.\\n\\nCamera: at this price range there is no comparison of camera, you’ll love the picture quality as well as video quality. I am a Vlogger I wanted an iPhone with 4k video by front camera and I got this phone and I am more than happy 😃\\n\\nBattery: I use this phone roughly as I am active social media person and I have a youtube channel. so the battery ba...\\nREAD MORE', 'Arshad Ahmed\\nCertified Buyer, New Delhi\\nJan, 2020', '3081762', '5\\nPerfect product!', \"Iphone is just awesome.. battery backup is very very nice.. continuously for 10 hours we can use it.camera is just awesome.. display is just fab.i love it alot..i had to wait 15 days for it as i pre ordered it..overalll it's worth the price..these all images are clicked by my iPhone..and i love it.\", 'Rishika Agarwal\\nCertified Buyer, Tisra\\nOct, 2019', '1542373', '5\\nSimply awesome', 'Excellent camera, good performance, no lag. The lcd display is also good.. but difference come when we watch movie in prime and Netflix, the colours are not vibrant.. as we see in amoled display.. and the charger in box is of 5 watts.. takes more than 3 hours to charge from 0 to 100.. so guys be prepare to buy 18 watts charger . Finally I am an android user, it was my first Iapple phone, I promise u guys the iOS is so smooth.. overall the phone is damn good.... close eyes to buy it.. thanks t...\\nREAD MORE', 'chaitanya kumar\\nCertified Buyer, Rajahmundry\\nJun, 2020', '39888', '5\\nWorth every penny', 'It’s been almost a month since I have been using this phone. I upgraded from an iPhone 8. The main issue with my 8 was battery and this phone is just awesome when it comes to battery. It lasts a day and a half for me with my regular use , internet connected always with 4g\\nCan’t move forward without saying this. Battery of this phone is a life saver when I am traveling or at work when I don’t get the option to charge\\nCamera is superb. Front cam selfies and back cam photos are just awesome.\\n...\\nREAD MORE', 'Flipkart Customer\\nCertified Buyer, Thiruvananthapuram\\nNov, 2019', '2037535', '5\\nTerrific', 'Really worth of money. i just love it. It is the best phone ever.', 'SOURAV DHAR\\nCertified Buyer, Bagula\\nOct, 2019', '36285', '', '4.6★', '5\\nHighly recommended', 'What a camera .....just awesome ..you can feel this iPhone just awesome . Good for gaming also ...try pubg in hd it’s just wow', 'Vishal Dubey\\nCertified Buyer, Daltonganj\\nJul, 2020', '35757', '5\\nPerfect product!', 'It’s a must buy who is looking for an upgrade from previous generation of iPhones. If you are using XR then still you can hold on for sometime and upgrade to 2020 model else this phone is a must buy . Camera quality is amazing and wide angle is something to count upon. Performance wise it’s amazing and feels premium while holding in hand. So a big YES for this device. Go for 128 GB variant as the 4K videos will occupy lots of space and the storage can get over very quickly. Try to buy it with...\\nREAD MORE', 'tushar srivastava\\nCertified Buyer, Lucknow\\nMar, 2020', '3065625', '5\\nPerfect product!', 'Value for money❤️❤️\\nIts awesome mobile phone in the world ...\\nDisplay was very good and bright ..\\nTrust me freinds you r never regret after Buying..\\nJust go for it....\\nI love this phone and i switch to iphone x to 11', 'Flipkart Customer\\nCertified Buyer, Jhunjhunun\\nNov, 2019', '2697580', '5\\nClassy product', 'Totally in love with this ❤ the camera quality is amazing just love it 😘😘😘 itsss dammnnnnnn amazing... Must buy iPhone 11 this is my best experience ever ☀👌👌🧡🧡🧡🧡🧡 thanku apple ❤', 'Payal Singh\\nCertified Buyer\\n3 months ago', '669144', '5\\nHighly recommended', \"It's my first time to use iOS phone and I am loving my upgradation 😍😍 I love the color, I love the assebility of the phone....I need to learn more about its functionality, but as far as I have seen, it's quite easy and it has a lot of functions to work on, specially if you are a content writer or a blogger you get a lot of content creation platforms and they are really amazing.\\n\\nThis phone not only for good quality photography but a lot of other task too.😍💯\", 'Jimly Gogoi\\nCertified Buyer, Ahmedabad\\nMay, 2020', '19937', '5\\nWorth every penny', 'Best budget Iphone till date ❤️ go for it guys without second thought. Let me explain you guys about Camera, Display, battery, and performance.\\n\\nCamera: at this price range there is no comparison of camera, you’ll love the picture quality as well as video quality. I am a Vlogger I wanted an iPhone with 4k video by front camera and I got this phone and I am more than happy 😃\\n\\nBattery: I use this phone roughly as I am active social media person and I have a youtube channel. so the battery ba...\\nREAD MORE', 'Arshad Ahmed\\nCertified Buyer, New Delhi\\nJan, 2020', '3081762', '5\\nPerfect product!', \"Iphone is just awesome.. battery backup is very very nice.. continuously for 10 hours we can use it.camera is just awesome.. display is just fab.i love it alot..i had to wait 15 days for it as i pre ordered it..overalll it's worth the price..these all images are clicked by my iPhone..and i love it.\", 'Rishika Agarwal\\nCertified Buyer, Tisra\\nOct, 2019', '1542373', '5\\nSimply awesome', 'Excellent camera, good performance, no lag. The lcd display is also good.. but difference come when we watch movie in prime and Netflix, the colours are not vibrant.. as we see in amoled display.. and the charger in box is of 5 watts.. takes more than 3 hours to charge from 0 to 100.. so guys be prepare to buy 18 watts charger . Finally I am an android user, it was my first Iapple phone, I promise u guys the iOS is so smooth.. overall the phone is damn good.... close eyes to buy it.. thanks t...\\nREAD MORE', 'chaitanya kumar\\nCertified Buyer, Rajahmundry\\nJun, 2020', '39888', '5\\nWorth every penny', 'It’s been almost a month since I have been using this phone. I upgraded from an iPhone 8. The main issue with my 8 was battery and this phone is just awesome when it comes to battery. It lasts a day and a half for me with my regular use , internet connected always with 4g\\nCan’t move forward without saying this. Battery of this phone is a life saver when I am traveling or at work when I don’t get the option to charge\\nCamera is superb. Front cam selfies and back cam photos are just awesome.\\n...\\nREAD MORE', 'Flipkart Customer\\nCertified Buyer, Thiruvananthapuram\\nNov, 2019', '2037535', '5\\nTerrific', 'Really worth of money. i just love it. It is the best phone ever.', 'SOURAV DHAR\\nCertified Buyer, Bagula\\nOct, 2019', '36285', '', '4.6★', '5\\nHighly recommended', 'What a camera .....just awesome ..you can feel this iPhone just awesome . Good for gaming also ...try pubg in hd it’s just wow', 'Vishal Dubey\\nCertified Buyer, Daltonganj\\nJul, 2020', '35757', '5\\nPerfect product!', 'It’s a must buy who is looking for an upgrade from previous generation of iPhones. If you are using XR then still you can hold on for sometime and upgrade to 2020 model else this phone is a must buy . Camera quality is amazing and wide angle is something to count upon. Performance wise it’s amazing and feels premium while holding in hand. So a big YES for this device. Go for 128 GB variant as the 4K videos will occupy lots of space and the storage can get over very quickly. Try to buy it with...\\nREAD MORE', 'tushar srivastava\\nCertified Buyer, Lucknow\\nMar, 2020', '3065625', '5\\nPerfect product!', 'Value for money❤️❤️\\nIts awesome mobile phone in the world ...\\nDisplay was very good and bright ..\\nTrust me freinds you r never regret after Buying..\\nJust go for it....\\nI love this phone and i switch to iphone x to 11', 'Flipkart Customer\\nCertified Buyer, Jhunjhunun\\nNov, 2019', '2697580', '5\\nClassy product', 'Totally in love with this ❤ the camera quality is amazing just love it 😘😘😘 itsss dammnnnnnn amazing... Must buy iPhone 11 this is my best experience ever ☀👌👌🧡🧡🧡🧡🧡 thanku apple ❤', 'Payal Singh\\nCertified Buyer\\n3 months ago']\n"
     ]
    }
   ],
   "source": [
    "print(Full_review[0:100]) #printing the obtained data"
   ]
  },
  {
   "cell_type": "markdown",
   "id": "08fca400",
   "metadata": {},
   "source": [
    "# Q8:Scrape data for first 100 sneakers you find when you visit flipkart.com and search for “sneakers” in the search field. You have to scrape 4 attributes of each sneaker :"
   ]
  },
  {
   "cell_type": "markdown",
   "id": "3e34501c",
   "metadata": {},
   "source": [
    "1.Brand\n",
    "\n",
    "2.Product Description\n",
    "\n",
    "3.Price\n",
    "\n",
    "4.discount %"
   ]
  },
  {
   "cell_type": "code",
   "execution_count": 18,
   "id": "2801ca3b",
   "metadata": {},
   "outputs": [],
   "source": [
    "driver=webdriver.Chrome(r\"C:\\Users\\Win 10\\Downloads\\chromedriver_win32\\chromedriver\")\n",
    "driver=webdriver.Chrome(\"chromedriver\")"
   ]
  },
  {
   "cell_type": "code",
   "execution_count": 19,
   "id": "9ff40e9e",
   "metadata": {},
   "outputs": [],
   "source": [
    "#passing url\n",
    "url='https://www.flipkart.com/'\n",
    "driver.get(url)"
   ]
  },
  {
   "cell_type": "code",
   "execution_count": 20,
   "id": "0fcd844c",
   "metadata": {},
   "outputs": [],
   "source": [
    "#searching for input tag and sending keys\n",
    "search=driver.find_element_by_xpath(\"//input[@class='_3704LK']\")\n",
    "search.send_keys(\"Sneakers\")"
   ]
  },
  {
   "cell_type": "code",
   "execution_count": 21,
   "id": "5fe1cbbc",
   "metadata": {},
   "outputs": [],
   "source": [
    "#submitting to search\n",
    "search_btn=driver.find_element_by_xpath(\"//button[@type='submit']\")\n",
    "search_btn.click()"
   ]
  },
  {
   "cell_type": "code",
   "execution_count": 25,
   "id": "e0b53263",
   "metadata": {},
   "outputs": [],
   "source": [
    "Brand=[] #creating empty list to store brand data"
   ]
  },
  {
   "cell_type": "code",
   "execution_count": 26,
   "id": "ebe0f876",
   "metadata": {},
   "outputs": [],
   "source": [
    "#using for loop\n",
    "for i in range(100):\n",
    "    for j in driver.find_elements_by_xpath(\"//div[@class='_2WkVRV']\"):\n",
    "        Brand.append(j.text)"
   ]
  },
  {
   "cell_type": "code",
   "execution_count": 28,
   "id": "22caeb3b",
   "metadata": {},
   "outputs": [
    {
     "data": {
      "text/plain": [
       "['India hub',\n",
       " 'luxury fashion',\n",
       " 'Chevit',\n",
       " 'Longwalk',\n",
       " 'luxury fashion',\n",
       " 'ASTEROID',\n",
       " 'BRUTON',\n",
       " 'luxury fashion',\n",
       " 'Chevit',\n",
       " 'Creer',\n",
       " 'SCATCHITE',\n",
       " 'luxury fashion',\n",
       " 'PEHANOSA',\n",
       " 'Numenzo',\n",
       " 'BIRDE',\n",
       " 'Robbie jones',\n",
       " 'Numenzo',\n",
       " 'Shoes Bank',\n",
       " 'VIPSJAZZY',\n",
       " 'India hub',\n",
       " 'World Wear Footwear',\n",
       " 'Numenzo',\n",
       " 'RODDICK SHOES',\n",
       " 'luxury fashion',\n",
       " 'Magnolia',\n",
       " 'ASTEROID',\n",
       " 'Kreverse',\n",
       " 'Chevit',\n",
       " 'Absolute comfort',\n",
       " 'Arohi',\n",
       " 'believe',\n",
       " 'India hub',\n",
       " 'D-SNEAKERZ',\n",
       " 'restinfoot',\n",
       " 'SPARX',\n",
       " 'Baogi',\n",
       " 'WRIZT',\n",
       " 'Robbie jones',\n",
       " 'Airland',\n",
       " 'Robbie jones',\n",
       " 'India hub',\n",
       " 'luxury fashion',\n",
       " 'Chevit',\n",
       " 'Longwalk',\n",
       " 'luxury fashion',\n",
       " 'ASTEROID',\n",
       " 'BRUTON',\n",
       " 'luxury fashion',\n",
       " 'Chevit',\n",
       " 'Creer',\n",
       " 'SCATCHITE',\n",
       " 'luxury fashion',\n",
       " 'PEHANOSA',\n",
       " 'Numenzo',\n",
       " 'BIRDE',\n",
       " 'Robbie jones',\n",
       " 'Numenzo',\n",
       " 'Shoes Bank',\n",
       " 'VIPSJAZZY',\n",
       " 'India hub',\n",
       " 'World Wear Footwear',\n",
       " 'Numenzo',\n",
       " 'RODDICK SHOES',\n",
       " 'luxury fashion',\n",
       " 'Magnolia',\n",
       " 'ASTEROID',\n",
       " 'Kreverse',\n",
       " 'Chevit',\n",
       " 'Absolute comfort',\n",
       " 'Arohi',\n",
       " 'believe',\n",
       " 'India hub',\n",
       " 'D-SNEAKERZ',\n",
       " 'restinfoot',\n",
       " 'SPARX',\n",
       " 'Baogi',\n",
       " 'WRIZT',\n",
       " 'Robbie jones',\n",
       " 'Airland',\n",
       " 'Robbie jones',\n",
       " 'India hub',\n",
       " 'luxury fashion',\n",
       " 'Chevit',\n",
       " 'Longwalk',\n",
       " 'luxury fashion',\n",
       " 'ASTEROID',\n",
       " 'BRUTON',\n",
       " 'luxury fashion',\n",
       " 'Chevit',\n",
       " 'Creer',\n",
       " 'SCATCHITE',\n",
       " 'luxury fashion',\n",
       " 'PEHANOSA',\n",
       " 'Numenzo',\n",
       " 'BIRDE',\n",
       " 'Robbie jones',\n",
       " 'Numenzo',\n",
       " 'Shoes Bank',\n",
       " 'VIPSJAZZY',\n",
       " 'India hub']"
      ]
     },
     "execution_count": 28,
     "metadata": {},
     "output_type": "execute_result"
    }
   ],
   "source": [
    "Brand[0:100] #displaying output"
   ]
  },
  {
   "cell_type": "code",
   "execution_count": 29,
   "id": "bb02471b",
   "metadata": {},
   "outputs": [],
   "source": [
    "product_description=[] #empty list to store brand description data"
   ]
  },
  {
   "cell_type": "code",
   "execution_count": 30,
   "id": "77648a62",
   "metadata": {},
   "outputs": [],
   "source": [
    "for i in range(0,100):\n",
    "    for j in driver.find_elements_by_xpath(\"//a[@class='IRpwTa']\"): #fetching tag for description using xpath\n",
    "        product_description.append(j.text)"
   ]
  },
  {
   "cell_type": "code",
   "execution_count": 32,
   "id": "c0007a18",
   "metadata": {},
   "outputs": [
    {
     "data": {
      "text/plain": [
       "['Sneakers For Men',\n",
       " 'Sneakers For Men',\n",
       " 'Super Stylish & Trendy Combo Pack of 02 Pairs Sneakers ...',\n",
       " 'Men Boxer Sneakers For Men',\n",
       " 'Luxury Fashionable casual sneaker shoes Sneakers For Me...',\n",
       " \"Original Luxury Branded Fashionable Men's Casual Walkin...\",\n",
       " 'Combo Pack Of 4 Casual Shoes Loafer Shoes Sneakers For ...',\n",
       " 'luxury fashionable casual shoes Sneakers For Men',\n",
       " 'Perfect & Affordable Combo Pack of 02 Pairs Sneakers Ou...',\n",
       " 'Sneakers Sneakers For Men',\n",
       " 'Luxury Fashionable casual sneaker shoes Sneakers For Me...',\n",
       " 'Sneakers For Men',\n",
       " 'Sneakers For Men',\n",
       " 'Birde Trendy Casual Shoes Sneakers For Men',\n",
       " 'Sneakers For Men',\n",
       " \"White Sneaker For Men's/Boy's Sneakers For Men\",\n",
       " '5011-Latest Collection Stylish Casual Loafer Sneakers S...',\n",
       " 'Sneakers For Men',\n",
       " 'Fashion Outdoor Canvas Casual Light Weight Lace-up Even...',\n",
       " 'Sneakers For Men',\n",
       " 'Sneakers For Men',\n",
       " \"Original Luxury Branded Fashionable Men's Casual Walkin...\",\n",
       " 'Sneakers For Men',\n",
       " 'Combo Pack of 4 Casual Sneakers With Sneakers For Men',\n",
       " 'Sneakers For Men',\n",
       " 'Sneakers for men(black_6) Sneakers For Men',\n",
       " 'Sneakers For Men',\n",
       " \"Casual , Partywear Sneakers Shoes For Men's And Boys Wh...\",\n",
       " \"Casual shoes,Sneakers for men's,shoes for men's Sneaker...\",\n",
       " 'Casual Sneakers Shoes For Men Sneakers For Men',\n",
       " 'shoe Sneakers For Men',\n",
       " 'Sneakers For Men',\n",
       " 'Sneakers For Men',\n",
       " 'Sneakers For Men',\n",
       " 'Super Stylish & Trendy Combo Pack of 02 Pairs Sneakers ...',\n",
       " 'Men Boxer Sneakers For Men',\n",
       " 'Luxury Fashionable casual sneaker shoes Sneakers For Me...',\n",
       " \"Original Luxury Branded Fashionable Men's Casual Walkin...\",\n",
       " 'Combo Pack Of 4 Casual Shoes Loafer Shoes Sneakers For ...',\n",
       " 'luxury fashionable casual shoes Sneakers For Men',\n",
       " 'Perfect & Affordable Combo Pack of 02 Pairs Sneakers Ou...',\n",
       " 'Sneakers Sneakers For Men',\n",
       " 'Luxury Fashionable casual sneaker shoes Sneakers For Me...',\n",
       " 'Sneakers For Men',\n",
       " 'Sneakers For Men',\n",
       " 'Birde Trendy Casual Shoes Sneakers For Men',\n",
       " 'Sneakers For Men',\n",
       " \"White Sneaker For Men's/Boy's Sneakers For Men\",\n",
       " '5011-Latest Collection Stylish Casual Loafer Sneakers S...',\n",
       " 'Sneakers For Men',\n",
       " 'Fashion Outdoor Canvas Casual Light Weight Lace-up Even...',\n",
       " 'Sneakers For Men',\n",
       " 'Sneakers For Men',\n",
       " \"Original Luxury Branded Fashionable Men's Casual Walkin...\",\n",
       " 'Sneakers For Men',\n",
       " 'Combo Pack of 4 Casual Sneakers With Sneakers For Men',\n",
       " 'Sneakers For Men',\n",
       " 'Sneakers for men(black_6) Sneakers For Men',\n",
       " 'Sneakers For Men',\n",
       " \"Casual , Partywear Sneakers Shoes For Men's And Boys Wh...\",\n",
       " \"Casual shoes,Sneakers for men's,shoes for men's Sneaker...\",\n",
       " 'Casual Sneakers Shoes For Men Sneakers For Men',\n",
       " 'shoe Sneakers For Men',\n",
       " 'Sneakers For Men',\n",
       " 'Sneakers For Men',\n",
       " 'Sneakers For Men',\n",
       " 'Super Stylish & Trendy Combo Pack of 02 Pairs Sneakers ...',\n",
       " 'Men Boxer Sneakers For Men',\n",
       " 'Luxury Fashionable casual sneaker shoes Sneakers For Me...',\n",
       " \"Original Luxury Branded Fashionable Men's Casual Walkin...\",\n",
       " 'Combo Pack Of 4 Casual Shoes Loafer Shoes Sneakers For ...',\n",
       " 'luxury fashionable casual shoes Sneakers For Men',\n",
       " 'Perfect & Affordable Combo Pack of 02 Pairs Sneakers Ou...',\n",
       " 'Sneakers Sneakers For Men',\n",
       " 'Luxury Fashionable casual sneaker shoes Sneakers For Me...',\n",
       " 'Sneakers For Men',\n",
       " 'Sneakers For Men',\n",
       " 'Birde Trendy Casual Shoes Sneakers For Men',\n",
       " 'Sneakers For Men',\n",
       " \"White Sneaker For Men's/Boy's Sneakers For Men\",\n",
       " '5011-Latest Collection Stylish Casual Loafer Sneakers S...',\n",
       " 'Sneakers For Men',\n",
       " 'Fashion Outdoor Canvas Casual Light Weight Lace-up Even...',\n",
       " 'Sneakers For Men',\n",
       " 'Sneakers For Men',\n",
       " \"Original Luxury Branded Fashionable Men's Casual Walkin...\",\n",
       " 'Sneakers For Men',\n",
       " 'Combo Pack of 4 Casual Sneakers With Sneakers For Men',\n",
       " 'Sneakers For Men',\n",
       " 'Sneakers for men(black_6) Sneakers For Men',\n",
       " 'Sneakers For Men',\n",
       " \"Casual , Partywear Sneakers Shoes For Men's And Boys Wh...\",\n",
       " \"Casual shoes,Sneakers for men's,shoes for men's Sneaker...\",\n",
       " 'Casual Sneakers Shoes For Men Sneakers For Men',\n",
       " 'shoe Sneakers For Men',\n",
       " 'Sneakers For Men',\n",
       " 'Sneakers For Men',\n",
       " 'Sneakers For Men',\n",
       " 'Super Stylish & Trendy Combo Pack of 02 Pairs Sneakers ...',\n",
       " 'Men Boxer Sneakers For Men']"
      ]
     },
     "execution_count": 32,
     "metadata": {},
     "output_type": "execute_result"
    }
   ],
   "source": [
    "product_description[0:100] #displaying the output"
   ]
  },
  {
   "cell_type": "code",
   "execution_count": 33,
   "id": "1916e043",
   "metadata": {},
   "outputs": [],
   "source": [
    "price=[]  #empty list to store price data"
   ]
  },
  {
   "cell_type": "code",
   "execution_count": 34,
   "id": "34a3c256",
   "metadata": {},
   "outputs": [],
   "source": [
    "for i in range(0,100):\n",
    "    for j in driver.find_elements_by_xpath(\"//div[@class='_30jeq3']\"): #fetching price tag using xpath\n",
    "        price.append(j.text)"
   ]
  },
  {
   "cell_type": "code",
   "execution_count": 36,
   "id": "01419d81",
   "metadata": {},
   "outputs": [
    {
     "data": {
      "text/plain": [
       "['₹379',\n",
       " '₹379',\n",
       " '₹599',\n",
       " '₹266',\n",
       " '₹379',\n",
       " '₹499',\n",
       " '₹474',\n",
       " '₹399',\n",
       " '₹498',\n",
       " '₹398',\n",
       " '₹398',\n",
       " '₹369',\n",
       " '₹371',\n",
       " '₹429',\n",
       " '₹379',\n",
       " '₹499',\n",
       " '₹449',\n",
       " '₹378',\n",
       " '₹399',\n",
       " '₹389',\n",
       " '₹240',\n",
       " '₹398',\n",
       " '₹474',\n",
       " '₹389',\n",
       " '₹398',\n",
       " '₹499',\n",
       " '₹266',\n",
       " '₹474',\n",
       " '₹198',\n",
       " '₹460',\n",
       " '₹499',\n",
       " '₹399',\n",
       " '₹348',\n",
       " '₹349',\n",
       " '₹649',\n",
       " '₹449',\n",
       " '₹299',\n",
       " '₹399',\n",
       " '₹250',\n",
       " '₹449',\n",
       " '₹379',\n",
       " '₹379',\n",
       " '₹599',\n",
       " '₹266',\n",
       " '₹379',\n",
       " '₹499',\n",
       " '₹474',\n",
       " '₹399',\n",
       " '₹498',\n",
       " '₹398',\n",
       " '₹398',\n",
       " '₹369',\n",
       " '₹371',\n",
       " '₹429',\n",
       " '₹379',\n",
       " '₹499',\n",
       " '₹449',\n",
       " '₹378',\n",
       " '₹399',\n",
       " '₹389',\n",
       " '₹240',\n",
       " '₹398',\n",
       " '₹474',\n",
       " '₹389',\n",
       " '₹398',\n",
       " '₹499',\n",
       " '₹266',\n",
       " '₹474',\n",
       " '₹198',\n",
       " '₹460',\n",
       " '₹499',\n",
       " '₹399',\n",
       " '₹348',\n",
       " '₹349',\n",
       " '₹649',\n",
       " '₹449',\n",
       " '₹299',\n",
       " '₹399',\n",
       " '₹250',\n",
       " '₹449',\n",
       " '₹379',\n",
       " '₹379',\n",
       " '₹599',\n",
       " '₹266',\n",
       " '₹379',\n",
       " '₹499',\n",
       " '₹474',\n",
       " '₹399',\n",
       " '₹498',\n",
       " '₹398',\n",
       " '₹398',\n",
       " '₹369',\n",
       " '₹371',\n",
       " '₹429',\n",
       " '₹379',\n",
       " '₹499',\n",
       " '₹449',\n",
       " '₹378',\n",
       " '₹399',\n",
       " '₹389']"
      ]
     },
     "execution_count": 36,
     "metadata": {},
     "output_type": "execute_result"
    }
   ],
   "source": [
    "price[0:100]  #displaying output"
   ]
  },
  {
   "cell_type": "code",
   "execution_count": 37,
   "id": "773a15f4",
   "metadata": {},
   "outputs": [],
   "source": [
    "discount=[] #empty list to store discounts"
   ]
  },
  {
   "cell_type": "code",
   "execution_count": 38,
   "id": "22e66baa",
   "metadata": {},
   "outputs": [],
   "source": [
    "#using try-except method\n",
    "for i in range(0,100):\n",
    "    try:\n",
    "        for j in driver.find_elements_by_xpath(\"//div[@class='_3Ay6Sb']\"):\n",
    "            discount.append(j.text)\n",
    "    except:\n",
    "        discount.append(\"-\")"
   ]
  },
  {
   "cell_type": "code",
   "execution_count": 40,
   "id": "6346a5c3",
   "metadata": {},
   "outputs": [
    {
     "data": {
      "text/plain": [
       "['81% off',\n",
       " '81% off',\n",
       " '62% off',\n",
       " '46% off',\n",
       " '70% off',\n",
       " '75% off',\n",
       " '86% off',\n",
       " '80% off',\n",
       " '72% off',\n",
       " '60% off',\n",
       " '60% off',\n",
       " '87% off',\n",
       " '62% off',\n",
       " '66% off',\n",
       " '24% off',\n",
       " '50% off',\n",
       " '77% off',\n",
       " '62% off',\n",
       " '60% off',\n",
       " '80% off',\n",
       " '51% off',\n",
       " '60% off',\n",
       " '52% off',\n",
       " '80% off',\n",
       " '60% off',\n",
       " '50% off',\n",
       " '73% off',\n",
       " '76% off',\n",
       " '60% off',\n",
       " '53% off',\n",
       " '50% off',\n",
       " '80% off',\n",
       " '47% off',\n",
       " '65% off',\n",
       " '7% off',\n",
       " '55% off',\n",
       " '70% off',\n",
       " '60% off',\n",
       " '49% off',\n",
       " '55% off',\n",
       " '81% off',\n",
       " '81% off',\n",
       " '62% off',\n",
       " '46% off',\n",
       " '70% off',\n",
       " '75% off',\n",
       " '86% off',\n",
       " '80% off',\n",
       " '72% off',\n",
       " '60% off',\n",
       " '60% off',\n",
       " '87% off',\n",
       " '62% off',\n",
       " '66% off',\n",
       " '24% off',\n",
       " '50% off',\n",
       " '77% off',\n",
       " '62% off',\n",
       " '60% off',\n",
       " '80% off',\n",
       " '51% off',\n",
       " '60% off',\n",
       " '52% off',\n",
       " '80% off',\n",
       " '60% off',\n",
       " '50% off',\n",
       " '73% off',\n",
       " '76% off',\n",
       " '60% off',\n",
       " '53% off',\n",
       " '50% off',\n",
       " '80% off',\n",
       " '47% off',\n",
       " '65% off',\n",
       " '7% off',\n",
       " '55% off',\n",
       " '70% off',\n",
       " '60% off',\n",
       " '49% off',\n",
       " '55% off',\n",
       " '81% off',\n",
       " '81% off',\n",
       " '62% off',\n",
       " '46% off',\n",
       " '70% off',\n",
       " '75% off',\n",
       " '86% off',\n",
       " '80% off',\n",
       " '72% off',\n",
       " '60% off',\n",
       " '60% off',\n",
       " '87% off',\n",
       " '62% off',\n",
       " '66% off',\n",
       " '24% off',\n",
       " '50% off',\n",
       " '77% off',\n",
       " '62% off',\n",
       " '60% off',\n",
       " '80% off']"
      ]
     },
     "execution_count": 40,
     "metadata": {},
     "output_type": "execute_result"
    }
   ],
   "source": [
    "discount[0:100] #printing discounts"
   ]
  },
  {
   "cell_type": "markdown",
   "id": "f7e74387",
   "metadata": {},
   "source": [
    "# Q9:Go to the link - https://www.myntra.com/shoes . Set Price filter to “Rs. 6649 to Rs. 13099” , Color filter to “Black”. Then scrap first 100 shoes data you get. The data should include \"Brand\" of the shoes, short description, price of the shoes."
   ]
  },
  {
   "cell_type": "code",
   "execution_count": 43,
   "id": "7ac6eed7",
   "metadata": {},
   "outputs": [],
   "source": [
    "driver=webdriver.Chrome(r\"C:\\Users\\Win 10\\Downloads\\chromedriver_win32\\chromedriver\")\n",
    "driver=webdriver.Chrome(\"chromedriver\")"
   ]
  },
  {
   "cell_type": "code",
   "execution_count": 44,
   "id": "2cbedeec",
   "metadata": {},
   "outputs": [],
   "source": [
    "#passing url\n",
    "url='https://www.myntra.com/shoes'\n",
    "driver.get(url)"
   ]
  },
  {
   "cell_type": "code",
   "execution_count": 52,
   "id": "362f20a0",
   "metadata": {},
   "outputs": [],
   "source": [
    "#using filter for price \n",
    "filter_button=driver.find_elements_by_xpath('//label[@class=\"common-customCheckbox\"]') #using xpath for filter\n",
    "for i in filter_button:\n",
    "    if i.text==\"Rs. 6897 to Rs. 13595\":\n",
    "        i.click()\n",
    "        break"
   ]
  },
  {
   "cell_type": "code",
   "execution_count": 53,
   "id": "6c8f611e",
   "metadata": {},
   "outputs": [],
   "source": [
    "#using filter for colour\n",
    "filter_button=driver.find_elements_by_xpath('//label[@class=\"common-customCheckbox\"]')\n",
    "for i in filter_button:\n",
    "    if i.text==\"Black\":\n",
    "        i.click()\n",
    "        break"
   ]
  },
  {
   "cell_type": "code",
   "execution_count": 54,
   "id": "b74345bb",
   "metadata": {},
   "outputs": [],
   "source": [
    "shoe_brand=[] #empty list to store shoe_brand"
   ]
  },
  {
   "cell_type": "code",
   "execution_count": 55,
   "id": "dab8d727",
   "metadata": {},
   "outputs": [],
   "source": [
    "for i in range(0,100):\n",
    "    for j in driver.find_elements_by_xpath(\"//h3[@class='product-brand']\"): #fetching brand using xpath \n",
    "        shoe_brand.append(j.text)"
   ]
  },
  {
   "cell_type": "code",
   "execution_count": 57,
   "id": "bfe5af61",
   "metadata": {},
   "outputs": [
    {
     "data": {
      "text/plain": [
       "['ALDO',\n",
       " 'Puma',\n",
       " 'Puma',\n",
       " 'Puma',\n",
       " 'Puma',\n",
       " 'ASICS',\n",
       " 'Hush Puppies',\n",
       " 'Nike',\n",
       " 'Puma',\n",
       " 'ROSSO BRUNELLO',\n",
       " 'UNDER ARMOUR',\n",
       " 'Puma',\n",
       " 'UNDER ARMOUR',\n",
       " 'Hush Puppies',\n",
       " 'FORCLAZ By Decathlon',\n",
       " 'Puma',\n",
       " 'UNDER ARMOUR',\n",
       " 'J.FONTINI',\n",
       " 'Puma',\n",
       " 'Hush Puppies',\n",
       " 'Puma',\n",
       " 'UNDER ARMOUR',\n",
       " 'UNDER ARMOUR',\n",
       " 'PUMA Motorsport',\n",
       " 'Puma',\n",
       " 'Hush Puppies',\n",
       " 'UNDER ARMOUR',\n",
       " 'Geox',\n",
       " 'ASICS',\n",
       " 'Clarks',\n",
       " 'Puma',\n",
       " 'Calvin Klein',\n",
       " 'Geox',\n",
       " 'UNDER ARMOUR',\n",
       " 'UNDER ARMOUR',\n",
       " 'Geox',\n",
       " 'DAVINCHI',\n",
       " 'J.FONTINI',\n",
       " 'Geox',\n",
       " 'Puma',\n",
       " 'Heel & Buckle London',\n",
       " 'ROSSO BRUNELLO',\n",
       " 'ROSSO BRUNELLO',\n",
       " 'J.FONTINI',\n",
       " 'J.FONTINI',\n",
       " 'ASICS',\n",
       " 'ALDO',\n",
       " 'RARE RABBIT',\n",
       " 'Hush Puppies',\n",
       " 'DAVINCHI',\n",
       " 'ALDO',\n",
       " 'Puma',\n",
       " 'Puma',\n",
       " 'Puma',\n",
       " 'Puma',\n",
       " 'ASICS',\n",
       " 'Hush Puppies',\n",
       " 'Nike',\n",
       " 'Puma',\n",
       " 'ROSSO BRUNELLO',\n",
       " 'UNDER ARMOUR',\n",
       " 'Puma',\n",
       " 'UNDER ARMOUR',\n",
       " 'Hush Puppies',\n",
       " 'FORCLAZ By Decathlon',\n",
       " 'Puma',\n",
       " 'UNDER ARMOUR',\n",
       " 'J.FONTINI',\n",
       " 'Puma',\n",
       " 'Hush Puppies',\n",
       " 'Puma',\n",
       " 'UNDER ARMOUR',\n",
       " 'UNDER ARMOUR',\n",
       " 'PUMA Motorsport',\n",
       " 'Puma',\n",
       " 'Hush Puppies',\n",
       " 'UNDER ARMOUR',\n",
       " 'Geox',\n",
       " 'ASICS',\n",
       " 'Clarks',\n",
       " 'Puma',\n",
       " 'Calvin Klein',\n",
       " 'Geox',\n",
       " 'UNDER ARMOUR',\n",
       " 'UNDER ARMOUR',\n",
       " 'Geox',\n",
       " 'DAVINCHI',\n",
       " 'J.FONTINI',\n",
       " 'Geox',\n",
       " 'Puma',\n",
       " 'Heel & Buckle London',\n",
       " 'ROSSO BRUNELLO',\n",
       " 'ROSSO BRUNELLO',\n",
       " 'J.FONTINI',\n",
       " 'J.FONTINI',\n",
       " 'ASICS',\n",
       " 'ALDO',\n",
       " 'RARE RABBIT',\n",
       " 'Hush Puppies',\n",
       " 'DAVINCHI']"
      ]
     },
     "execution_count": 57,
     "metadata": {},
     "output_type": "execute_result"
    }
   ],
   "source": [
    "shoe_brand[0:100] #printing brand of the shoe"
   ]
  },
  {
   "cell_type": "code",
   "execution_count": 58,
   "id": "791f0c8d",
   "metadata": {},
   "outputs": [],
   "source": [
    "shoe_description=[]   # empty list to store shoe description "
   ]
  },
  {
   "cell_type": "code",
   "execution_count": 59,
   "id": "31e218d8",
   "metadata": {},
   "outputs": [],
   "source": [
    "for i in range(0,100):\n",
    "    for j in driver.find_elements_by_xpath(\"//h4[@class='product-product']\"): #fetching tag for description using xpath\n",
    "        shoe_description.append(j.text)"
   ]
  },
  {
   "cell_type": "code",
   "execution_count": 61,
   "id": "a8e95a66",
   "metadata": {},
   "outputs": [
    {
     "data": {
      "text/plain": [
       "['Men Driving Shoes',\n",
       " 'Men Cell Fraction Fade Running',\n",
       " 'Men Velocity Nitro Running',\n",
       " 'Mesh Hybrid Fuego Running',\n",
       " 'Men BlackTraining or Gym Shoes',\n",
       " 'Men Tennis Shoes',\n",
       " 'Men Solid Leather Formal Slip-Ons',\n",
       " \"Men BlazerLow '77 Sneakers\",\n",
       " 'Men FUSE Training Shoes',\n",
       " 'Men Leather Formal Loafers',\n",
       " 'Women HOVR Sonic 4 FnRn',\n",
       " 'Men Liberate Nitro Running',\n",
       " 'Men HOVR Infinite Running',\n",
       " 'Men Solid Leather Formal Slip-Ons',\n",
       " 'TREKKING 100 Boots',\n",
       " 'Men Black Shoes',\n",
       " 'Men HOVR Sonic STRT Tech Shoes',\n",
       " 'Men Black Leather Loafers',\n",
       " 'Women Deviate Nitro Running',\n",
       " 'Men Leather Slip-On Sneakers',\n",
       " 'Women Eternity Nitro Running',\n",
       " 'Women HOVR Sonic 4 Running',\n",
       " 'GS SC 3Zero IV Basketball',\n",
       " 'Unisex FerrariRS-Fast Sneakers',\n",
       " 'Women Velocity Nitro Running',\n",
       " 'Men Formal Derbys',\n",
       " 'Women Charged Assert 8 Running',\n",
       " 'Men Printed Slip-On Sneakers',\n",
       " 'Women GlideRide Running Shoes',\n",
       " 'Men Solid Formal Leather Derbys',\n",
       " 'Men Liberate NITRO Running',\n",
       " 'Men Loafers',\n",
       " 'Men Sneakers',\n",
       " 'Women Charged Bandit 6 Running',\n",
       " 'Women Charged Impulse Shft',\n",
       " 'Men Leather Flat Boots',\n",
       " 'Men Textured Formal Leather Loafers',\n",
       " 'Men Solid Loafers',\n",
       " 'Men Solid Sneakers',\n",
       " 'Unisex Colourblocked Sneakers',\n",
       " 'Women Solid Leather Gladiators',\n",
       " 'Men Solid Formal Monks Shoes',\n",
       " 'Men Solid Leather Formal Monk Shoes',\n",
       " 'Men Textured Leather Loafers',\n",
       " 'Men Textured Leather Loafers',\n",
       " 'Women GlideRide Running Shoes',\n",
       " 'Women Sneakers',\n",
       " 'Men Leather Formal Slip-Ons',\n",
       " 'Men Solid Leather Formal Derbys',\n",
       " 'Men Solid Leather Formal Derbys',\n",
       " 'Men Driving Shoes',\n",
       " 'Men Cell Fraction Fade Running',\n",
       " 'Men Velocity Nitro Running',\n",
       " 'Mesh Hybrid Fuego Running',\n",
       " 'Men BlackTraining or Gym Shoes',\n",
       " 'Men Tennis Shoes',\n",
       " 'Men Solid Leather Formal Slip-Ons',\n",
       " \"Men BlazerLow '77 Sneakers\",\n",
       " 'Men FUSE Training Shoes',\n",
       " 'Men Leather Formal Loafers',\n",
       " 'Women HOVR Sonic 4 FnRn',\n",
       " 'Men Liberate Nitro Running',\n",
       " 'Men HOVR Infinite Running',\n",
       " 'Men Solid Leather Formal Slip-Ons',\n",
       " 'TREKKING 100 Boots',\n",
       " 'Men Black Shoes',\n",
       " 'Men HOVR Sonic STRT Tech Shoes',\n",
       " 'Men Black Leather Loafers',\n",
       " 'Women Deviate Nitro Running',\n",
       " 'Men Leather Slip-On Sneakers',\n",
       " 'Women Eternity Nitro Running',\n",
       " 'Women HOVR Sonic 4 Running',\n",
       " 'GS SC 3Zero IV Basketball',\n",
       " 'Unisex FerrariRS-Fast Sneakers',\n",
       " 'Women Velocity Nitro Running',\n",
       " 'Men Formal Derbys',\n",
       " 'Women Charged Assert 8 Running',\n",
       " 'Men Printed Slip-On Sneakers',\n",
       " 'Women GlideRide Running Shoes',\n",
       " 'Men Solid Formal Leather Derbys',\n",
       " 'Men Liberate NITRO Running',\n",
       " 'Men Loafers',\n",
       " 'Men Sneakers',\n",
       " 'Women Charged Bandit 6 Running',\n",
       " 'Women Charged Impulse Shft',\n",
       " 'Men Leather Flat Boots',\n",
       " 'Men Textured Formal Leather Loafers',\n",
       " 'Men Solid Loafers',\n",
       " 'Men Solid Sneakers',\n",
       " 'Unisex Colourblocked Sneakers',\n",
       " 'Women Solid Leather Gladiators',\n",
       " 'Men Solid Formal Monks Shoes',\n",
       " 'Men Solid Leather Formal Monk Shoes',\n",
       " 'Men Textured Leather Loafers',\n",
       " 'Men Textured Leather Loafers',\n",
       " 'Women GlideRide Running Shoes',\n",
       " 'Women Sneakers',\n",
       " 'Men Leather Formal Slip-Ons',\n",
       " 'Men Solid Leather Formal Derbys',\n",
       " 'Men Solid Leather Formal Derbys']"
      ]
     },
     "execution_count": 61,
     "metadata": {},
     "output_type": "execute_result"
    }
   ],
   "source": [
    "shoe_description[0:100] #printing shoe description"
   ]
  },
  {
   "cell_type": "code",
   "execution_count": 62,
   "id": "5ec05a8b",
   "metadata": {},
   "outputs": [],
   "source": [
    "shoe_price=[] #empty list to store shoe price"
   ]
  },
  {
   "cell_type": "code",
   "execution_count": 63,
   "id": "4ff903db",
   "metadata": {},
   "outputs": [],
   "source": [
    "for i in range(0,100): #looping\n",
    "    for j in driver.find_elements_by_xpath(\"//div[@class='product-price']\"): #fetching tag for price using xpath\n",
    "        shoe_price.append(j.text)"
   ]
  },
  {
   "cell_type": "code",
   "execution_count": 65,
   "id": "81792183",
   "metadata": {},
   "outputs": [
    {
     "data": {
      "text/plain": [
       "['Rs. 11999',\n",
       " 'Rs. 6999',\n",
       " 'Rs. 10999',\n",
       " 'Rs. 6999',\n",
       " 'Rs. 6999',\n",
       " 'Rs. 9999',\n",
       " 'Rs. 8099Rs. 8999(10% OFF)',\n",
       " 'Rs. 7195',\n",
       " 'Rs. 7999',\n",
       " 'Rs. 12999',\n",
       " 'Rs. 10999',\n",
       " 'Rs. 7499Rs. 9999(25% OFF)',\n",
       " 'Rs. 11999',\n",
       " 'Rs. 8999Rs. 9999(10% OFF)',\n",
       " 'Rs. 6999',\n",
       " 'Rs. 6999',\n",
       " 'Rs. 9999',\n",
       " 'Rs. 8490',\n",
       " 'Rs. 7499Rs. 14999(50% OFF)',\n",
       " 'Rs. 6999Rs. 9999(30% OFF)',\n",
       " 'Rs. 7799Rs. 12999(40% OFF)',\n",
       " 'Rs. 10999',\n",
       " 'Rs. 7499',\n",
       " 'Rs. 9999',\n",
       " 'Rs. 7149Rs. 10999(35% OFF)',\n",
       " 'Rs. 8999Rs. 9999(10% OFF)',\n",
       " 'Rs. 6999',\n",
       " 'Rs. 10999',\n",
       " 'Rs. 11199Rs. 13999(20% OFF)',\n",
       " 'Rs. 9999',\n",
       " 'Rs. 9999',\n",
       " 'Rs. 7199Rs. 8999(20% OFF)',\n",
       " 'Rs. 9999',\n",
       " 'Rs. 8999',\n",
       " 'Rs. 7499',\n",
       " 'Rs. 11999',\n",
       " 'Rs. 8990',\n",
       " 'Rs. 8990',\n",
       " 'Rs. 9999',\n",
       " 'Rs. 6999',\n",
       " 'Rs. 6993Rs. 9990(30% OFF)',\n",
       " 'Rs. 12999',\n",
       " 'Rs. 12999',\n",
       " 'Rs. 7990',\n",
       " 'Rs. 7990',\n",
       " 'Rs. 11199Rs. 13999(20% OFF)',\n",
       " 'Rs. 11999',\n",
       " 'Rs. 9999',\n",
       " 'Rs. 8999Rs. 9999(10% OFF)',\n",
       " 'Rs. 8990',\n",
       " 'Rs. 11999',\n",
       " 'Rs. 6999',\n",
       " 'Rs. 10999',\n",
       " 'Rs. 6999',\n",
       " 'Rs. 6999',\n",
       " 'Rs. 9999',\n",
       " 'Rs. 8099Rs. 8999(10% OFF)',\n",
       " 'Rs. 7195',\n",
       " 'Rs. 7999',\n",
       " 'Rs. 12999',\n",
       " 'Rs. 10999',\n",
       " 'Rs. 7499Rs. 9999(25% OFF)',\n",
       " 'Rs. 11999',\n",
       " 'Rs. 8999Rs. 9999(10% OFF)',\n",
       " 'Rs. 6999',\n",
       " 'Rs. 6999',\n",
       " 'Rs. 9999',\n",
       " 'Rs. 8490',\n",
       " 'Rs. 7499Rs. 14999(50% OFF)',\n",
       " 'Rs. 6999Rs. 9999(30% OFF)',\n",
       " 'Rs. 7799Rs. 12999(40% OFF)',\n",
       " 'Rs. 10999',\n",
       " 'Rs. 7499',\n",
       " 'Rs. 9999',\n",
       " 'Rs. 7149Rs. 10999(35% OFF)',\n",
       " 'Rs. 8999Rs. 9999(10% OFF)',\n",
       " 'Rs. 6999',\n",
       " 'Rs. 10999',\n",
       " 'Rs. 11199Rs. 13999(20% OFF)',\n",
       " 'Rs. 9999',\n",
       " 'Rs. 9999',\n",
       " 'Rs. 7199Rs. 8999(20% OFF)',\n",
       " 'Rs. 9999',\n",
       " 'Rs. 8999',\n",
       " 'Rs. 7499',\n",
       " 'Rs. 11999',\n",
       " 'Rs. 8990',\n",
       " 'Rs. 8990',\n",
       " 'Rs. 9999',\n",
       " 'Rs. 6999',\n",
       " 'Rs. 6993Rs. 9990(30% OFF)',\n",
       " 'Rs. 12999',\n",
       " 'Rs. 12999',\n",
       " 'Rs. 7990',\n",
       " 'Rs. 7990',\n",
       " 'Rs. 11199Rs. 13999(20% OFF)',\n",
       " 'Rs. 11999',\n",
       " 'Rs. 9999',\n",
       " 'Rs. 8999Rs. 9999(10% OFF)',\n",
       " 'Rs. 8990']"
      ]
     },
     "execution_count": 65,
     "metadata": {},
     "output_type": "execute_result"
    }
   ],
   "source": [
    "shoe_price[0:100] #displaying shoe price"
   ]
  },
  {
   "cell_type": "markdown",
   "id": "01e9930a",
   "metadata": {},
   "source": [
    "# Q10:  Go to webpage https://www.amazon.in/.  Enter “Laptop” in the search field and then click the search icon. Then set CPU Type filter to “Intel Core i7” and “Intel Core i9”. "
   ]
  },
  {
   "cell_type": "markdown",
   "id": "0f05b806",
   "metadata": {},
   "source": [
    "After setting the filters scrape first 10Laptops data. You have to scrape 3 attributes for each laptop:\n",
    "\n",
    "1.Title\n",
    "\n",
    "2.Ratings\n",
    "\n",
    "3.Price"
   ]
  },
  {
   "cell_type": "code",
   "execution_count": 72,
   "id": "cb7e4aba",
   "metadata": {},
   "outputs": [],
   "source": [
    "driver=webdriver.Chrome(r\"C:\\Users\\Win 10\\Downloads\\chromedriver_win32\\chromedriver\")\n",
    "driver=webdriver.Chrome(\"chromedriver\")"
   ]
  },
  {
   "cell_type": "code",
   "execution_count": 73,
   "id": "89db9cc5",
   "metadata": {},
   "outputs": [],
   "source": [
    "#passing url\n",
    "url='https://www.amazon.in/'\n",
    "driver.get(url)"
   ]
  },
  {
   "cell_type": "code",
   "execution_count": 74,
   "id": "03075d0f",
   "metadata": {},
   "outputs": [],
   "source": [
    "#searching for search_field tag and giving input \n",
    "search_field=driver.find_element_by_id(\"twotabsearchtextbox\") #fetching tag using id name\n",
    "search_field.send_keys(\"Laptop\")"
   ]
  },
  {
   "cell_type": "code",
   "execution_count": 75,
   "id": "7754d237",
   "metadata": {},
   "outputs": [],
   "source": [
    "search_btn=driver.find_element_by_id(\"nav-search-submit-button\")  #submitting\n",
    "search_btn.click()"
   ]
  },
  {
   "cell_type": "code",
   "execution_count": 76,
   "id": "e4d71526",
   "metadata": {},
   "outputs": [],
   "source": [
    "#using filter for CPU Type\n",
    "filter_button=driver.find_elements_by_xpath('//a[@class=\"a-link-normal s-navigation-item\"]/span') #using xpath for filter\n",
    "for i in filter_button:\n",
    "    if i.text==\"Intel Core i7\":\n",
    "        i.click()\n",
    "        break"
   ]
  },
  {
   "cell_type": "code",
   "execution_count": 77,
   "id": "7679eb1f",
   "metadata": {},
   "outputs": [],
   "source": [
    "#using filter for CPU Type\n",
    "filter_button=driver.find_elements_by_xpath('//a[@class=\"a-link-normal s-navigation-item\"]/span') #using xpath for filter\n",
    "for i in filter_button:\n",
    "    if i.text==\"Intel Core i9\":\n",
    "        i.click()\n",
    "        break"
   ]
  },
  {
   "cell_type": "code",
   "execution_count": 79,
   "id": "fd9ff3f1",
   "metadata": {},
   "outputs": [
    {
     "data": {
      "text/plain": [
       "[<selenium.webdriver.remote.webelement.WebElement (session=\"69f78e25cf65110b6d290a3253e4bd90\", element=\"953ecc16-37eb-48aa-b4d1-6f381a4fde91\")>,\n",
       " <selenium.webdriver.remote.webelement.WebElement (session=\"69f78e25cf65110b6d290a3253e4bd90\", element=\"826c662d-984e-4857-828e-1ffdc2a56aae\")>,\n",
       " <selenium.webdriver.remote.webelement.WebElement (session=\"69f78e25cf65110b6d290a3253e4bd90\", element=\"1fb4d70d-3688-40b0-8136-d803706df687\")>,\n",
       " <selenium.webdriver.remote.webelement.WebElement (session=\"69f78e25cf65110b6d290a3253e4bd90\", element=\"f9cee516-0ee7-4253-a738-67fd1afe839d\")>,\n",
       " <selenium.webdriver.remote.webelement.WebElement (session=\"69f78e25cf65110b6d290a3253e4bd90\", element=\"8303ae00-20f2-4ed8-a773-62b119590217\")>,\n",
       " <selenium.webdriver.remote.webelement.WebElement (session=\"69f78e25cf65110b6d290a3253e4bd90\", element=\"8b71ccdb-de9d-41ee-aa6b-d4ad1e191e0a\")>,\n",
       " <selenium.webdriver.remote.webelement.WebElement (session=\"69f78e25cf65110b6d290a3253e4bd90\", element=\"54689ed5-ce61-4496-86e5-88d79b9d0aad\")>,\n",
       " <selenium.webdriver.remote.webelement.WebElement (session=\"69f78e25cf65110b6d290a3253e4bd90\", element=\"dc747470-5a82-460b-be78-8d41d242e6ff\")>,\n",
       " <selenium.webdriver.remote.webelement.WebElement (session=\"69f78e25cf65110b6d290a3253e4bd90\", element=\"e7abed83-572d-4bdf-a3ac-fa04c6a2ba46\")>,\n",
       " <selenium.webdriver.remote.webelement.WebElement (session=\"69f78e25cf65110b6d290a3253e4bd90\", element=\"be42a17f-21be-4af7-85ec-8cbc103852eb\")>,\n",
       " <selenium.webdriver.remote.webelement.WebElement (session=\"69f78e25cf65110b6d290a3253e4bd90\", element=\"1daca9b5-d667-44f1-9553-86731042609e\")>,\n",
       " <selenium.webdriver.remote.webelement.WebElement (session=\"69f78e25cf65110b6d290a3253e4bd90\", element=\"9f349bb2-40da-4281-be9f-9bfe3ca26d22\")>,\n",
       " <selenium.webdriver.remote.webelement.WebElement (session=\"69f78e25cf65110b6d290a3253e4bd90\", element=\"8a5d709f-f256-4731-a96c-c66d6c062ec9\")>,\n",
       " <selenium.webdriver.remote.webelement.WebElement (session=\"69f78e25cf65110b6d290a3253e4bd90\", element=\"fa7b3bbc-7859-4212-a096-9cae9cc07922\")>,\n",
       " <selenium.webdriver.remote.webelement.WebElement (session=\"69f78e25cf65110b6d290a3253e4bd90\", element=\"9ac6280d-9110-4533-9b40-e1799c98b586\")>,\n",
       " <selenium.webdriver.remote.webelement.WebElement (session=\"69f78e25cf65110b6d290a3253e4bd90\", element=\"c1acb150-f835-45df-8734-927b9e29008c\")>,\n",
       " <selenium.webdriver.remote.webelement.WebElement (session=\"69f78e25cf65110b6d290a3253e4bd90\", element=\"a6c05897-e2d4-4c65-b194-e41167341561\")>,\n",
       " <selenium.webdriver.remote.webelement.WebElement (session=\"69f78e25cf65110b6d290a3253e4bd90\", element=\"376d8dc8-5404-40f5-a20e-571798df8b33\")>,\n",
       " <selenium.webdriver.remote.webelement.WebElement (session=\"69f78e25cf65110b6d290a3253e4bd90\", element=\"3c707cfc-7029-4a82-b910-d02154a4766a\")>,\n",
       " <selenium.webdriver.remote.webelement.WebElement (session=\"69f78e25cf65110b6d290a3253e4bd90\", element=\"5e85026f-0024-4b29-83ec-244c43ee9376\")>,\n",
       " <selenium.webdriver.remote.webelement.WebElement (session=\"69f78e25cf65110b6d290a3253e4bd90\", element=\"5d1fceef-d58a-403f-92f5-3490040b0406\")>,\n",
       " <selenium.webdriver.remote.webelement.WebElement (session=\"69f78e25cf65110b6d290a3253e4bd90\", element=\"b0707244-3e51-4843-adc9-2714d3d60c7a\")>,\n",
       " <selenium.webdriver.remote.webelement.WebElement (session=\"69f78e25cf65110b6d290a3253e4bd90\", element=\"0fd35797-2095-432a-819f-6c22df3620e8\")>,\n",
       " <selenium.webdriver.remote.webelement.WebElement (session=\"69f78e25cf65110b6d290a3253e4bd90\", element=\"01308d5d-f766-4ef8-8a20-2d74b25ebe41\")>,\n",
       " <selenium.webdriver.remote.webelement.WebElement (session=\"69f78e25cf65110b6d290a3253e4bd90\", element=\"90456606-f333-47b8-941a-45517f75a991\")>]"
      ]
     },
     "execution_count": 79,
     "metadata": {},
     "output_type": "execute_result"
    }
   ],
   "source": [
    "title_tags=driver.find_elements_by_xpath(\"//span[@class='a-size-medium a-color-base a-text-normal']\")\n",
    "title_tags"
   ]
  },
  {
   "cell_type": "code",
   "execution_count": 82,
   "id": "ff495ae7",
   "metadata": {},
   "outputs": [],
   "source": [
    "Title=[]  #empty list to store data\n",
    "for i in title_tags[0:10]:\n",
    "    Title.append(i.text)"
   ]
  },
  {
   "cell_type": "code",
   "execution_count": 84,
   "id": "d554c347",
   "metadata": {},
   "outputs": [
    {
     "data": {
      "text/plain": [
       "['HP Envy 11th Gen Core i7 Processor 13.3-inch (33.78 cms) FHD Touchscreen Laptop (16GB/1TB SSD/Win 10/NVIDIA MX450 2GB/Natural Silver/1.3 kg), 13-ba1018TX',\n",
       " 'Mi Notebook Ultra 3K Resolution Display Intel Core i7-11370H 11th Gen 15.6-inch(39.62 cms) Thin and Light Laptop (16GB/512GB SSD/Iris Xe Graphics/Win 10/MS Office/Backlit KB/Fingerprint Sensor/1.7Kg)',\n",
       " 'Lenovo IdeaPad S540 11th Gen Intel Core i7 13.3\" QHD IPS Thin & Light Laptop (16GB/512GB SSD/Windows 10/MS Office 2019/Intel Iris Xe Graphics/Iron Grey/1.28Kg), 82H1002CIN',\n",
       " 'ASUS TUF Gaming F17 (2021), 17.3-inch (43.94 cms) FHD 144Hz, Intel Core i7-11800H 11th Gen, GeForce RTX 3050 Ti 4GB Graphics, Gaming Laptop (16GB/1TB SSD/Windows 10/Eclipse Gray/2.6 Kg) FX766HE-HX022T',\n",
       " 'ASUS TUF Dash F15 (2021), 15.6-inch (39.62 cms) FHD 144Hz, Intel Core i7-11370H 11th Gen, RTX 3050 4GB Graphics Gaming Laptop (16GB RAM/512GB SSD/Windows 10/Gray/2 kg), FX516PC-HN063T',\n",
       " 'Lenovo IdeaPad Gaming 3 Intel Core i7 10th Gen 15.6\" FHD IPS 250Nits Gaming Laptop (8GB/512GB SSD/Win10/NVIDIA GTX 1650 4GB GDDR6 Graphics/120Hz/Onyx Black/2.2Kg), 81Y4019EIN',\n",
       " 'Mi Notebook Horizon Edition 14 Intel Core i7-10510U 10th Gen Thin and Light Laptop(8GB/512GB SSD/Windows 10/Nvidia MX350 2GB Graphics/Grey/1.35Kg)(Without Webcam) XMA1904-AF',\n",
       " 'HP Envy 11th Gen Core i7 Processor 13.3-inch (33.78 cms) FHD Touchscreen Laptop (16GB/1TB SSD/Win 10/NVIDIA MX450 2GB/Natural Silver/1.3 kg), 13-ba1018TX',\n",
       " 'Mi Notebook Pro QHD+ IPS Anti Glare Display Intel Core i7-11370H 11th Gen 14-inch(35.56 cms) Thin and Light Laptop (16GB/512GB SSD/Iris Xe Graphics/Win 10/Backlit KB/Fingerprint Sensor/1.4 Kg)',\n",
       " 'Lenovo Yoga 7 11th Gen Intel Core i7-1165G7 14\" (35.56cm) FHD IPS 2-in-1 Touchscreen Laptop (16GB/512GB SSD/Windows 10/MS Office/Lenovo Digital Pen/Fingerprint Reader/Slate Grey/1.43Kg), 82BH004HIN']"
      ]
     },
     "execution_count": 84,
     "metadata": {},
     "output_type": "execute_result"
    }
   ],
   "source": [
    "Title"
   ]
  },
  {
   "cell_type": "code",
   "execution_count": 85,
   "id": "d4945967",
   "metadata": {},
   "outputs": [
    {
     "data": {
      "text/plain": [
       "25"
      ]
     },
     "execution_count": 85,
     "metadata": {},
     "output_type": "execute_result"
    }
   ],
   "source": [
    "#fetching urls for each product\n",
    "urls=[]\n",
    "for i in driver.find_elements_by_xpath(\"//h2[@class='a-size-mini a-spacing-none a-color-base s-line-clamp-2']/a\"):\n",
    "    urls.append(i.get_attribute(\"href\"))\n",
    "len(urls)"
   ]
  },
  {
   "cell_type": "code",
   "execution_count": 86,
   "id": "8b0d50fc",
   "metadata": {},
   "outputs": [
    {
     "data": {
      "text/plain": [
       "['https://www.amazon.in/gp/slredirect/picassoRedirect.html/ref=pa_sp_atf_computers_sr_pg1_1?ie=UTF8&adId=A10081262K6KZOZ37JXYV&url=%2FHP-Processor-13-3-inch-Touchscreen-13-ba1018TX%2Fdp%2FB091FJ13Q5%2Fref%3Dsr_1_1_sspa%3Fdchild%3D1%26keywords%3DLaptop%26qid%3D1631198919%26refinements%3Dp_n_feature_thirteen_browse-bin%253A12598163031%257C16757432031%26rnid%3D12598141031%26s%3Dcomputers%26sr%3D1-1-spons%26psc%3D1&qualifier=1631198919&id=727989791818412&widgetName=sp_atf',\n",
       " 'https://www.amazon.in/Notebook-Resolution-i7-11370H-15-6-inch-Fingerprint/dp/B098XL1SY5/ref=sr_1_2?dchild=1&keywords=Laptop&qid=1631198919&refinements=p_n_feature_thirteen_browse-bin%3A12598163031%7C16757432031&rnid=12598141031&s=computers&sr=1-2',\n",
       " 'https://www.amazon.in/Lenovo-IdeaPad-Windows-Graphics-82H1002CIN/dp/B094XJPQ6N/ref=sr_1_3?dchild=1&keywords=Laptop&qid=1631198919&refinements=p_n_feature_thirteen_browse-bin%3A12598163031%7C16757432031&rnid=12598141031&s=computers&sr=1-3',\n",
       " 'https://www.amazon.in/ASUS-17-3-inch-i7-11800H-GeForce-RTX-3050-Ti-FX766HE-HX022T/dp/B0987S6PG1/ref=sr_1_4?dchild=1&keywords=Laptop&qid=1631198919&refinements=p_n_feature_thirteen_browse-bin%3A12598163031%7C16757432031&rnid=12598141031&s=computers&sr=1-4',\n",
       " 'https://www.amazon.in/ASUS-Dash-F15-15-6-inch-i7-11370H-FX516PC-HN063T/dp/B096KVJ5PC/ref=sr_1_5?dchild=1&keywords=Laptop&qid=1631198919&refinements=p_n_feature_thirteen_browse-bin%3A12598163031%7C16757432031&rnid=12598141031&s=computers&sr=1-5',\n",
       " 'https://www.amazon.in/Lenovo-IdeaPad-250Nits-Graphics-81Y4019EIN/dp/B097TZMG7R/ref=sr_1_6?dchild=1&keywords=Laptop&qid=1631198919&refinements=p_n_feature_thirteen_browse-bin%3A12598163031%7C16757432031&rnid=12598141031&s=computers&sr=1-6',\n",
       " 'https://www.amazon.in/Notebook-Horizon-i7-10510U-Graphics-XMA1904-AF/dp/B089DFJHZ8/ref=sr_1_7?dchild=1&keywords=Laptop&qid=1631198919&refinements=p_n_feature_thirteen_browse-bin%3A12598163031%7C16757432031&rnid=12598141031&s=computers&sr=1-7',\n",
       " 'https://www.amazon.in/HP-Processor-13-3-inch-Touchscreen-13-ba1018TX/dp/B091FJ13Q5/ref=sr_1_8?dchild=1&keywords=Laptop&qid=1631198919&refinements=p_n_feature_thirteen_browse-bin%3A12598163031%7C16757432031&rnid=12598141031&s=computers&sr=1-8',\n",
       " 'https://www.amazon.in/Notebook-Display-i7-11370H-Graphics-Fingerprint/dp/B0965LKL7B/ref=sr_1_9?dchild=1&keywords=Laptop&qid=1631198919&refinements=p_n_feature_thirteen_browse-bin%3A12598163031%7C16757432031&rnid=12598141031&s=computers&sr=1-9',\n",
       " 'https://www.amazon.in/Lenovo-Touchscreen-Fingerprint-Aluminium-82BH004HIN/dp/B08P3M22QQ/ref=sr_1_10?dchild=1&keywords=Laptop&qid=1631198919&refinements=p_n_feature_thirteen_browse-bin%3A12598163031%7C16757432031&rnid=12598141031&s=computers&sr=1-10',\n",
       " 'https://www.amazon.in/Fujitsu-33-78cm-Convertible-Graphics-4ZR1D71993/dp/B098P4M233/ref=sr_1_11?dchild=1&keywords=Laptop&qid=1631198919&refinements=p_n_feature_thirteen_browse-bin%3A12598163031%7C16757432031&rnid=12598141031&s=computers&sr=1-11',\n",
       " 'https://www.amazon.in/HP-Pavilion-Graphics-35-56cms-14-dv0058TU/dp/B08WB857GB/ref=sr_1_12?dchild=1&keywords=Laptop&qid=1631198919&refinements=p_n_feature_thirteen_browse-bin%3A12598163031%7C16757432031&rnid=12598141031&s=computers&sr=1-12',\n",
       " 'https://www.amazon.in/15-6-inch-HP-ZBook-15-Workstation/dp/B09DQ3FLRD/ref=sr_1_13?dchild=1&keywords=Laptop&qid=1631198919&refinements=p_n_feature_thirteen_browse-bin%3A12598163031%7C16757432031&rnid=12598141031&s=computers&sr=1-13',\n",
       " 'https://www.amazon.in/HP-Pavilion-Touchscreen-Convertible-14-dw1040TU/dp/B08R843NHL/ref=sr_1_14?dchild=1&keywords=Laptop&qid=1631198919&refinements=p_n_feature_thirteen_browse-bin%3A12598163031%7C16757432031&rnid=12598141031&s=computers&sr=1-14',\n",
       " 'https://www.amazon.in/13-3-inch-TOUCHSCREEN-Integrated-Graphics-EliteBook/dp/B09CMZLGYG/ref=sr_1_15?dchild=1&keywords=Laptop&qid=1631198919&refinements=p_n_feature_thirteen_browse-bin%3A12598163031%7C16757432031&rnid=12598141031&s=computers&sr=1-15',\n",
       " 'https://www.amazon.in/Dell-i7-1165G7-Inspiron-5410-D560469WIN9S/dp/B095S9NJ4S/ref=sr_1_16?dchild=1&keywords=Laptop&qid=1631198919&refinements=p_n_feature_thirteen_browse-bin%3A12598163031%7C16757432031&rnid=12598141031&s=computers&sr=1-16',\n",
       " 'https://www.amazon.in/15-6-inch-HP-ZBook-15-Workstation/dp/B09DQ4DZ5N/ref=sr_1_17?dchild=1&keywords=Laptop&qid=1631198919&refinements=p_n_feature_thirteen_browse-bin%3A12598163031%7C16757432031&rnid=12598141031&s=computers&sr=1-17',\n",
       " 'https://www.amazon.in/ASUS-i7-1165G7-35-56cms-Graphics-UX325EA-KG701TS/dp/B095C55Q7P/ref=sr_1_18?dchild=1&keywords=Laptop&qid=1631198919&refinements=p_n_feature_thirteen_browse-bin%3A12598163031%7C16757432031&rnid=12598141031&s=computers&sr=1-18',\n",
       " 'https://www.amazon.in/ASUS-VivoBook-i7-1165G7-Graphics-S433EA-AM701TS/dp/B08PQTZB3Z/ref=sr_1_19?dchild=1&keywords=Laptop&qid=1631198919&refinements=p_n_feature_thirteen_browse-bin%3A12598163031%7C16757432031&rnid=12598141031&s=computers&sr=1-19',\n",
       " 'https://www.amazon.in/ASUS-VivoBook-S532EQ-BQ702TS-I7-1165G7-SILVER/dp/B08PZ3VRCS/ref=sr_1_20?dchild=1&keywords=Laptop&qid=1631198919&refinements=p_n_feature_thirteen_browse-bin%3A12598163031%7C16757432031&rnid=12598141031&s=computers&sr=1-20',\n",
       " 'https://www.amazon.in/15-6-inch-HP-ZBook-15-Workstation/dp/B09DQ2BSRJ/ref=sr_1_21?dchild=1&keywords=Laptop&qid=1631198919&refinements=p_n_feature_thirteen_browse-bin%3A12598163031%7C16757432031&rnid=12598141031&s=computers&sr=1-21',\n",
       " 'https://www.amazon.in/15-6-inch-HP-ZBook-15-Workstation/dp/B09DQ4V2F8/ref=sr_1_22?dchild=1&keywords=Laptop&qid=1631198919&refinements=p_n_feature_thirteen_browse-bin%3A12598163031%7C16757432031&rnid=12598141031&s=computers&sr=1-22',\n",
       " 'https://www.amazon.in/15-6-inch-HP-ZBook-15-Workstation/dp/B09DQ437H3/ref=sr_1_23?dchild=1&keywords=Laptop&qid=1631198919&refinements=p_n_feature_thirteen_browse-bin%3A12598163031%7C16757432031&rnid=12598141031&s=computers&sr=1-23',\n",
       " 'https://www.amazon.in/15-6-inch-HP-ZBook-15-Workstation/dp/B09DWC3DCH/ref=sr_1_24?dchild=1&keywords=Laptop&qid=1631198919&refinements=p_n_feature_thirteen_browse-bin%3A12598163031%7C16757432031&rnid=12598141031&s=computers&sr=1-24',\n",
       " 'https://www.amazon.in/15-6-inch-HP-ZBook-15-Workstation/dp/B09DQ2ZPWJ/ref=sr_1_25?dchild=1&keywords=Laptop&qid=1631198919&refinements=p_n_feature_thirteen_browse-bin%3A12598163031%7C16757432031&rnid=12598141031&s=computers&sr=1-25']"
      ]
     },
     "execution_count": 86,
     "metadata": {},
     "output_type": "execute_result"
    }
   ],
   "source": [
    "urls"
   ]
  },
  {
   "cell_type": "code",
   "execution_count": 89,
   "id": "bf13cda5",
   "metadata": {},
   "outputs": [],
   "source": [
    "ratings=[]"
   ]
  },
  {
   "cell_type": "code",
   "execution_count": 92,
   "id": "cdace043",
   "metadata": {},
   "outputs": [],
   "source": [
    "#using try-except method\n",
    "for i in range(0,10):\n",
    "    try:\n",
    "        rate=driver.find_elements_by_xpath('//span[@class=\"a-size-medium a-color-base\"]') #fetching rating tag using xpath\n",
    "        ratings.append(rate.text)\n",
    "    except:\n",
    "        ratings.append('-')"
   ]
  },
  {
   "cell_type": "code",
   "execution_count": 94,
   "id": "c1ee4298",
   "metadata": {},
   "outputs": [
    {
     "data": {
      "text/plain": [
       "['4.4 out of 5',\n",
       " '4.4 out of 5',\n",
       " '4.4 out of 5',\n",
       " '4.4 out of 5',\n",
       " '4.4 out of 5',\n",
       " '4.4 out of 5',\n",
       " '4.4 out of 5',\n",
       " '4.4 out of 5',\n",
       " '4.4 out of 5',\n",
       " '4.4 out of 5']"
      ]
     },
     "execution_count": 94,
     "metadata": {},
     "output_type": "execute_result"
    }
   ],
   "source": [
    "ratings[0:10]"
   ]
  },
  {
   "cell_type": "code",
   "execution_count": 95,
   "id": "ac6ef3db",
   "metadata": {},
   "outputs": [],
   "source": [
    "price=[] #empty list to store price data"
   ]
  },
  {
   "cell_type": "code",
   "execution_count": 102,
   "id": "02e8c06c",
   "metadata": {},
   "outputs": [],
   "source": [
    "for i in range(0,10):\n",
    "    for j in driver.find_elements_by_xpath(\"//span[@class='a-price']\"): #fetching price using xpath\n",
    "        price.append(j.text)"
   ]
  },
  {
   "cell_type": "code",
   "execution_count": 105,
   "id": "0e3054fe",
   "metadata": {},
   "outputs": [
    {
     "data": {
      "text/plain": [
       "['1,23,300',\n",
       " '76,999',\n",
       " '77,990',\n",
       " '1,13,990',\n",
       " '87,990',\n",
       " '73,990',\n",
       " '57,990',\n",
       " '1,23,300',\n",
       " '72,999',\n",
       " '1,19,499']"
      ]
     },
     "execution_count": 105,
     "metadata": {},
     "output_type": "execute_result"
    }
   ],
   "source": [
    "price[0:10]"
   ]
  },
  {
   "cell_type": "code",
   "execution_count": null,
   "id": "8ce26e08",
   "metadata": {},
   "outputs": [],
   "source": []
  }
 ],
 "metadata": {
  "kernelspec": {
   "display_name": "Python 3",
   "language": "python",
   "name": "python3"
  },
  "language_info": {
   "codemirror_mode": {
    "name": "ipython",
    "version": 3
   },
   "file_extension": ".py",
   "mimetype": "text/x-python",
   "name": "python",
   "nbconvert_exporter": "python",
   "pygments_lexer": "ipython3",
   "version": "3.8.8"
  }
 },
 "nbformat": 4,
 "nbformat_minor": 5
}
